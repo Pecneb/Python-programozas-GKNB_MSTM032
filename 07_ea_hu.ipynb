{
 "cells": [
  {
   "cell_type": "markdown",
   "metadata": {},
   "source": [
    "## [Modulok](https://docs.python.org/3/tutorial/modules.html) és [csomagok](https://docs.python.org/3/tutorial/modules.html#packages)\n",
    "\n",
    "**Modul**: Python nyelvű fájl.\n",
    "- Definíciókat és utasításokat tartalmaz.\n",
    "- Ha a modulhoz az `xyz.py` fájl tartozik, akkor a modulra `xyz` néven lehet hivatkozni.\n",
    "- A modulok más Python programokból importálhatók.\n",
    "\n",
    "**Csomag**: Modulok gyűjteménye.\n",
    "- Egy csomag alcsomagokat/almodulokat is tartalmazhat. A hierarchiát a csomagon belüli könyvtárszerkezet határozza meg.\n",
    "- A standard csomagok és modulok a standard könyvtárban találhatók, és nem igényelnek telepítést.\n",
    "- A külső csomagok gyűjtőhelye a PyPI (https://pypi.python.org/pypi)."
   ]
  },
  {
   "cell_type": "code",
   "execution_count": 6,
   "metadata": {},
   "outputs": [],
   "source": [
    "# Modul/csomag importálása.\n",
    "import random"
   ]
  },
  {
   "cell_type": "code",
   "execution_count": 7,
   "metadata": {},
   "outputs": [
    {
     "data": {
      "text/plain": [
       "67"
      ]
     },
     "execution_count": 7,
     "metadata": {},
     "output_type": "execute_result"
    }
   ],
   "source": [
    "random.randint(1, 100)"
   ]
  },
  {
   "cell_type": "code",
   "execution_count": 9,
   "metadata": {},
   "outputs": [
    {
     "data": {
      "text/plain": [
       "72"
      ]
     },
     "execution_count": 9,
     "metadata": {},
     "output_type": "execute_result"
    }
   ],
   "source": [
    "# Függvény importálása egy modulból/csomagból.\n",
    "from random import randint\n",
    "randint(1, 100)"
   ]
  },
  {
   "cell_type": "code",
   "execution_count": 12,
   "metadata": {},
   "outputs": [
    {
     "data": {
      "text/plain": [
       "-0.07031889920664014"
      ]
     },
     "execution_count": 12,
     "metadata": {},
     "output_type": "execute_result"
    }
   ],
   "source": [
    "# Modul/csomag teljes tartalmának importálása. (Megjegyzés: Ez a megoldás általában kerülendő.)\n",
    "from random import *\n",
    "normalvariate(0, 1)"
   ]
  },
  {
   "cell_type": "code",
   "execution_count": 14,
   "metadata": {},
   "outputs": [
    {
     "data": {
      "text/plain": [
       "'/tmp'"
      ]
     },
     "execution_count": 14,
     "metadata": {},
     "output_type": "execute_result"
    }
   ],
   "source": [
    "# Függvény importálása almodulból/alcsomagból.\n",
    "from os.path import dirname\n",
    "dirname('/tmp/pistike.txt')"
   ]
  },
  {
   "cell_type": "code",
   "execution_count": 16,
   "metadata": {},
   "outputs": [],
   "source": [
    "# Modul/csomag importálása rövidített néven.\n",
    "import numpy as np # a numpy csomag importálása np néven\n",
    "                   # (a numpy külső csomag)"
   ]
  },
  {
   "cell_type": "code",
   "execution_count": 17,
   "metadata": {},
   "outputs": [
    {
     "data": {
      "text/plain": [
       "1.0"
      ]
     },
     "execution_count": 17,
     "metadata": {},
     "output_type": "execute_result"
    }
   ],
   "source": [
    "np.cos(0)"
   ]
  },
  {
   "cell_type": "markdown",
   "metadata": {},
   "source": [
    "## Fejezetek a [standard könyvtárból](https://docs.python.org/3/library/index.html) I.\n",
    "\n",
    "- A Python standard könyvtára több mint 200 csomagot ill. modult tartalmaz. Szabványos megoldást biztosít a programozás mindennapjaiban felmerülő számos feladatra.\n",
    "- A kurzuson csak a standard könyvtár egy kis részének az áttekintésére vállalkozunk.\n",
    "- A jó programozó nem találja fel újra a spanyolviaszt. Ha lehetséges, akkor a standard könyvtár eszközeivel oldja meg a feladatot."
   ]
  },
  {
   "cell_type": "markdown",
   "metadata": {},
   "source": [
    "#### [datetime](https://docs.python.org/3/library/datetime.html)\n",
    "- Dátum- és időkezelésre biztosít eszközöket.\n",
    "- Támogatja a dátumaritmetikát, kezeli az időzónákat, óraátállítást, szökőéveket stb.\n",
    "- Időzónamentes és időzónával rendelkező dátumokat is megenged."
   ]
  },
  {
   "cell_type": "code",
   "execution_count": 3,
   "metadata": {},
   "outputs": [],
   "source": [
    "import datetime"
   ]
  },
  {
   "cell_type": "code",
   "execution_count": 20,
   "metadata": {},
   "outputs": [
    {
     "data": {
      "text/plain": [
       "datetime.datetime(2021, 3, 8, 9, 0, 10, 300)"
      ]
     },
     "execution_count": 20,
     "metadata": {},
     "output_type": "execute_result"
    }
   ],
   "source": [
    "# Mikroszekundum pontosságú időpont megadása.\n",
    "dt1 = datetime.datetime(2021, 3, 8, 9, 0, 10, 300)\n",
    "dt1"
   ]
  },
  {
   "cell_type": "code",
   "execution_count": 21,
   "metadata": {},
   "outputs": [
    {
     "data": {
      "text/plain": [
       "datetime.datetime"
      ]
     },
     "execution_count": 21,
     "metadata": {},
     "output_type": "execute_result"
    }
   ],
   "source": [
    "type(dt1)"
   ]
  },
  {
   "cell_type": "code",
   "execution_count": 24,
   "metadata": {},
   "outputs": [
    {
     "data": {
      "text/plain": [
       "datetime.date(2020, 12, 6)"
      ]
     },
     "execution_count": 24,
     "metadata": {},
     "output_type": "execute_result"
    }
   ],
   "source": [
    "# Nap pontosságú dátum megadása.\n",
    "d1 = datetime.date(2020, 12, 6)\n",
    "d1"
   ]
  },
  {
   "cell_type": "code",
   "execution_count": 25,
   "metadata": {},
   "outputs": [
    {
     "data": {
      "text/plain": [
       "datetime.date"
      ]
     },
     "execution_count": 25,
     "metadata": {},
     "output_type": "execute_result"
    }
   ],
   "source": [
    "type(d1)"
   ]
  },
  {
   "cell_type": "code",
   "execution_count": 29,
   "metadata": {},
   "outputs": [],
   "source": [
    "# Időpont aritmetika.\n",
    "dt2 = datetime.datetime(2021, 1, 15, 12, 0, 10)\n",
    "diff = dt1 - dt2"
   ]
  },
  {
   "cell_type": "code",
   "execution_count": 30,
   "metadata": {},
   "outputs": [
    {
     "data": {
      "text/plain": [
       "datetime.timedelta(51, 75600, 300)"
      ]
     },
     "execution_count": 30,
     "metadata": {},
     "output_type": "execute_result"
    }
   ],
   "source": [
    "diff"
   ]
  },
  {
   "cell_type": "code",
   "execution_count": 31,
   "metadata": {},
   "outputs": [
    {
     "data": {
      "text/plain": [
       "datetime.timedelta"
      ]
     },
     "execution_count": 31,
     "metadata": {},
     "output_type": "execute_result"
    }
   ],
   "source": [
    "type(diff)"
   ]
  },
  {
   "cell_type": "code",
   "execution_count": 35,
   "metadata": {},
   "outputs": [
    {
     "name": "stdout",
     "output_type": "stream",
     "text": [
      "51\n",
      "75600\n",
      "300\n"
     ]
    }
   ],
   "source": [
    "# Az eltérés 51 nap + 75600 másodperc 300 mikroszekundum.\n",
    "print(diff.days)\n",
    "print(diff.seconds)\n",
    "print(diff.microseconds)"
   ]
  },
  {
   "cell_type": "code",
   "execution_count": 36,
   "metadata": {},
   "outputs": [
    {
     "data": {
      "text/plain": [
       "4482000.0003"
      ]
     },
     "execution_count": 36,
     "metadata": {},
     "output_type": "execute_result"
    }
   ],
   "source": [
    "# Másodpercben kifejezve:\n",
    "diff.total_seconds()"
   ]
  },
  {
   "cell_type": "code",
   "execution_count": 40,
   "metadata": {},
   "outputs": [
    {
     "data": {
      "text/plain": [
       "datetime.datetime(2021, 3, 16, 4, 0)"
      ]
     },
     "execution_count": 40,
     "metadata": {},
     "output_type": "execute_result"
    }
   ],
   "source": [
    "# Adjunk hozzá 8 órát egy időponthoz!\n",
    "datetime.datetime(2021, 3, 15, 20, 0) + datetime.timedelta(0, 8 * 3600)"
   ]
  },
  {
   "cell_type": "code",
   "execution_count": 43,
   "metadata": {},
   "outputs": [
    {
     "data": {
      "text/plain": [
       "44261"
      ]
     },
     "execution_count": 43,
     "metadata": {},
     "output_type": "execute_result"
    }
   ],
   "source": [
    "# Aritmetika nap pontosságú dátumokkal.\n",
    "(datetime.date(2021, 3, 8) - datetime.date(1900, 1, 1)).days"
   ]
  },
  {
   "cell_type": "code",
   "execution_count": 4,
   "metadata": {},
   "outputs": [
    {
     "data": {
      "text/plain": [
       "datetime.datetime(2021, 5, 12, 22, 25, 27, 157172)"
      ]
     },
     "execution_count": 4,
     "metadata": {},
     "output_type": "execute_result"
    }
   ],
   "source": [
    "# Aktuális idő lekérdezése.\n",
    "dt = datetime.datetime.now()\n",
    "dt"
   ]
  },
  {
   "cell_type": "code",
   "execution_count": 5,
   "metadata": {},
   "outputs": [
    {
     "name": "stdout",
     "output_type": "stream",
     "text": [
      "2021\n",
      "5\n",
      "12\n",
      "22\n",
      "25\n",
      "27\n",
      "157172\n"
     ]
    }
   ],
   "source": [
    "# A datetime objektum mezőinek lekérése.\n",
    "print(dt.year)\n",
    "print(dt.month)\n",
    "print(dt.day)\n",
    "print(dt.hour)\n",
    "print(dt.minute)\n",
    "print(dt.second)\n",
    "print(dt.microsecond)"
   ]
  },
  {
   "cell_type": "code",
   "execution_count": 54,
   "metadata": {},
   "outputs": [
    {
     "data": {
      "text/plain": [
       "0"
      ]
     },
     "execution_count": 54,
     "metadata": {},
     "output_type": "execute_result"
    }
   ],
   "source": [
    "# A hét napjának lekérdezése (0=hétfő, ..., 6=vasárnap):\n",
    "dt.weekday()"
   ]
  },
  {
   "cell_type": "code",
   "execution_count": 62,
   "metadata": {},
   "outputs": [
    {
     "name": "stdout",
     "output_type": "stream",
     "text": [
      "Kérek egy dátumot (éééé-hh-nn): 2021-03-08\n",
      "67\n"
     ]
    }
   ],
   "source": [
    "# Feladat: Készítsünk programot, amely bekér egy dátumot (év, hónap, nap), majd kiírja,\n",
    "# hogy a dátum hányadik nap az adott évben!\n",
    "\n",
    "s = input('Kérek egy dátumot (éééé-hh-nn): ')\n",
    "t = s.split('-')\n",
    "dt = datetime.date(int(t[0]), int(t[1]), int(t[2]))\n",
    "n = (dt - datetime.date(dt.year, 1, 1)).days + 1\n",
    "print(n)"
   ]
  },
  {
   "cell_type": "markdown",
   "metadata": {},
   "source": [
    "#### [time](https://docs.python.org/3/library/time.html)\n",
    "- Alacsony szintű időkezelésre ad eszközöket, ide tartozik pl. az időtartam mérés és a várakozás."
   ]
  },
  {
   "cell_type": "code",
   "execution_count": 63,
   "metadata": {},
   "outputs": [],
   "source": [
    "import time"
   ]
  },
  {
   "cell_type": "code",
   "execution_count": 64,
   "metadata": {},
   "outputs": [
    {
     "data": {
      "text/plain": [
       "1615191950.3327155"
      ]
     },
     "execution_count": 64,
     "metadata": {},
     "output_type": "execute_result"
    }
   ],
   "source": [
    "# Aktuális idő lekérdezése (UNIX időbélyegként).\n",
    "time.time() # 1970-01-01 óta eltelt idő, másodpercben"
   ]
  },
  {
   "cell_type": "code",
   "execution_count": 72,
   "metadata": {},
   "outputs": [
    {
     "name": "stdout",
     "output_type": "stream",
     "text": [
      "s=1.64493306684777, dt=0.3644402027130127\n"
     ]
    }
   ],
   "source": [
    "# Időtartam mérés.\n",
    "\n",
    "t0 = time.time()\n",
    "s = 0\n",
    "for k in range(1, 1000000):\n",
    "    s += 1 / k**2\n",
    "dt = time.time() - t0\n",
    "print(f's={s}, dt={dt}')"
   ]
  },
  {
   "cell_type": "code",
   "execution_count": 74,
   "metadata": {},
   "outputs": [],
   "source": [
    "# Várakozás 2 másodpercig.\n",
    "time.sleep(2)"
   ]
  },
  {
   "cell_type": "markdown",
   "metadata": {},
   "source": [
    "#### [math](https://docs.python.org/3/library/math.html)\n",
    "\n",
    "- Alapvető matematikai függvényeket tartalmaz.\n",
    "- Jótanács: Egy NumPy alapú kódban ne a math modul függvényeit használjuk, hanem a NumPy beépített függvényeit!"
   ]
  },
  {
   "cell_type": "code",
   "execution_count": 75,
   "metadata": {},
   "outputs": [],
   "source": [
    "import math"
   ]
  },
  {
   "cell_type": "code",
   "execution_count": 76,
   "metadata": {},
   "outputs": [
    {
     "data": {
      "text/plain": [
       "2.718281828459045"
      ]
     },
     "execution_count": 76,
     "metadata": {},
     "output_type": "execute_result"
    }
   ],
   "source": [
    "# Exponenciális függvény.\n",
    "math.exp(1)"
   ]
  },
  {
   "cell_type": "code",
   "execution_count": 77,
   "metadata": {},
   "outputs": [
    {
     "data": {
      "text/plain": [
       "7.38905609893065"
      ]
     },
     "execution_count": 77,
     "metadata": {},
     "output_type": "execute_result"
    }
   ],
   "source": [
    "math.exp(2)"
   ]
  },
  {
   "cell_type": "code",
   "execution_count": 78,
   "metadata": {},
   "outputs": [
    {
     "data": {
      "text/plain": [
       "2.302585092994046"
      ]
     },
     "execution_count": 78,
     "metadata": {},
     "output_type": "execute_result"
    }
   ],
   "source": [
    "# Természetes alapú logaritmus.\n",
    "math.log(10)"
   ]
  },
  {
   "cell_type": "code",
   "execution_count": 80,
   "metadata": {},
   "outputs": [
    {
     "data": {
      "text/plain": [
       "3.0"
      ]
     },
     "execution_count": 80,
     "metadata": {},
     "output_type": "execute_result"
    }
   ],
   "source": [
    "# q alapú logaritmus\n",
    "math.log(8, 2)"
   ]
  },
  {
   "cell_type": "code",
   "execution_count": 81,
   "metadata": {},
   "outputs": [
    {
     "data": {
      "text/plain": [
       "0.0"
      ]
     },
     "execution_count": 81,
     "metadata": {},
     "output_type": "execute_result"
    }
   ],
   "source": [
    "# Trigonometrikus függvények és inverzeik.\n",
    "math.sin(0)"
   ]
  },
  {
   "cell_type": "code",
   "execution_count": 82,
   "metadata": {},
   "outputs": [
    {
     "data": {
      "text/plain": [
       "0.8414709848078965"
      ]
     },
     "execution_count": 82,
     "metadata": {},
     "output_type": "execute_result"
    }
   ],
   "source": [
    "math.sin(1) # a szöget radiánban adjuk meg"
   ]
  },
  {
   "cell_type": "code",
   "execution_count": 83,
   "metadata": {},
   "outputs": [
    {
     "data": {
      "text/plain": [
       "1.0"
      ]
     },
     "execution_count": 83,
     "metadata": {},
     "output_type": "execute_result"
    }
   ],
   "source": [
    "math.cos(0)"
   ]
  },
  {
   "cell_type": "code",
   "execution_count": 84,
   "metadata": {},
   "outputs": [
    {
     "data": {
      "text/plain": [
       "-2.185039863261519"
      ]
     },
     "execution_count": 84,
     "metadata": {},
     "output_type": "execute_result"
    }
   ],
   "source": [
    "math.tan(2)"
   ]
  },
  {
   "cell_type": "code",
   "execution_count": 85,
   "metadata": {},
   "outputs": [
    {
     "data": {
      "text/plain": [
       "0.0"
      ]
     },
     "execution_count": 85,
     "metadata": {},
     "output_type": "execute_result"
    }
   ],
   "source": [
    "math.asin(0)"
   ]
  },
  {
   "cell_type": "code",
   "execution_count": 86,
   "metadata": {},
   "outputs": [
    {
     "data": {
      "text/plain": [
       "1.5707963267948966"
      ]
     },
     "execution_count": 86,
     "metadata": {},
     "output_type": "execute_result"
    }
   ],
   "source": [
    "math.acos(0)"
   ]
  },
  {
   "cell_type": "code",
   "execution_count": 87,
   "metadata": {},
   "outputs": [
    {
     "data": {
      "text/plain": [
       "90.0"
      ]
     },
     "execution_count": 87,
     "metadata": {},
     "output_type": "execute_result"
    }
   ],
   "source": [
    "math.degrees(math.acos(0)) # radián konvertálása fokra"
   ]
  },
  {
   "cell_type": "code",
   "execution_count": 88,
   "metadata": {},
   "outputs": [
    {
     "data": {
      "text/plain": [
       "3.141592653589793"
      ]
     },
     "execution_count": 88,
     "metadata": {},
     "output_type": "execute_result"
    }
   ],
   "source": [
    "# pi, e\n",
    "math.pi"
   ]
  },
  {
   "cell_type": "code",
   "execution_count": 89,
   "metadata": {},
   "outputs": [
    {
     "data": {
      "text/plain": [
       "2.718281828459045"
      ]
     },
     "execution_count": 89,
     "metadata": {},
     "output_type": "execute_result"
    }
   ],
   "source": [
    "math.e"
   ]
  },
  {
   "cell_type": "code",
   "execution_count": 103,
   "metadata": {},
   "outputs": [],
   "source": [
    "# Feladat: Készítsünk függvényt, amely kiszámítja 2 térbeli vektor közbezárt szögét!\n",
    "\n",
    "# <u, v> = ux*vx + uy*vy + uz*vz = |u|*|v|*cos(alpha)\n",
    "# |u| = sqrt(<u, u>)\n",
    "\n",
    "# u, v: lebegőpontos számok listája\n",
    "\n",
    "def dot(u, v):\n",
    "    return u[0] * v[0] + u[1] * v[1] + u[2] * v[2]\n",
    "\n",
    "def compute_angle(u, v):\n",
    "    u_abs = dot(u, u)**0.5\n",
    "    v_abs = dot(v, v)**0.5\n",
    "    t = dot(u, v) / (u_abs * v_abs)\n",
    "    t = max(min(t, 1), -1)\n",
    "    return math.degrees(math.acos(t))"
   ]
  },
  {
   "cell_type": "code",
   "execution_count": 104,
   "metadata": {},
   "outputs": [
    {
     "data": {
      "text/plain": [
       "44.415308597192976"
      ]
     },
     "execution_count": 104,
     "metadata": {},
     "output_type": "execute_result"
    }
   ],
   "source": [
    "compute_angle([1, 2, 3], [3, 2, 1])"
   ]
  },
  {
   "cell_type": "code",
   "execution_count": 105,
   "metadata": {},
   "outputs": [
    {
     "data": {
      "text/plain": [
       "90.0"
      ]
     },
     "execution_count": 105,
     "metadata": {},
     "output_type": "execute_result"
    }
   ],
   "source": [
    "compute_angle([1, 0, 0], [0, 1, 0])"
   ]
  },
  {
   "cell_type": "code",
   "execution_count": 106,
   "metadata": {},
   "outputs": [
    {
     "data": {
      "text/plain": [
       "0.0"
      ]
     },
     "execution_count": 106,
     "metadata": {},
     "output_type": "execute_result"
    }
   ],
   "source": [
    "compute_angle([1, 1, 1], [2, 2, 2])"
   ]
  },
  {
   "cell_type": "markdown",
   "metadata": {},
   "source": [
    "#### [random](https://docs.python.org/3/library/random.html)\n",
    "- Álvéletlenszám-generálásra biztosít eszközöket."
   ]
  },
  {
   "cell_type": "code",
   "execution_count": 107,
   "metadata": {},
   "outputs": [],
   "source": [
    "import random"
   ]
  },
  {
   "cell_type": "code",
   "execution_count": 108,
   "metadata": {},
   "outputs": [
    {
     "data": {
      "text/plain": [
       "30"
      ]
     },
     "execution_count": 108,
     "metadata": {},
     "output_type": "execute_result"
    }
   ],
   "source": [
    "# Egész szám sorsolása egy intervallumból.\n",
    "random.randint(1, 100)"
   ]
  },
  {
   "cell_type": "code",
   "execution_count": 110,
   "metadata": {},
   "outputs": [
    {
     "data": {
      "text/plain": [
       "96"
      ]
     },
     "execution_count": 110,
     "metadata": {},
     "output_type": "execute_result"
    }
   ],
   "source": [
    "# ...ha a felső határt ki akarjuk zárni:\n",
    "random.randrange(1, 100) # 1 és 99 közötti véletlen egész számot generál"
   ]
  },
  {
   "cell_type": "code",
   "execution_count": 113,
   "metadata": {},
   "outputs": [
    {
     "data": {
      "text/plain": [
       "5.253983066220527"
      ]
     },
     "execution_count": 113,
     "metadata": {},
     "output_type": "execute_result"
    }
   ],
   "source": [
    "# Valós szám sorsolása egy intervallumból.\n",
    "random.uniform(-2.2, 5.4)"
   ]
  },
  {
   "cell_type": "code",
   "execution_count": 115,
   "metadata": {},
   "outputs": [
    {
     "data": {
      "text/plain": [
       "0.0626587719181209"
      ]
     },
     "execution_count": 115,
     "metadata": {},
     "output_type": "execute_result"
    }
   ],
   "source": [
    "# Sorsolás standard normális eloszlásból.\n",
    "random.normalvariate(0, 1)"
   ]
  },
  {
   "cell_type": "code",
   "execution_count": 116,
   "metadata": {},
   "outputs": [
    {
     "name": "stdout",
     "output_type": "stream",
     "text": [
      "82\n",
      "15\n",
      "4\n"
     ]
    }
   ],
   "source": [
    "# Véletlenszám generátor állapotának beállítása.\n",
    "random.seed(42)\n",
    "print(random.randint(1, 100))\n",
    "print(random.randint(1, 100))\n",
    "print(random.randint(1, 100))"
   ]
  },
  {
   "cell_type": "code",
   "execution_count": 117,
   "metadata": {},
   "outputs": [
    {
     "name": "stdout",
     "output_type": "stream",
     "text": [
      "82\n",
      "15\n",
      "4\n"
     ]
    }
   ],
   "source": [
    "random.seed(42)\n",
    "print(random.randint(1, 100))\n",
    "print(random.randint(1, 100))\n",
    "print(random.randint(1, 100))"
   ]
  },
  {
   "cell_type": "code",
   "execution_count": 119,
   "metadata": {},
   "outputs": [],
   "source": [
    "random.seed() # állapot visszaállítása véletlenszerűre"
   ]
  },
  {
   "cell_type": "code",
   "execution_count": 121,
   "metadata": {},
   "outputs": [
    {
     "name": "stdout",
     "output_type": "stream",
     "text": [
      "82\n",
      "82\n",
      "15\n",
      "15\n"
     ]
    }
   ],
   "source": [
    "# Véletlenszám generátor objektum létrehozása.\n",
    "r1 = random.Random(42)\n",
    "r2 = random.Random(42)\n",
    "\n",
    "print(r1.randint(1, 100))\n",
    "print(r2.randint(1, 100))\n",
    "print(r1.randint(1, 100))\n",
    "print(r2.randint(1, 100))"
   ]
  },
  {
   "cell_type": "code",
   "execution_count": 127,
   "metadata": {},
   "outputs": [
    {
     "data": {
      "text/plain": [
       "'körte'"
      ]
     },
     "execution_count": 127,
     "metadata": {},
     "output_type": "execute_result"
    }
   ],
   "source": [
    "# Elem kisorsolása egy szekvenciából.\n",
    "random.choice(['alma', 'körte', 112])"
   ]
  },
  {
   "cell_type": "code",
   "execution_count": 130,
   "metadata": {},
   "outputs": [
    {
     "data": {
      "text/plain": [
       "[24, 89, 27, 2, 61]"
      ]
     },
     "execution_count": 130,
     "metadata": {},
     "output_type": "execute_result"
    }
   ],
   "source": [
    "# Visszatevés nélküli mintavétel.\n",
    "random.sample(range(1, 91), 5)"
   ]
  },
  {
   "cell_type": "code",
   "execution_count": 141,
   "metadata": {},
   "outputs": [
    {
     "name": "stdout",
     "output_type": "stream",
     "text": [
      "Kérek egy szöveget: mogyoróbokor\n",
      "gróobookrmyo\n"
     ]
    }
   ],
   "source": [
    "# Feladat: Készítsünk programot, amely bekér egy szöveget,\n",
    "# majd véletlenszerűen összekeveri (permutálja) a bekért szöveg karaktereit, és kiírja az eredményt!\n",
    "text = input('Kérek egy szöveget: ')\n",
    "print(''.join(random.sample(text, len(text))))"
   ]
  },
  {
   "cell_type": "code",
   "execution_count": 153,
   "metadata": {},
   "outputs": [
    {
     "name": "stdout",
     "output_type": "stream",
     "text": [
      " 2: 2.71\n",
      " 3: 5.09\n",
      " 4: 8.18\n",
      " 5: 11.43\n",
      " 6: 14.19\n",
      " 7: 16.58\n",
      " 8: 14.13\n",
      " 9: 10.84\n",
      "10: 8.29\n",
      "11: 5.79\n",
      "12: 2.77\n"
     ]
    }
   ],
   "source": [
    "# Feladat: Készítsünk programot, amely szimulál egy 10000 hosszú dobás sorozatot 2 db dobókockával,\n",
    "# majd kiírja, hogy az esetek hány százalékában volt a dobások összege 2, 3, ..., 12!\n",
    "n = 10000\n",
    "freq = [0] * 13\n",
    "for i in range(n):\n",
    "    s = random.randint(1, 6) + random.randint(1, 6) # dobások szimulálása\n",
    "    freq[s] += 1                                    # megfelelő számláló frissítése\n",
    "    \n",
    "# kiírás\n",
    "for s in range(2, 13):\n",
    "    print(f'{s:2}: {freq[s] / n * 100:.2f}')"
   ]
  },
  {
   "cell_type": "code",
   "execution_count": 148,
   "metadata": {},
   "outputs": [
    {
     "data": {
      "text/plain": [
       "[0, 0, 269, 562, 830, 1158, 1387, 1678, 1384, 1092, 819, 540, 281]"
      ]
     },
     "execution_count": 148,
     "metadata": {},
     "output_type": "execute_result"
    }
   ],
   "source": [
    "freq"
   ]
  }
 ],
 "metadata": {
  "kernelspec": {
   "display_name": "Python 3 (ipykernel)",
   "language": "python",
   "name": "python3"
  },
  "language_info": {
   "codemirror_mode": {
    "name": "ipython",
    "version": 3
   },
   "file_extension": ".py",
   "mimetype": "text/x-python",
   "name": "python",
   "nbconvert_exporter": "python",
   "pygments_lexer": "ipython3",
   "version": "3.9.13"
  }
 },
 "nbformat": 4,
 "nbformat_minor": 2
}
