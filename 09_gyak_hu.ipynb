{
 "cells": [
  {
   "cell_type": "markdown",
   "metadata": {},
   "source": [
    "### 1. feladat\n",
    "\n",
    "Készítsünk vektor osztályt, amely támogatja a vektorok közötti elemenkénti alapműveleteket (+, -, *, /), a vektor elemszámának lekérdezését, a haladó indexelést valamint a vektor sztringgé alakítását! Elvárt működés:\n",
    "```\n",
    "v1 = Vector([1.0, 2.0, 3.0])\n",
    "v2 = Vector([4.0, 5.0, 6.0])\n",
    "print(len(v1), v1[0], v1[:2]) # => 3 1.0 [1.0, 2.0]\n",
    "print(v1 + v2)                # => Vector([5.0, 7.0, 9.0])\n",
    "print(v1 * v2)                # => Vector([4.0, 10.0, 18.0]\n",
    "```"
   ]
  },
  {
   "cell_type": "code",
   "execution_count": 1,
   "metadata": {},
   "outputs": [],
   "source": [
    "class Vector:\n",
    "    def __init__(self, data):\n",
    "        self.data = data\n",
    "        \n",
    "    def __repr__(self):\n",
    "        return f'Vector({str(self.data)})'\n",
    "    \n",
    "    def __add__(self, other):\n",
    "        return Vector([x + y for x, y in zip(self.data, other.data)])\n",
    "\n",
    "    def __sub__(self, other):\n",
    "        return Vector([x - y for x, y in zip(self.data, other.data)])\n",
    "\n",
    "    def __mul__(self, other):\n",
    "        return Vector([x * y for x, y in zip(self.data, other.data)])\n",
    "\n",
    "    def __truediv__(self, other):\n",
    "        return Vector([x / y for x, y in zip(self.data, other.data)])\n",
    "    \n",
    "    def __len__(self):\n",
    "        return len(self.data)\n",
    "    \n",
    "    def __getitem__(self, idx):\n",
    "        return self.data[idx]"
   ]
  },
  {
   "cell_type": "code",
   "execution_count": 2,
   "metadata": {},
   "outputs": [],
   "source": [
    "# 2 vektor létrehozása\n",
    "v1 = Vector([1.0, 2.0, 3.0])\n",
    "v2 = Vector([4.0, 5.0, 6.0])"
   ]
  },
  {
   "cell_type": "code",
   "execution_count": 3,
   "metadata": {},
   "outputs": [
    {
     "data": {
      "text/plain": [
       "Vector([1.0, 2.0, 3.0])"
      ]
     },
     "execution_count": 3,
     "metadata": {},
     "output_type": "execute_result"
    }
   ],
   "source": [
    "v1"
   ]
  },
  {
   "cell_type": "code",
   "execution_count": 4,
   "metadata": {},
   "outputs": [
    {
     "data": {
      "text/plain": [
       "Vector([5.0, 7.0, 9.0])"
      ]
     },
     "execution_count": 4,
     "metadata": {},
     "output_type": "execute_result"
    }
   ],
   "source": [
    "# műveletek\n",
    "v1 + v2"
   ]
  },
  {
   "cell_type": "code",
   "execution_count": 5,
   "metadata": {},
   "outputs": [
    {
     "data": {
      "text/plain": [
       "Vector([-3.0, -3.0, -3.0])"
      ]
     },
     "execution_count": 5,
     "metadata": {},
     "output_type": "execute_result"
    }
   ],
   "source": [
    "v1 - v2"
   ]
  },
  {
   "cell_type": "code",
   "execution_count": 6,
   "metadata": {},
   "outputs": [
    {
     "data": {
      "text/plain": [
       "Vector([4.0, 10.0, 18.0])"
      ]
     },
     "execution_count": 6,
     "metadata": {},
     "output_type": "execute_result"
    }
   ],
   "source": [
    "v1 * v2"
   ]
  },
  {
   "cell_type": "code",
   "execution_count": 7,
   "metadata": {},
   "outputs": [
    {
     "data": {
      "text/plain": [
       "Vector([0.25, 0.4, 0.5])"
      ]
     },
     "execution_count": 7,
     "metadata": {},
     "output_type": "execute_result"
    }
   ],
   "source": [
    "v1 / v2"
   ]
  },
  {
   "cell_type": "code",
   "execution_count": 8,
   "metadata": {},
   "outputs": [
    {
     "data": {
      "text/plain": [
       "3"
      ]
     },
     "execution_count": 8,
     "metadata": {},
     "output_type": "execute_result"
    }
   ],
   "source": [
    "# elemszám lekérdezés\n",
    "len(v1)"
   ]
  },
  {
   "cell_type": "code",
   "execution_count": 9,
   "metadata": {},
   "outputs": [
    {
     "data": {
      "text/plain": [
       "1.0"
      ]
     },
     "execution_count": 9,
     "metadata": {},
     "output_type": "execute_result"
    }
   ],
   "source": [
    "# indexelés\n",
    "v1[0]"
   ]
  },
  {
   "cell_type": "code",
   "execution_count": 10,
   "metadata": {},
   "outputs": [
    {
     "data": {
      "text/plain": [
       "[1.0, 2.0]"
      ]
     },
     "execution_count": 10,
     "metadata": {},
     "output_type": "execute_result"
    }
   ],
   "source": [
    "# haladó indexelés\n",
    "v1[:2]"
   ]
  },
  {
   "cell_type": "code",
   "execution_count": 11,
   "metadata": {},
   "outputs": [
    {
     "data": {
      "text/plain": [
       "Vector([5.0, 7.0, 9.0])"
      ]
     },
     "execution_count": 11,
     "metadata": {},
     "output_type": "execute_result"
    }
   ],
   "source": [
    "# A műveletek a háttérben egyszerű függvényhívássá alakulnak át.\n",
    "v1 + v2"
   ]
  },
  {
   "cell_type": "code",
   "execution_count": 12,
   "metadata": {},
   "outputs": [
    {
     "data": {
      "text/plain": [
       "Vector([5.0, 7.0, 9.0])"
      ]
     },
     "execution_count": 12,
     "metadata": {},
     "output_type": "execute_result"
    }
   ],
   "source": [
    "Vector.__add__(v1, v2)"
   ]
  },
  {
   "cell_type": "markdown",
   "metadata": {},
   "source": [
    "### 2. feladat\n",
    "\n",
    "Készítsük el a [Conway-féle életjáték](https://hu.wikipedia.org/wiki/%C3%89letj%C3%A1t%C3%A9k) objektumorientált változatát!"
   ]
  },
  {
   "cell_type": "code",
   "execution_count": 13,
   "metadata": {},
   "outputs": [],
   "source": [
    "worldstr = '''\n",
    "....................\n",
    "....................\n",
    "....................\n",
    "....................\n",
    "....................\n",
    "....................\n",
    "....................\n",
    "....................\n",
    ".........oo.........\n",
    "........oo..........\n",
    ".........o..........\n",
    "....................\n",
    "....................\n",
    "....................\n",
    "....................\n",
    "....................\n",
    "....................\n",
    "....................\n",
    "....................\n",
    "....................\n",
    "'''.strip()"
   ]
  },
  {
   "cell_type": "code",
   "execution_count": 14,
   "metadata": {},
   "outputs": [
    {
     "name": "stdout",
     "output_type": "stream",
     "text": [
      "....................\n",
      "....................\n",
      "....................\n",
      "....................\n",
      "....................\n",
      "....................\n",
      "....................\n",
      "....................\n",
      ".........oo.........\n",
      "........oo..........\n",
      ".........o..........\n",
      "....................\n",
      "....................\n",
      "....................\n",
      "....................\n",
      "....................\n",
      "....................\n",
      "....................\n",
      "....................\n",
      "....................\n",
      "\n",
      "....................\n",
      "....................\n",
      "....................\n",
      "....................\n",
      "....................\n",
      "....................\n",
      "....................\n",
      "....................\n",
      "........ooo.........\n",
      "........o...........\n",
      "........oo..........\n",
      "....................\n",
      "....................\n",
      "....................\n",
      "....................\n",
      "....................\n",
      "....................\n",
      "....................\n",
      "....................\n",
      "....................\n"
     ]
    },
    {
     "ename": "KeyboardInterrupt",
     "evalue": "Interrupted by user",
     "output_type": "error",
     "traceback": [
      "\u001b[1;31m---------------------------------------------------------------------------\u001b[0m",
      "\u001b[1;31mKeyboardInterrupt\u001b[0m                         Traceback (most recent call last)",
      "\u001b[1;32m<ipython-input-14-507952edb998>\u001b[0m in \u001b[0;36m<module>\u001b[1;34m\u001b[0m\n\u001b[0;32m     40\u001b[0m     \u001b[0mdisplay_world\u001b[0m\u001b[1;33m(\u001b[0m\u001b[0mworld\u001b[0m\u001b[1;33m)\u001b[0m\u001b[1;33m\u001b[0m\u001b[1;33m\u001b[0m\u001b[0m\n\u001b[0;32m     41\u001b[0m     \u001b[0mworld\u001b[0m \u001b[1;33m=\u001b[0m \u001b[0mupdate_world\u001b[0m\u001b[1;33m(\u001b[0m\u001b[0mworld\u001b[0m\u001b[1;33m)\u001b[0m\u001b[1;33m\u001b[0m\u001b[1;33m\u001b[0m\u001b[0m\n\u001b[1;32m---> 42\u001b[1;33m     \u001b[0minput\u001b[0m\u001b[1;33m(\u001b[0m\u001b[1;33m)\u001b[0m\u001b[1;33m\u001b[0m\u001b[1;33m\u001b[0m\u001b[0m\n\u001b[0m",
      "\u001b[1;32mC:\\ProgramData\\Anaconda3\\lib\\site-packages\\ipykernel\\kernelbase.py\u001b[0m in \u001b[0;36mraw_input\u001b[1;34m(self, prompt)\u001b[0m\n\u001b[0;32m    858\u001b[0m                 \u001b[1;34m\"raw_input was called, but this frontend does not support input requests.\"\u001b[0m\u001b[1;33m\u001b[0m\u001b[1;33m\u001b[0m\u001b[0m\n\u001b[0;32m    859\u001b[0m             )\n\u001b[1;32m--> 860\u001b[1;33m         return self._input_request(str(prompt),\n\u001b[0m\u001b[0;32m    861\u001b[0m             \u001b[0mself\u001b[0m\u001b[1;33m.\u001b[0m\u001b[0m_parent_ident\u001b[0m\u001b[1;33m,\u001b[0m\u001b[1;33m\u001b[0m\u001b[1;33m\u001b[0m\u001b[0m\n\u001b[0;32m    862\u001b[0m             \u001b[0mself\u001b[0m\u001b[1;33m.\u001b[0m\u001b[0m_parent_header\u001b[0m\u001b[1;33m,\u001b[0m\u001b[1;33m\u001b[0m\u001b[1;33m\u001b[0m\u001b[0m\n",
      "\u001b[1;32mC:\\ProgramData\\Anaconda3\\lib\\site-packages\\ipykernel\\kernelbase.py\u001b[0m in \u001b[0;36m_input_request\u001b[1;34m(self, prompt, ident, parent, password)\u001b[0m\n\u001b[0;32m    902\u001b[0m             \u001b[1;32mexcept\u001b[0m \u001b[0mKeyboardInterrupt\u001b[0m\u001b[1;33m:\u001b[0m\u001b[1;33m\u001b[0m\u001b[1;33m\u001b[0m\u001b[0m\n\u001b[0;32m    903\u001b[0m                 \u001b[1;31m# re-raise KeyboardInterrupt, to truncate traceback\u001b[0m\u001b[1;33m\u001b[0m\u001b[1;33m\u001b[0m\u001b[1;33m\u001b[0m\u001b[0m\n\u001b[1;32m--> 904\u001b[1;33m                 \u001b[1;32mraise\u001b[0m \u001b[0mKeyboardInterrupt\u001b[0m\u001b[1;33m(\u001b[0m\u001b[1;34m\"Interrupted by user\"\u001b[0m\u001b[1;33m)\u001b[0m \u001b[1;32mfrom\u001b[0m \u001b[1;32mNone\u001b[0m\u001b[1;33m\u001b[0m\u001b[1;33m\u001b[0m\u001b[0m\n\u001b[0m\u001b[0;32m    905\u001b[0m             \u001b[1;32mexcept\u001b[0m \u001b[0mException\u001b[0m \u001b[1;32mas\u001b[0m \u001b[0me\u001b[0m\u001b[1;33m:\u001b[0m\u001b[1;33m\u001b[0m\u001b[1;33m\u001b[0m\u001b[0m\n\u001b[0;32m    906\u001b[0m                 \u001b[0mself\u001b[0m\u001b[1;33m.\u001b[0m\u001b[0mlog\u001b[0m\u001b[1;33m.\u001b[0m\u001b[0mwarning\u001b[0m\u001b[1;33m(\u001b[0m\u001b[1;34m\"Invalid Message:\"\u001b[0m\u001b[1;33m,\u001b[0m \u001b[0mexc_info\u001b[0m\u001b[1;33m=\u001b[0m\u001b[1;32mTrue\u001b[0m\u001b[1;33m)\u001b[0m\u001b[1;33m\u001b[0m\u001b[1;33m\u001b[0m\u001b[0m\n",
      "\u001b[1;31mKeyboardInterrupt\u001b[0m: Interrupted by user"
     ]
    }
   ],
   "source": [
    "# kezdőállapot beolvasása listák listájába\n",
    "world = [list(row) for row in worldstr.split('\\n')]\n",
    "\n",
    "def display_world(world):\n",
    "    for row in world:\n",
    "        print(''.join(row))\n",
    "        \n",
    "def count_neighbors(world, i, j):\n",
    "    nb = 0 # szomszédok szám\n",
    "    for di in [-1, 0, 1]: # végigmegyünk a szomszédos sorokon\n",
    "        for dj in [-1, 0, 1]: # végigmegyünk a szomszédos oszlopokon\n",
    "            if di == 0 and dj == 0: # önmagát ne számítsuk szomszédként\n",
    "                continue\n",
    "            if j + dj < 0 or i + di < 0: # negatív indext ne használjunk\n",
    "                continue\n",
    "            \n",
    "            try:\n",
    "                if world[i + di][j + dj] == 'o': # ha találtunk szomszédot\n",
    "                    nb += 1\n",
    "            except IndexError:\n",
    "                pass\n",
    "    return nb\n",
    "\n",
    "import copy\n",
    "\n",
    "def update_world(world):\n",
    "    nrows = len(world)\n",
    "    ncols = len(world[0])\n",
    "    new_world = copy.deepcopy(world) # másolat készítése\n",
    "    for i in range(nrows):\n",
    "        for j in range(ncols):\n",
    "            nb = count_neighbors(world, i, j)\n",
    "            if nb < 2 or nb > 3: # elpusztul a sejt\n",
    "                new_world[i][j] = '.'\n",
    "            elif nb == 3: # új sejt születik\n",
    "                new_world[i][j] = 'o'\n",
    "    return new_world\n",
    "\n",
    "while True:\n",
    "    display_world(world)\n",
    "    world = update_world(world)\n",
    "    input()"
   ]
  },
  {
   "cell_type": "code",
   "execution_count": 15,
   "metadata": {},
   "outputs": [],
   "source": [
    "import copy\n",
    "\n",
    "class Game:\n",
    "    def __init__(self, worldstr):\n",
    "        # kezdőállapot beolvasása listák listájába\n",
    "        self.world = [list(row) for row in worldstr.split('\\n')]\n",
    "    \n",
    "    def run(self, nsteps=None):\n",
    "        step = 0\n",
    "        while nsteps == None or step < nsteps:\n",
    "            self.display_world()             # megjelenítés\n",
    "            self.world = self.update_world() # léptetés\n",
    "            input()                          # enter bekérése\n",
    "            step += 1\n",
    "    \n",
    "    def update_world(self):\n",
    "        nrows = len(self.world)\n",
    "        ncols = len(self.world[0])\n",
    "        new_world = copy.deepcopy(self.world) # másolat készítése\n",
    "        for i in range(nrows):\n",
    "            for j in range(ncols):\n",
    "                nb = self.count_neighbors(i, j)\n",
    "                if nb < 2 or nb > 3: # elpusztul a sejt\n",
    "                    new_world[i][j] = '.'\n",
    "                elif nb == 3: # új sejt születik\n",
    "                    new_world[i][j] = 'o'\n",
    "        return new_world\n",
    "    \n",
    "    def display_world(self):\n",
    "        for row in self.world:\n",
    "            print(''.join(row))\n",
    "    \n",
    "    def count_neighbors(self, i, j):\n",
    "        nb = 0 # szomszédok száma\n",
    "        for di in [-1, 0, 1]: # végigmegyünk a szomszédos sorokon\n",
    "            for dj in [-1, 0, 1]: # végigmegyünk a szomszédos oszlopokon\n",
    "                if di == 0 and dj == 0: # önmagát ne számítsuk szomszédként\n",
    "                    continue\n",
    "                if j + dj < 0 or i + di < 0: # negatív indext ne használjunk\n",
    "                    continue\n",
    "\n",
    "                try:\n",
    "                    if self.world[i + di][j + dj] == 'o': # ha találtunk szomszédot\n",
    "                        nb += 1\n",
    "                except IndexError:\n",
    "                    pass\n",
    "        return nb"
   ]
  },
  {
   "cell_type": "code",
   "execution_count": 16,
   "metadata": {},
   "outputs": [
    {
     "name": "stdout",
     "output_type": "stream",
     "text": [
      "....................\n",
      "....................\n",
      "....................\n",
      "....................\n",
      "....................\n",
      "....................\n",
      "....................\n",
      "....................\n",
      ".........oo.........\n",
      "........oo..........\n",
      ".........o..........\n",
      "....................\n",
      "....................\n",
      "....................\n",
      "....................\n",
      "....................\n",
      "....................\n",
      "....................\n",
      "....................\n",
      "....................\n",
      "\n",
      "....................\n",
      "....................\n",
      "....................\n",
      "....................\n",
      "....................\n",
      "....................\n",
      "....................\n",
      "....................\n",
      "........ooo.........\n",
      "........o...........\n",
      "........oo..........\n",
      "....................\n",
      "....................\n",
      "....................\n",
      "....................\n",
      "....................\n",
      "....................\n",
      "....................\n",
      "....................\n",
      "....................\n",
      "\n",
      "....................\n",
      "....................\n",
      "....................\n",
      "....................\n",
      "....................\n",
      "....................\n",
      "....................\n",
      ".........o..........\n",
      "........oo..........\n",
      ".......o..o.........\n",
      "........oo..........\n",
      "....................\n",
      "....................\n",
      "....................\n",
      "....................\n",
      "....................\n",
      "....................\n",
      "....................\n",
      "....................\n",
      "....................\n",
      "\n"
     ]
    }
   ],
   "source": [
    "Game(worldstr).run(3)"
   ]
  },
  {
   "cell_type": "markdown",
   "metadata": {},
   "source": [
    "### Feladatok\n",
    "- Definiáljunk egy osztályt (pl. Allat néven) az alábbiak szerint!\n",
    "  - Az osztályhoz tartozó objektumok rendelkezzenek névvel és egy vagy több táplálékkal! Az objektumok adatai (pl. 'medve', {'méz', 'málna'}) létrehozáskor (azaz a konstruktor meghívásakor) legyenek megadhatók!\n",
    "  - Definiáljuk az osztály `__repr__` metódusát!\n",
    "  - Legyen az osztálynak egy olyan metódusa, amellyel bővíteni lehessen egy adott objektum táplálékait!\n",
    "  - Teszteljük az osztályt, azaz hozzunk létre egy ehhez az osztályhoz tartozó objektumot, majd használjuk (pl. írjuk ki a képernyőre, hívjuk meg valamelyik metódusát, stb.)!\n",
    "- Nehezítsük a feladatot úgy, hogy definiálunk egy másik osztályt is (pl. Kedvenc néven) az alábbiak szerint!\n",
    "  - Az új osztály az előzőleg elkészített osztályból származzon!  \n",
    "  - Az osztály példányai rendelkezzenek egy becenévvel és egy vagy több tevékenységgel is (azon felül, amelyekkel, mint Allat objektumok rendelkeznek)!\n",
    "  - Az osztályhoz tartozó objektumok adatai (pl. 'medve', {'méz', 'málna'}, 'Brumi', {'mézet lejmol', 'brummog', 'téli álmot alszik'}) itt is példányosításkor legyenek megadhatók!\n",
    "  - A konstruktor (`__init__`) a szülő osztály konstruktorát használja az örökölt adatok értékeinek beállítására (lásd a `super` függvényt a súgóban)!\n",
    "  - Definiáljuk az osztály `__repr__` metódusát!\n",
    "  - Legyen az osztálynak egy olyan metódusa (pl. mit_csinal néven), amelyik egy véletlenszerűen kiválasztott tevékenységet ad eredményül!\n",
    "  - Teszteljük az osztályt, azaz hozzunk létre egy ehhez az osztályhoz tartozó objektumot, majd használjuk (pl. írjuk ki a képernyőre, hívjuk meg valamelyik metódusát, stb.)!\n",
    "- Teszteljük együtt a két osztályt úgy, hogy hozzunk létre objektumokat (Allat és Kedvenc osztályhoz tartozókat is, pl. egy listában), majd használjuk ezeket az objektumokat (pl. Kedvenc típusú objektum esetén írjuk ki a képernyőre a becenevét és a `mit_csinal` függvény egy hívásának eredményét, egyébként meg, Allat típusú objektum esetén, a nevét és a táplálékát/táplálékait)! Egy adott objektum egy adott osztályhoz való 'tartozásának' eldöntésére használjuk a `isinstance` függvényt (lásd súgó)! \n"
   ]
  },
  {
   "cell_type": "code",
   "execution_count": null,
   "metadata": {},
   "outputs": [],
   "source": []
  }
 ],
 "metadata": {
  "kernelspec": {
   "display_name": "Python 3",
   "language": "python",
   "name": "python3"
  },
  "language_info": {
   "codemirror_mode": {
    "name": "ipython",
    "version": 3
   },
   "file_extension": ".py",
   "mimetype": "text/x-python",
   "name": "python",
   "nbconvert_exporter": "python",
   "pygments_lexer": "ipython3",
   "version": "3.8.5"
  }
 },
 "nbformat": 4,
 "nbformat_minor": 2
}
