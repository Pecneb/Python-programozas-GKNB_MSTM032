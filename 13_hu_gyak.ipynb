{
 "cells": [
  {
   "cell_type": "markdown",
   "metadata": {},
   "source": [
    "## Első mintavizsga"
   ]
  },
  {
   "cell_type": "markdown",
   "metadata": {},
   "source": [
    "### 1. feladat [10p]\n",
    "\n",
    "A `birthdays` lista kitalált személyek nevét és születési dátumát tartalmazza. Készíts programot, amely megkeresi, hogy kik állnak életkorban egymáshoz a legközelebb, és hány nap köztük a különbség! A program ne csak a megadott `birthdays` listára működjön, hanem tetszőleges, ugyanilyen formátumú bemenetre is! Feltehetjük, hogy minden név különböző, és legalább két név van megadva.\n",
    "\n",
    "```\n",
    "birthdays = [\n",
    "    ('Kovács Andor',   '1999-10-29'),\n",
    "    ('Kiss Martina',   '2000-02-13'),\n",
    "    ('Horváth Barna',  '1999-12-05'),\n",
    "    ('Győri Eszter',   '2000-10-29'),\n",
    "    ('Nagy Tivadar',   '1999-08-16'),\n",
    "    ('Tóth Tamara',    '2000-01-30'),\n",
    "    ('Szakács Sándor', '1999-09-02')\n",
    "]\n",
    "```"
   ]
  },
  {
   "cell_type": "code",
   "execution_count": 2,
   "metadata": {},
   "outputs": [
    {
     "data": {
      "text/plain": [
       "[('Kovács Andor', '1999-10-29'),\n",
       " ('Kiss Martina', '2000-02-13'),\n",
       " ('Horváth Barna', '1999-12-05'),\n",
       " ('Győri Eszter', '2000-10-29'),\n",
       " ('Nagy Tivadar', '1999-08-16'),\n",
       " ('Tóth Tamara', '2000-01-30'),\n",
       " ('Szakács Sándor', '1999-09-02')]"
      ]
     },
     "execution_count": 2,
     "metadata": {},
     "output_type": "execute_result"
    }
   ],
   "source": [
    "birthdays = [\n",
    "    ('Kovács Andor',   '1999-10-29'),\n",
    "    ('Kiss Martina',   '2000-02-13'),\n",
    "    ('Horváth Barna',  '1999-12-05'),\n",
    "    ('Győri Eszter',   '2000-10-29'),\n",
    "    ('Nagy Tivadar',   '1999-08-16'),\n",
    "    ('Tóth Tamara',    '2000-01-30'),\n",
    "    ('Szakács Sándor', '1999-09-02')\n",
    "]\n",
    "birthdays"
   ]
  },
  {
   "cell_type": "code",
   "execution_count": 24,
   "metadata": {},
   "outputs": [
    {
     "data": {
      "text/plain": [
       "(14, 'Kiss Martina', 'Tóth Tamara')"
      ]
     },
     "execution_count": 24,
     "metadata": {},
     "output_type": "execute_result"
    }
   ],
   "source": [
    "# 1. megoldás\n",
    "\n",
    "import datetime\n",
    "\n",
    "# sztring => dátum konverzió\n",
    "def parse_date(datestr):\n",
    "    y, m, d = datestr.split('-')\n",
    "    return datetime.date(int(y), int(m), int(d))\n",
    "\n",
    "# végigmegyünk az összes páron\n",
    "n = len(birthdays)\n",
    "pairs = []\n",
    "for i in range(n - 1):\n",
    "    for j in range(i + 1, n):\n",
    "        name1, date1 = birthdays[i]\n",
    "        name2, date2 = birthdays[j]\n",
    "        diff = abs((parse_date(date1) - parse_date(date2)).days)\n",
    "        pairs.append((diff, name1, name2))\n",
    "\n",
    "# minimumkeresés\n",
    "min(pairs)"
   ]
  },
  {
   "cell_type": "code",
   "execution_count": 34,
   "metadata": {},
   "outputs": [
    {
     "data": {
      "text/plain": [
       "(14, 'Kiss Martina', 'Tóth Tamara')"
      ]
     },
     "execution_count": 34,
     "metadata": {},
     "output_type": "execute_result"
    }
   ],
   "source": [
    "# 2. megoldás\n",
    "\n",
    "import datetime, itertools\n",
    "\n",
    "# végigmegyünk az összes páron\n",
    "for (name1, date1), (name2, date2) in itertools.combinations(birthdays, 2):\n",
    "    parse = lambda s: datetime.datetime.strptime(s, '%Y-%m-%d')\n",
    "    diff = abs((parse(date1) - parse(date2)).days)\n",
    "    pairs.append((diff, name1, name2))\n",
    "\n",
    "# minimumkeresés\n",
    "min(pairs)"
   ]
  },
  {
   "cell_type": "markdown",
   "metadata": {},
   "source": [
    "### 2. feladat [14p]\n",
    "\n",
    "Az [investments.txt](investments.txt) szövegfájl amerikai cégekbe történő befektetésekről tartalmaz adatokat (a TechCrunch hírportál alapján). Készíts programot, amely kiszámítja és kiírja az alábbi statisztikákat:\n",
    "\n",
    "- Hány cég (`company`) szerepel összesen az adathalmazban?\n",
    "- Melyik cégbe fektettek be a legtöbbször?\n",
    "- Cégkategóriánként (`category`) hány dollárt fektettek be összesen (`raisedAmt`)?"
   ]
  },
  {
   "cell_type": "code",
   "execution_count": 1,
   "metadata": {},
   "outputs": [
    {
     "data": {
      "text/html": [
       "<div>\n",
       "<style scoped>\n",
       "    .dataframe tbody tr th:only-of-type {\n",
       "        vertical-align: middle;\n",
       "    }\n",
       "\n",
       "    .dataframe tbody tr th {\n",
       "        vertical-align: top;\n",
       "    }\n",
       "\n",
       "    .dataframe thead th {\n",
       "        text-align: right;\n",
       "    }\n",
       "</style>\n",
       "<table border=\"1\" class=\"dataframe\">\n",
       "  <thead>\n",
       "    <tr style=\"text-align: right;\">\n",
       "      <th></th>\n",
       "      <th>company</th>\n",
       "      <th>numEmps</th>\n",
       "      <th>category</th>\n",
       "      <th>city</th>\n",
       "      <th>state</th>\n",
       "      <th>fundedDate</th>\n",
       "      <th>raisedAmt</th>\n",
       "      <th>raisedCurrency</th>\n",
       "      <th>round</th>\n",
       "    </tr>\n",
       "  </thead>\n",
       "  <tbody>\n",
       "    <tr>\n",
       "      <th>0</th>\n",
       "      <td>LifeLock</td>\n",
       "      <td>NaN</td>\n",
       "      <td>web</td>\n",
       "      <td>Tempe</td>\n",
       "      <td>AZ</td>\n",
       "      <td>1-May-07</td>\n",
       "      <td>6850000</td>\n",
       "      <td>USD</td>\n",
       "      <td>b</td>\n",
       "    </tr>\n",
       "    <tr>\n",
       "      <th>1</th>\n",
       "      <td>LifeLock</td>\n",
       "      <td>NaN</td>\n",
       "      <td>web</td>\n",
       "      <td>Tempe</td>\n",
       "      <td>AZ</td>\n",
       "      <td>1-Oct-06</td>\n",
       "      <td>6000000</td>\n",
       "      <td>USD</td>\n",
       "      <td>a</td>\n",
       "    </tr>\n",
       "    <tr>\n",
       "      <th>2</th>\n",
       "      <td>LifeLock</td>\n",
       "      <td>NaN</td>\n",
       "      <td>web</td>\n",
       "      <td>Tempe</td>\n",
       "      <td>AZ</td>\n",
       "      <td>1-Jan-08</td>\n",
       "      <td>25000000</td>\n",
       "      <td>USD</td>\n",
       "      <td>c</td>\n",
       "    </tr>\n",
       "    <tr>\n",
       "      <th>3</th>\n",
       "      <td>MyCityFaces</td>\n",
       "      <td>7.0</td>\n",
       "      <td>web</td>\n",
       "      <td>Scottsdale</td>\n",
       "      <td>AZ</td>\n",
       "      <td>1-Jan-08</td>\n",
       "      <td>50000</td>\n",
       "      <td>USD</td>\n",
       "      <td>seed</td>\n",
       "    </tr>\n",
       "    <tr>\n",
       "      <th>4</th>\n",
       "      <td>Flypaper</td>\n",
       "      <td>NaN</td>\n",
       "      <td>web</td>\n",
       "      <td>Phoenix</td>\n",
       "      <td>AZ</td>\n",
       "      <td>1-Feb-08</td>\n",
       "      <td>3000000</td>\n",
       "      <td>USD</td>\n",
       "      <td>a</td>\n",
       "    </tr>\n",
       "    <tr>\n",
       "      <th>...</th>\n",
       "      <td>...</td>\n",
       "      <td>...</td>\n",
       "      <td>...</td>\n",
       "      <td>...</td>\n",
       "      <td>...</td>\n",
       "      <td>...</td>\n",
       "      <td>...</td>\n",
       "      <td>...</td>\n",
       "      <td>...</td>\n",
       "    </tr>\n",
       "    <tr>\n",
       "      <th>1429</th>\n",
       "      <td>Trusera</td>\n",
       "      <td>15.0</td>\n",
       "      <td>web</td>\n",
       "      <td>Seattle</td>\n",
       "      <td>WA</td>\n",
       "      <td>1-Jun-07</td>\n",
       "      <td>2000000</td>\n",
       "      <td>USD</td>\n",
       "      <td>angel</td>\n",
       "    </tr>\n",
       "    <tr>\n",
       "      <th>1430</th>\n",
       "      <td>Alerts.com</td>\n",
       "      <td>NaN</td>\n",
       "      <td>web</td>\n",
       "      <td>Bellevue</td>\n",
       "      <td>WA</td>\n",
       "      <td>8-Jul-08</td>\n",
       "      <td>1200000</td>\n",
       "      <td>USD</td>\n",
       "      <td>a</td>\n",
       "    </tr>\n",
       "    <tr>\n",
       "      <th>1431</th>\n",
       "      <td>Myrio</td>\n",
       "      <td>75.0</td>\n",
       "      <td>software</td>\n",
       "      <td>Bothell</td>\n",
       "      <td>WA</td>\n",
       "      <td>1-Jan-01</td>\n",
       "      <td>20500000</td>\n",
       "      <td>USD</td>\n",
       "      <td>unattributed</td>\n",
       "    </tr>\n",
       "    <tr>\n",
       "      <th>1432</th>\n",
       "      <td>Grid Networks</td>\n",
       "      <td>NaN</td>\n",
       "      <td>web</td>\n",
       "      <td>Seattle</td>\n",
       "      <td>WA</td>\n",
       "      <td>30-Oct-07</td>\n",
       "      <td>9500000</td>\n",
       "      <td>USD</td>\n",
       "      <td>a</td>\n",
       "    </tr>\n",
       "    <tr>\n",
       "      <th>1433</th>\n",
       "      <td>Grid Networks</td>\n",
       "      <td>NaN</td>\n",
       "      <td>web</td>\n",
       "      <td>Seattle</td>\n",
       "      <td>WA</td>\n",
       "      <td>20-May-08</td>\n",
       "      <td>10500000</td>\n",
       "      <td>USD</td>\n",
       "      <td>b</td>\n",
       "    </tr>\n",
       "  </tbody>\n",
       "</table>\n",
       "<p>1434 rows × 9 columns</p>\n",
       "</div>"
      ],
      "text/plain": [
       "            company  numEmps  category        city state fundedDate  \\\n",
       "0          LifeLock      NaN       web       Tempe    AZ   1-May-07   \n",
       "1          LifeLock      NaN       web       Tempe    AZ   1-Oct-06   \n",
       "2          LifeLock      NaN       web       Tempe    AZ   1-Jan-08   \n",
       "3       MyCityFaces      7.0       web  Scottsdale    AZ   1-Jan-08   \n",
       "4          Flypaper      NaN       web     Phoenix    AZ   1-Feb-08   \n",
       "...             ...      ...       ...         ...   ...        ...   \n",
       "1429        Trusera     15.0       web     Seattle    WA   1-Jun-07   \n",
       "1430     Alerts.com      NaN       web    Bellevue    WA   8-Jul-08   \n",
       "1431          Myrio     75.0  software     Bothell    WA   1-Jan-01   \n",
       "1432  Grid Networks      NaN       web     Seattle    WA  30-Oct-07   \n",
       "1433  Grid Networks      NaN       web     Seattle    WA  20-May-08   \n",
       "\n",
       "      raisedAmt raisedCurrency         round  \n",
       "0       6850000            USD             b  \n",
       "1       6000000            USD             a  \n",
       "2      25000000            USD             c  \n",
       "3         50000            USD          seed  \n",
       "4       3000000            USD             a  \n",
       "...         ...            ...           ...  \n",
       "1429    2000000            USD         angel  \n",
       "1430    1200000            USD             a  \n",
       "1431   20500000            USD  unattributed  \n",
       "1432    9500000            USD             a  \n",
       "1433   10500000            USD             b  \n",
       "\n",
       "[1434 rows x 9 columns]"
      ]
     },
     "execution_count": 1,
     "metadata": {},
     "output_type": "execute_result"
    }
   ],
   "source": [
    "# adatok beolvasása\n",
    "import pandas as pd\n",
    "df = pd.read_csv('investments.txt', sep='|')\n",
    "df"
   ]
  },
  {
   "cell_type": "code",
   "execution_count": 38,
   "metadata": {},
   "outputs": [
    {
     "name": "stdout",
     "output_type": "stream",
     "text": [
      "<class 'pandas.core.frame.DataFrame'>\n",
      "RangeIndex: 1434 entries, 0 to 1433\n",
      "Data columns (total 9 columns):\n",
      " #   Column          Non-Null Count  Dtype  \n",
      "---  ------          --------------  -----  \n",
      " 0   company         1434 non-null   object \n",
      " 1   numEmps         565 non-null    float64\n",
      " 2   category        1434 non-null   object \n",
      " 3   city            1416 non-null   object \n",
      " 4   state           1434 non-null   object \n",
      " 5   fundedDate      1434 non-null   object \n",
      " 6   raisedAmt       1434 non-null   int64  \n",
      " 7   raisedCurrency  1434 non-null   object \n",
      " 8   round           1434 non-null   object \n",
      "dtypes: float64(1), int64(1), object(7)\n",
      "memory usage: 101.0+ KB\n"
     ]
    }
   ],
   "source": [
    "df.info()"
   ]
  },
  {
   "cell_type": "code",
   "execution_count": 41,
   "metadata": {},
   "outputs": [
    {
     "data": {
      "text/plain": [
       "891"
      ]
     },
     "execution_count": 41,
     "metadata": {},
     "output_type": "execute_result"
    }
   ],
   "source": [
    "# Cégek száma.\n",
    "df['company'].nunique()"
   ]
  },
  {
   "cell_type": "code",
   "execution_count": 43,
   "metadata": {},
   "outputs": [
    {
     "data": {
      "text/plain": [
       "891"
      ]
     },
     "execution_count": 43,
     "metadata": {},
     "output_type": "execute_result"
    }
   ],
   "source": [
    "len(set(df['company']))"
   ]
  },
  {
   "cell_type": "code",
   "execution_count": 49,
   "metadata": {},
   "outputs": [
    {
     "data": {
      "text/plain": [
       "'Facebook'"
      ]
     },
     "execution_count": 49,
     "metadata": {},
     "output_type": "execute_result"
    }
   ],
   "source": [
    "# Melyik cégbe fektettek be a legtöbbször?\n",
    "df.groupby('company').size().idxmax()"
   ]
  },
  {
   "cell_type": "code",
   "execution_count": 55,
   "metadata": {},
   "outputs": [
    {
     "data": {
      "text/plain": [
       "'Facebook'"
      ]
     },
     "execution_count": 55,
     "metadata": {},
     "output_type": "execute_result"
    }
   ],
   "source": [
    "df['company'].value_counts().index[0]"
   ]
  },
  {
   "cell_type": "code",
   "execution_count": 58,
   "metadata": {},
   "outputs": [
    {
     "data": {
      "text/plain": [
       "USD    1434\n",
       "Name: raisedCurrency, dtype: int64"
      ]
     },
     "execution_count": 58,
     "metadata": {},
     "output_type": "execute_result"
    }
   ],
   "source": [
    "# Cégkategóriánként (category) hány dollárt fektettek be összesen (raisedAmt)?\n",
    "\n",
    "# ellenőrzés\n",
    "df['raisedCurrency'].value_counts()"
   ]
  },
  {
   "cell_type": "code",
   "execution_count": 61,
   "metadata": {},
   "outputs": [
    {
     "data": {
      "text/plain": [
       "category\n",
       "biotech          77250000\n",
       "cleantech       258900000\n",
       "consulting       32135000\n",
       "hardware        824500000\n",
       "mobile          323020000\n",
       "other           119850000\n",
       "software       1017942000\n",
       "web           11753474750\n",
       "Name: raisedAmt, dtype: int64"
      ]
     },
     "execution_count": 61,
     "metadata": {},
     "output_type": "execute_result"
    }
   ],
   "source": [
    "# a lekérdezés\n",
    "df.groupby('category')['raisedAmt'].sum()"
   ]
  },
  {
   "cell_type": "code",
   "execution_count": 64,
   "metadata": {},
   "outputs": [
    {
     "data": {
      "text/plain": [
       "<AxesSubplot:ylabel='raisedAmt'>"
      ]
     },
     "execution_count": 64,
     "metadata": {},
     "output_type": "execute_result"
    },
    {
     "data": {
      "image/png": "[encoded data removed]",
      "text/plain": [
       "<Figure size 432x288 with 1 Axes>"
      ]
     },
     "metadata": {},
     "output_type": "display_data"
    }
   ],
   "source": [
    "# nem része a feladatnak, de ábrázoljuk is az eredményt\n",
    "df.groupby('category')['raisedAmt'].sum().plot(kind='pie')"
   ]
  },
  {
   "cell_type": "markdown",
   "metadata": {},
   "source": [
    "<hr style=\"height: 3px;\">"
   ]
  },
  {
   "cell_type": "markdown",
   "metadata": {},
   "source": [
    "## Második mintavizsga"
   ]
  },
  {
   "cell_type": "markdown",
   "metadata": {},
   "source": [
    "### 1. feladat [10p]\n",
    "\n",
    "Készíts programot, amely bekéri a felhasználótól $n$ értékét, szimulál $n$ darab kockadobást, majd kiírja, hogy mi volt a leghosszabb 6-os sorozat hossza! Példa futási eredmény:\n",
    "```\n",
    "\n",
    "n: 50\n",
    "31554643644341364414422455514666664664563666113524\n",
    "A leghosszabb 6-os sorozat hossza: 5\n",
    "```"
   ]
  },
  {
   "cell_type": "code",
   "execution_count": 4,
   "metadata": {},
   "outputs": [
    {
     "name": "stdout",
     "output_type": "stream",
     "text": [
      "n: 50\n",
      "56112564424352665353165323615556563233626345152444\n",
      "A leghosszabb 6-os sorozat hossza: 2\n"
     ]
    }
   ],
   "source": [
    "import random\n",
    "\n",
    "# n bekérése\n",
    "n = int(input('n: '))\n",
    "\n",
    "# dobások szimulálása\n",
    "rolls = [random.randint(1, 6) for i in range(n)]\n",
    "print(''.join([str(r) for r in rolls]))\n",
    "\n",
    "# leghosszabb 6-os sorozat megkeresése\n",
    "c = 0\n",
    "cmax = 0\n",
    "for r in rolls:\n",
    "    if r == 6: c+= 1\n",
    "    else: c = 0\n",
    "    if c > cmax:\n",
    "        cmax = c\n",
    "print('A leghosszabb 6-os sorozat hossza:',cmax)"
   ]
  },
  {
   "cell_type": "markdown",
   "metadata": {},
   "source": [
    "### 2. feladat [14p]\n",
    "\n",
    "A [hotels.txt](hotels.txt) szövegfájl Las Vegas-i szállodák értékeléséről tartalmaz adatokat. Minden sor egy szállóvendég által kiosztott értékeléshez tartozik. Készíts programot, amely kiszámítja és kiírja az alábbi statisztikákat:\n",
    "\n",
    "- A szobák száma (`Nr. rooms`) alapján melyik az öt legnagyobb szálloda?\n",
    "- Hány ponttal magasabb a medencével (`Pool`) rendelkező szállodák átlagos értékelése (`Score`) a többi szálloda átlagos értékelésénél?\n",
    "- Hány ponttal magasabb a teniszpályával (`Tennis court`) rendelkező szállodák átlagos értékelése a többi szálloda átlagos értékelésénél?"
   ]
  },
  {
   "cell_type": "code",
   "execution_count": null,
   "metadata": {},
   "outputs": [],
   "source": [
    "# Makro vagy mikro átlagot használjunk? Ennél a feladatnál mindkettő ugyanazt az eredményt adja."
   ]
  },
  {
   "cell_type": "code",
   "execution_count": 82,
   "metadata": {},
   "outputs": [],
   "source": [
    "# Adatok betöltése.\n",
    "import pandas as pd\n",
    "df = pd.read_csv('hotels.txt', sep=';')"
   ]
  },
  {
   "cell_type": "code",
   "execution_count": 83,
   "metadata": {},
   "outputs": [
    {
     "name": "stdout",
     "output_type": "stream",
     "text": [
      "<class 'pandas.core.frame.DataFrame'>\n",
      "RangeIndex: 504 entries, 0 to 503\n",
      "Data columns (total 10 columns):\n",
      " #   Column          Non-Null Count  Dtype \n",
      "---  ------          --------------  ----- \n",
      " 0   Hotel name      504 non-null    object\n",
      " 1   Nr. rooms       504 non-null    int64 \n",
      " 2   Pool            504 non-null    object\n",
      " 3   Gym             504 non-null    object\n",
      " 4   Tennis court    504 non-null    object\n",
      " 5   Spa             504 non-null    object\n",
      " 6   Casino          504 non-null    object\n",
      " 7   Traveler type   504 non-null    object\n",
      " 8   Period of stay  504 non-null    object\n",
      " 9   Score           504 non-null    int64 \n",
      "dtypes: int64(2), object(8)\n",
      "memory usage: 39.5+ KB\n"
     ]
    }
   ],
   "source": [
    "df.info()"
   ]
  },
  {
   "cell_type": "code",
   "execution_count": 91,
   "metadata": {},
   "outputs": [
    {
     "data": {
      "text/plain": [
       "Hotel name\n",
       "The Venetian Las Vegas Hotel              4027\n",
       "Excalibur Hotel & Casino                  3981\n",
       "Bellagio Las Vegas                        3933\n",
       "Circus Circus Hotel & Casino Las Vegas    3773\n",
       "Caesars Palace                            3348\n",
       "Name: Nr. rooms, dtype: int64"
      ]
     },
     "execution_count": 91,
     "metadata": {},
     "output_type": "execute_result"
    }
   ],
   "source": [
    "# A szobák száma (Nr. rooms) alapján melyik az öt legnagyobb szálloda?\n",
    "df.groupby('Hotel name')['Nr. rooms'].first().sort_values(ascending=False).head(5)"
   ]
  },
  {
   "cell_type": "code",
   "execution_count": 100,
   "metadata": {},
   "outputs": [
    {
     "data": {
      "text/plain": [
       "0.9604166666666667"
      ]
     },
     "execution_count": 100,
     "metadata": {},
     "output_type": "execute_result"
    }
   ],
   "source": [
    "# Hány ponttal magasabb a medencével (Pool) rendelkező szállodák átlagos értékelése (Score)\n",
    "# a többi szálloda átlagos értékelésénél?\n",
    "\n",
    "# mikro átlaggal\n",
    "df[df['Pool'] == 'YES']['Score'].mean() - df[df['Pool'] == 'NO']['Score'].mean()"
   ]
  },
  {
   "cell_type": "code",
   "execution_count": 98,
   "metadata": {},
   "outputs": [
    {
     "data": {
      "text/plain": [
       "0.9604166666666667"
      ]
     },
     "execution_count": 98,
     "metadata": {},
     "output_type": "execute_result"
    }
   ],
   "source": [
    "# makro átlaggal\n",
    "has_pool = df['Pool'] == 'YES'\n",
    "m1 = df[has_pool].groupby('Hotel name')['Score'].mean().mean()\n",
    "m2 = df[~has_pool].groupby('Hotel name')['Score'].mean().mean()\n",
    "m1 - m2"
   ]
  },
  {
   "cell_type": "code",
   "execution_count": 101,
   "metadata": {},
   "outputs": [
    {
     "data": {
      "text/plain": [
       "0.15572916666666625"
      ]
     },
     "execution_count": 101,
     "metadata": {},
     "output_type": "execute_result"
    }
   ],
   "source": [
    "# Hány ponttal magasabb a teniszpályával (Tennis court) rendelkező szállodák átlagos értékelése\n",
    "# a többi szálloda átlagos értékelésénél?\n",
    "\n",
    "# mikro átlaggal\n",
    "df[df['Tennis court'] == 'YES']['Score'].mean() - df[df['Tennis court'] == 'NO']['Score'].mean()"
   ]
  }
 ],
 "metadata": {
  "kernelspec": {
   "display_name": "Python 3",
   "language": "python",
   "name": "python3"
  },
  "language_info": {
   "codemirror_mode": {
    "name": "ipython",
    "version": 3
   },
   "file_extension": ".py",
   "mimetype": "text/x-python",
   "name": "python",
   "nbconvert_exporter": "python",
   "pygments_lexer": "ipython3",
   "version": "3.8.5"
  }
 },
 "nbformat": 4,
 "nbformat_minor": 1
}
