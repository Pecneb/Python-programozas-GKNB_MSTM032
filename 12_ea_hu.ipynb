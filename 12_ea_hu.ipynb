{
 "cells": [
  {
   "cell_type": "markdown",
   "metadata": {},
   "source": [
    "## Gyakorlás: London légszennyezettsége\n",
    "\n",
    "Az [openair.txt](openair.txt) fájl London légszennyezettségéről tartalmaz adatokat.\n",
    "- Töltsük be a fájlt DataFrame-be!\n",
    "- Az értékek hány százaléka null az egyes oszlopokban?\n",
    "- Írjuk ki az oszlopok minimális, maximális és átlagos értékét!\n",
    "- Ábrázoljuk az 1. heti szén-monoxid (CO) koncentrációt!\n",
    "- Adjuk meg, hogy mennyi az átlagos szén-monoxid ill. szálló por (PM10) koncentráció az év hónapjaiban!\n",
    "- Adjuk meg, hogy mennyi az átlagos szén-monoxid ill. szálló por (PM10) koncentráció a hét napjain!"
   ]
  },
  {
   "cell_type": "code",
   "execution_count": 1,
   "metadata": {},
   "outputs": [],
   "source": [
    "import pandas as pd"
   ]
  },
  {
   "cell_type": "code",
   "execution_count": 4,
   "metadata": {},
   "outputs": [
    {
     "data": {
      "text/html": [
       "<div>\n",
       "<style scoped>\n",
       "    .dataframe tbody tr th:only-of-type {\n",
       "        vertical-align: middle;\n",
       "    }\n",
       "\n",
       "    .dataframe tbody tr th {\n",
       "        vertical-align: top;\n",
       "    }\n",
       "\n",
       "    .dataframe thead th {\n",
       "        text-align: right;\n",
       "    }\n",
       "</style>\n",
       "<table border=\"1\" class=\"dataframe\">\n",
       "  <thead>\n",
       "    <tr style=\"text-align: right;\">\n",
       "      <th></th>\n",
       "      <th>date</th>\n",
       "      <th>ws</th>\n",
       "      <th>wd</th>\n",
       "      <th>nox</th>\n",
       "      <th>no2</th>\n",
       "      <th>o3</th>\n",
       "      <th>pm10</th>\n",
       "      <th>so2</th>\n",
       "      <th>co</th>\n",
       "      <th>pm25</th>\n",
       "    </tr>\n",
       "  </thead>\n",
       "  <tbody>\n",
       "    <tr>\n",
       "      <th>0</th>\n",
       "      <td>01/01/1998 00:00</td>\n",
       "      <td>0.60</td>\n",
       "      <td>280.0</td>\n",
       "      <td>285.0</td>\n",
       "      <td>39.0</td>\n",
       "      <td>1.0</td>\n",
       "      <td>29.0</td>\n",
       "      <td>4.7225</td>\n",
       "      <td>3.372500</td>\n",
       "      <td>NaN</td>\n",
       "    </tr>\n",
       "    <tr>\n",
       "      <th>1</th>\n",
       "      <td>01/01/1998 01:00</td>\n",
       "      <td>2.16</td>\n",
       "      <td>230.0</td>\n",
       "      <td>NaN</td>\n",
       "      <td>NaN</td>\n",
       "      <td>NaN</td>\n",
       "      <td>37.0</td>\n",
       "      <td>NaN</td>\n",
       "      <td>NaN</td>\n",
       "      <td>NaN</td>\n",
       "    </tr>\n",
       "    <tr>\n",
       "      <th>2</th>\n",
       "      <td>01/01/1998 02:00</td>\n",
       "      <td>2.76</td>\n",
       "      <td>190.0</td>\n",
       "      <td>NaN</td>\n",
       "      <td>NaN</td>\n",
       "      <td>3.0</td>\n",
       "      <td>34.0</td>\n",
       "      <td>6.8300</td>\n",
       "      <td>9.602500</td>\n",
       "      <td>NaN</td>\n",
       "    </tr>\n",
       "    <tr>\n",
       "      <th>3</th>\n",
       "      <td>01/01/1998 03:00</td>\n",
       "      <td>2.16</td>\n",
       "      <td>170.0</td>\n",
       "      <td>493.0</td>\n",
       "      <td>52.0</td>\n",
       "      <td>3.0</td>\n",
       "      <td>35.0</td>\n",
       "      <td>7.6625</td>\n",
       "      <td>10.217500</td>\n",
       "      <td>NaN</td>\n",
       "    </tr>\n",
       "    <tr>\n",
       "      <th>4</th>\n",
       "      <td>01/01/1998 04:00</td>\n",
       "      <td>2.40</td>\n",
       "      <td>180.0</td>\n",
       "      <td>468.0</td>\n",
       "      <td>78.0</td>\n",
       "      <td>2.0</td>\n",
       "      <td>34.0</td>\n",
       "      <td>8.0700</td>\n",
       "      <td>8.912500</td>\n",
       "      <td>NaN</td>\n",
       "    </tr>\n",
       "    <tr>\n",
       "      <th>...</th>\n",
       "      <td>...</td>\n",
       "      <td>...</td>\n",
       "      <td>...</td>\n",
       "      <td>...</td>\n",
       "      <td>...</td>\n",
       "      <td>...</td>\n",
       "      <td>...</td>\n",
       "      <td>...</td>\n",
       "      <td>...</td>\n",
       "      <td>...</td>\n",
       "    </tr>\n",
       "    <tr>\n",
       "      <th>65528</th>\n",
       "      <td>23/06/2005 08:00</td>\n",
       "      <td>1.50</td>\n",
       "      <td>260.0</td>\n",
       "      <td>388.0</td>\n",
       "      <td>145.0</td>\n",
       "      <td>6.0</td>\n",
       "      <td>48.0</td>\n",
       "      <td>NaN</td>\n",
       "      <td>1.637931</td>\n",
       "      <td>26.0</td>\n",
       "    </tr>\n",
       "    <tr>\n",
       "      <th>65529</th>\n",
       "      <td>23/06/2005 09:00</td>\n",
       "      <td>1.50</td>\n",
       "      <td>210.0</td>\n",
       "      <td>404.0</td>\n",
       "      <td>168.0</td>\n",
       "      <td>7.0</td>\n",
       "      <td>58.0</td>\n",
       "      <td>NaN</td>\n",
       "      <td>1.293103</td>\n",
       "      <td>34.0</td>\n",
       "    </tr>\n",
       "    <tr>\n",
       "      <th>65530</th>\n",
       "      <td>23/06/2005 10:00</td>\n",
       "      <td>2.60</td>\n",
       "      <td>240.0</td>\n",
       "      <td>387.0</td>\n",
       "      <td>175.0</td>\n",
       "      <td>10.0</td>\n",
       "      <td>55.0</td>\n",
       "      <td>NaN</td>\n",
       "      <td>1.293103</td>\n",
       "      <td>34.0</td>\n",
       "    </tr>\n",
       "    <tr>\n",
       "      <th>65531</th>\n",
       "      <td>23/06/2005 11:00</td>\n",
       "      <td>3.10</td>\n",
       "      <td>220.0</td>\n",
       "      <td>312.0</td>\n",
       "      <td>125.0</td>\n",
       "      <td>15.0</td>\n",
       "      <td>52.0</td>\n",
       "      <td>NaN</td>\n",
       "      <td>1.293103</td>\n",
       "      <td>33.0</td>\n",
       "    </tr>\n",
       "    <tr>\n",
       "      <th>65532</th>\n",
       "      <td>23/06/2005 12:00</td>\n",
       "      <td>3.10</td>\n",
       "      <td>220.0</td>\n",
       "      <td>287.0</td>\n",
       "      <td>119.0</td>\n",
       "      <td>17.0</td>\n",
       "      <td>55.0</td>\n",
       "      <td>NaN</td>\n",
       "      <td>1.293103</td>\n",
       "      <td>35.0</td>\n",
       "    </tr>\n",
       "  </tbody>\n",
       "</table>\n",
       "<p>65533 rows × 10 columns</p>\n",
       "</div>"
      ],
      "text/plain": [
       "                   date    ws     wd    nox    no2    o3  pm10     so2  \\\n",
       "0      01/01/1998 00:00  0.60  280.0  285.0   39.0   1.0  29.0  4.7225   \n",
       "1      01/01/1998 01:00  2.16  230.0    NaN    NaN   NaN  37.0     NaN   \n",
       "2      01/01/1998 02:00  2.76  190.0    NaN    NaN   3.0  34.0  6.8300   \n",
       "3      01/01/1998 03:00  2.16  170.0  493.0   52.0   3.0  35.0  7.6625   \n",
       "4      01/01/1998 04:00  2.40  180.0  468.0   78.0   2.0  34.0  8.0700   \n",
       "...                 ...   ...    ...    ...    ...   ...   ...     ...   \n",
       "65528  23/06/2005 08:00  1.50  260.0  388.0  145.0   6.0  48.0     NaN   \n",
       "65529  23/06/2005 09:00  1.50  210.0  404.0  168.0   7.0  58.0     NaN   \n",
       "65530  23/06/2005 10:00  2.60  240.0  387.0  175.0  10.0  55.0     NaN   \n",
       "65531  23/06/2005 11:00  3.10  220.0  312.0  125.0  15.0  52.0     NaN   \n",
       "65532  23/06/2005 12:00  3.10  220.0  287.0  119.0  17.0  55.0     NaN   \n",
       "\n",
       "              co  pm25  \n",
       "0       3.372500   NaN  \n",
       "1            NaN   NaN  \n",
       "2       9.602500   NaN  \n",
       "3      10.217500   NaN  \n",
       "4       8.912500   NaN  \n",
       "...          ...   ...  \n",
       "65528   1.637931  26.0  \n",
       "65529   1.293103  34.0  \n",
       "65530   1.293103  34.0  \n",
       "65531   1.293103  33.0  \n",
       "65532   1.293103  35.0  \n",
       "\n",
       "[65533 rows x 10 columns]"
      ]
     },
     "execution_count": 4,
     "metadata": {},
     "output_type": "execute_result"
    }
   ],
   "source": [
    "# Adatok betöltése DataFrame-be.\n",
    "df = pd.read_csv('openair.txt')\n",
    "df"
   ]
  },
  {
   "cell_type": "code",
   "execution_count": 5,
   "metadata": {},
   "outputs": [
    {
     "name": "stdout",
     "output_type": "stream",
     "text": [
      "<class 'pandas.core.frame.DataFrame'>\n",
      "RangeIndex: 65533 entries, 0 to 65532\n",
      "Data columns (total 10 columns):\n",
      " #   Column  Non-Null Count  Dtype  \n",
      "---  ------  --------------  -----  \n",
      " 0   date    65533 non-null  object \n",
      " 1   ws      64907 non-null  float64\n",
      " 2   wd      65314 non-null  float64\n",
      " 3   nox     63110 non-null  float64\n",
      " 4   no2     63095 non-null  float64\n",
      " 5   o3      62947 non-null  float64\n",
      " 6   pm10    63372 non-null  float64\n",
      " 7   so2     55499 non-null  float64\n",
      " 8   co      63604 non-null  float64\n",
      " 9   pm25    56759 non-null  float64\n",
      "dtypes: float64(9), object(1)\n",
      "memory usage: 5.0+ MB\n"
     ]
    }
   ],
   "source": [
    "df.info()"
   ]
  },
  {
   "cell_type": "code",
   "execution_count": 15,
   "metadata": {},
   "outputs": [
    {
     "name": "stdout",
     "output_type": "stream",
     "text": [
      "date 0.0\n",
      "ws 0.9552439229090687\n",
      "wd 0.33418277814230996\n",
      "nox 3.697373842186379\n",
      "no2 3.7202630735659894\n",
      "o3 3.9461034898448113\n",
      "pm10 3.29757526742252\n",
      "so2 15.311369844200632\n",
      "co 2.943555155417881\n",
      "pm25 13.388674408313369\n"
     ]
    }
   ],
   "source": [
    "# Nullok százalékos aránya oszloponként.\n",
    "for c in df:\n",
    "    print(c, df[c].isnull().mean() * 100)"
   ]
  },
  {
   "cell_type": "code",
   "execution_count": 17,
   "metadata": {},
   "outputs": [
    {
     "data": {
      "text/plain": [
       "date     0.000000\n",
       "ws       0.955244\n",
       "wd       0.334183\n",
       "nox      3.697374\n",
       "no2      3.720263\n",
       "o3       3.946103\n",
       "pm10     3.297575\n",
       "so2     15.311370\n",
       "co       2.943555\n",
       "pm25    13.388674\n",
       "dtype: float64"
      ]
     },
     "execution_count": 17,
     "metadata": {},
     "output_type": "execute_result"
    }
   ],
   "source": [
    "# ...ha az eredményt Series-be szeretnénk tenni:\n",
    "pd.Series({c: df[c].isnull().mean() * 100 for c in df})"
   ]
  },
  {
   "cell_type": "code",
   "execution_count": 21,
   "metadata": {},
   "outputs": [
    {
     "data": {
      "text/html": [
       "<div>\n",
       "<style scoped>\n",
       "    .dataframe tbody tr th:only-of-type {\n",
       "        vertical-align: middle;\n",
       "    }\n",
       "\n",
       "    .dataframe tbody tr th {\n",
       "        vertical-align: top;\n",
       "    }\n",
       "\n",
       "    .dataframe thead th {\n",
       "        text-align: right;\n",
       "    }\n",
       "</style>\n",
       "<table border=\"1\" class=\"dataframe\">\n",
       "  <thead>\n",
       "    <tr style=\"text-align: right;\">\n",
       "      <th></th>\n",
       "      <th>%nulls</th>\n",
       "    </tr>\n",
       "  </thead>\n",
       "  <tbody>\n",
       "    <tr>\n",
       "      <th>date</th>\n",
       "      <td>0.000000</td>\n",
       "    </tr>\n",
       "    <tr>\n",
       "      <th>ws</th>\n",
       "      <td>0.955244</td>\n",
       "    </tr>\n",
       "    <tr>\n",
       "      <th>wd</th>\n",
       "      <td>0.334183</td>\n",
       "    </tr>\n",
       "    <tr>\n",
       "      <th>nox</th>\n",
       "      <td>3.697374</td>\n",
       "    </tr>\n",
       "    <tr>\n",
       "      <th>no2</th>\n",
       "      <td>3.720263</td>\n",
       "    </tr>\n",
       "    <tr>\n",
       "      <th>o3</th>\n",
       "      <td>3.946103</td>\n",
       "    </tr>\n",
       "    <tr>\n",
       "      <th>pm10</th>\n",
       "      <td>3.297575</td>\n",
       "    </tr>\n",
       "    <tr>\n",
       "      <th>so2</th>\n",
       "      <td>15.311370</td>\n",
       "    </tr>\n",
       "    <tr>\n",
       "      <th>co</th>\n",
       "      <td>2.943555</td>\n",
       "    </tr>\n",
       "    <tr>\n",
       "      <th>pm25</th>\n",
       "      <td>13.388674</td>\n",
       "    </tr>\n",
       "  </tbody>\n",
       "</table>\n",
       "</div>"
      ],
      "text/plain": [
       "         %nulls\n",
       "date   0.000000\n",
       "ws     0.955244\n",
       "wd     0.334183\n",
       "nox    3.697374\n",
       "no2    3.720263\n",
       "o3     3.946103\n",
       "pm10   3.297575\n",
       "so2   15.311370\n",
       "co     2.943555\n",
       "pm25  13.388674"
      ]
     },
     "execution_count": 21,
     "metadata": {},
     "output_type": "execute_result"
    }
   ],
   "source": [
    "# ...ha az eredményt DataFrame-be szeretnénk tenni:\n",
    "pd.DataFrame({'%nulls': [df[c].isnull().mean() * 100 for c in df]}, index=df.columns)"
   ]
  },
  {
   "cell_type": "code",
   "execution_count": 33,
   "metadata": {},
   "outputs": [
    {
     "data": {
      "text/html": [
       "<div>\n",
       "<style scoped>\n",
       "    .dataframe tbody tr th:only-of-type {\n",
       "        vertical-align: middle;\n",
       "    }\n",
       "\n",
       "    .dataframe tbody tr th {\n",
       "        vertical-align: top;\n",
       "    }\n",
       "\n",
       "    .dataframe thead th {\n",
       "        text-align: right;\n",
       "    }\n",
       "</style>\n",
       "<table border=\"1\" class=\"dataframe\">\n",
       "  <thead>\n",
       "    <tr style=\"text-align: right;\">\n",
       "      <th></th>\n",
       "      <th>min</th>\n",
       "      <th>max</th>\n",
       "      <th>mean</th>\n",
       "    </tr>\n",
       "  </thead>\n",
       "  <tbody>\n",
       "    <tr>\n",
       "      <th>ws</th>\n",
       "      <td>-0.240000</td>\n",
       "      <td>20.160</td>\n",
       "      <td>4.488275</td>\n",
       "    </tr>\n",
       "    <tr>\n",
       "      <th>wd</th>\n",
       "      <td>0.000000</td>\n",
       "      <td>360.000</td>\n",
       "      <td>200.027100</td>\n",
       "    </tr>\n",
       "    <tr>\n",
       "      <th>nox</th>\n",
       "      <td>0.000000</td>\n",
       "      <td>1144.000</td>\n",
       "      <td>178.798558</td>\n",
       "    </tr>\n",
       "    <tr>\n",
       "      <th>no2</th>\n",
       "      <td>0.000000</td>\n",
       "      <td>206.000</td>\n",
       "      <td>49.129757</td>\n",
       "    </tr>\n",
       "    <tr>\n",
       "      <th>o3</th>\n",
       "      <td>-1.000000</td>\n",
       "      <td>70.000</td>\n",
       "      <td>7.122150</td>\n",
       "    </tr>\n",
       "    <tr>\n",
       "      <th>pm10</th>\n",
       "      <td>-1.000000</td>\n",
       "      <td>801.000</td>\n",
       "      <td>34.381856</td>\n",
       "    </tr>\n",
       "    <tr>\n",
       "      <th>so2</th>\n",
       "      <td>-2.167474</td>\n",
       "      <td>63.205</td>\n",
       "      <td>4.754911</td>\n",
       "    </tr>\n",
       "    <tr>\n",
       "      <th>co</th>\n",
       "      <td>-0.033333</td>\n",
       "      <td>19.705</td>\n",
       "      <td>1.463840</td>\n",
       "    </tr>\n",
       "    <tr>\n",
       "      <th>pm25</th>\n",
       "      <td>-1.000000</td>\n",
       "      <td>398.000</td>\n",
       "      <td>21.695343</td>\n",
       "    </tr>\n",
       "  </tbody>\n",
       "</table>\n",
       "</div>"
      ],
      "text/plain": [
       "           min       max        mean\n",
       "ws   -0.240000    20.160    4.488275\n",
       "wd    0.000000   360.000  200.027100\n",
       "nox   0.000000  1144.000  178.798558\n",
       "no2   0.000000   206.000   49.129757\n",
       "o3   -1.000000    70.000    7.122150\n",
       "pm10 -1.000000   801.000   34.381856\n",
       "so2  -2.167474    63.205    4.754911\n",
       "co   -0.033333    19.705    1.463840\n",
       "pm25 -1.000000   398.000   21.695343"
      ]
     },
     "execution_count": 33,
     "metadata": {},
     "output_type": "execute_result"
    }
   ],
   "source": [
    "# Az oszlopok minimális, maximális és átlagos értéke (a null értékek figyelmen kívül hagyásával).\n",
    "# 1. megoldás:\n",
    "data = []\n",
    "for c in df.columns[1:]:\n",
    "    data.append({\n",
    "        'min': df[c].min(),\n",
    "        'max': df[c].max(),\n",
    "        'mean': df[c].mean()\n",
    "    })\n",
    "\n",
    "pd.DataFrame(data, df.columns[1:])"
   ]
  },
  {
   "cell_type": "code",
   "execution_count": 37,
   "metadata": {},
   "outputs": [
    {
     "data": {
      "text/html": [
       "<div>\n",
       "<style scoped>\n",
       "    .dataframe tbody tr th:only-of-type {\n",
       "        vertical-align: middle;\n",
       "    }\n",
       "\n",
       "    .dataframe tbody tr th {\n",
       "        vertical-align: top;\n",
       "    }\n",
       "\n",
       "    .dataframe thead th {\n",
       "        text-align: right;\n",
       "    }\n",
       "</style>\n",
       "<table border=\"1\" class=\"dataframe\">\n",
       "  <thead>\n",
       "    <tr style=\"text-align: right;\">\n",
       "      <th></th>\n",
       "      <th>min</th>\n",
       "      <th>max</th>\n",
       "      <th>mean</th>\n",
       "    </tr>\n",
       "  </thead>\n",
       "  <tbody>\n",
       "    <tr>\n",
       "      <th>ws</th>\n",
       "      <td>-0.240000</td>\n",
       "      <td>20.160</td>\n",
       "      <td>4.488275</td>\n",
       "    </tr>\n",
       "    <tr>\n",
       "      <th>wd</th>\n",
       "      <td>0.000000</td>\n",
       "      <td>360.000</td>\n",
       "      <td>200.027100</td>\n",
       "    </tr>\n",
       "    <tr>\n",
       "      <th>nox</th>\n",
       "      <td>0.000000</td>\n",
       "      <td>1144.000</td>\n",
       "      <td>178.798558</td>\n",
       "    </tr>\n",
       "    <tr>\n",
       "      <th>no2</th>\n",
       "      <td>0.000000</td>\n",
       "      <td>206.000</td>\n",
       "      <td>49.129757</td>\n",
       "    </tr>\n",
       "    <tr>\n",
       "      <th>o3</th>\n",
       "      <td>-1.000000</td>\n",
       "      <td>70.000</td>\n",
       "      <td>7.122150</td>\n",
       "    </tr>\n",
       "    <tr>\n",
       "      <th>pm10</th>\n",
       "      <td>-1.000000</td>\n",
       "      <td>801.000</td>\n",
       "      <td>34.381856</td>\n",
       "    </tr>\n",
       "    <tr>\n",
       "      <th>so2</th>\n",
       "      <td>-2.167474</td>\n",
       "      <td>63.205</td>\n",
       "      <td>4.754911</td>\n",
       "    </tr>\n",
       "    <tr>\n",
       "      <th>co</th>\n",
       "      <td>-0.033333</td>\n",
       "      <td>19.705</td>\n",
       "      <td>1.463840</td>\n",
       "    </tr>\n",
       "    <tr>\n",
       "      <th>pm25</th>\n",
       "      <td>-1.000000</td>\n",
       "      <td>398.000</td>\n",
       "      <td>21.695343</td>\n",
       "    </tr>\n",
       "  </tbody>\n",
       "</table>\n",
       "</div>"
      ],
      "text/plain": [
       "           min       max        mean\n",
       "ws   -0.240000    20.160    4.488275\n",
       "wd    0.000000   360.000  200.027100\n",
       "nox   0.000000  1144.000  178.798558\n",
       "no2   0.000000   206.000   49.129757\n",
       "o3   -1.000000    70.000    7.122150\n",
       "pm10 -1.000000   801.000   34.381856\n",
       "so2  -2.167474    63.205    4.754911\n",
       "co   -0.033333    19.705    1.463840\n",
       "pm25 -1.000000   398.000   21.695343"
      ]
     },
     "execution_count": 37,
     "metadata": {},
     "output_type": "execute_result"
    }
   ],
   "source": [
    "# 2. megoldás\n",
    "df.describe().T[['min', 'max', 'mean']]"
   ]
  },
  {
   "cell_type": "code",
   "execution_count": 41,
   "metadata": {},
   "outputs": [
    {
     "data": {
      "text/plain": [
       "(65533, 10)"
      ]
     },
     "execution_count": 41,
     "metadata": {},
     "output_type": "execute_result"
    }
   ],
   "source": [
    "df.shape"
   ]
  },
  {
   "cell_type": "code",
   "execution_count": 40,
   "metadata": {},
   "outputs": [
    {
     "data": {
      "text/plain": [
       "3"
      ]
     },
     "execution_count": 40,
     "metadata": {},
     "output_type": "execute_result"
    }
   ],
   "source": [
    "# Hány -1 található az o3 oszlopban?\n",
    "(df['o3'] == -1).sum()"
   ]
  },
  {
   "cell_type": "code",
   "execution_count": 43,
   "metadata": {},
   "outputs": [
    {
     "data": {
      "text/html": [
       "<div>\n",
       "<style scoped>\n",
       "    .dataframe tbody tr th:only-of-type {\n",
       "        vertical-align: middle;\n",
       "    }\n",
       "\n",
       "    .dataframe tbody tr th {\n",
       "        vertical-align: top;\n",
       "    }\n",
       "\n",
       "    .dataframe thead th {\n",
       "        text-align: right;\n",
       "    }\n",
       "</style>\n",
       "<table border=\"1\" class=\"dataframe\">\n",
       "  <thead>\n",
       "    <tr style=\"text-align: right;\">\n",
       "      <th></th>\n",
       "      <th>date</th>\n",
       "      <th>ws</th>\n",
       "      <th>wd</th>\n",
       "      <th>nox</th>\n",
       "      <th>no2</th>\n",
       "      <th>o3</th>\n",
       "      <th>pm10</th>\n",
       "      <th>so2</th>\n",
       "      <th>co</th>\n",
       "      <th>pm25</th>\n",
       "    </tr>\n",
       "  </thead>\n",
       "  <tbody>\n",
       "    <tr>\n",
       "      <th>23035</th>\n",
       "      <td>17/08/2000 19:00</td>\n",
       "      <td>5.04</td>\n",
       "      <td>210.0</td>\n",
       "      <td>355.0</td>\n",
       "      <td>68.0</td>\n",
       "      <td>-1.0</td>\n",
       "      <td>46.0</td>\n",
       "      <td>5.6725</td>\n",
       "      <td>3.9825</td>\n",
       "      <td>31.0</td>\n",
       "    </tr>\n",
       "    <tr>\n",
       "      <th>23560</th>\n",
       "      <td>08/09/2000 16:00</td>\n",
       "      <td>2.04</td>\n",
       "      <td>300.0</td>\n",
       "      <td>324.0</td>\n",
       "      <td>50.0</td>\n",
       "      <td>-1.0</td>\n",
       "      <td>43.0</td>\n",
       "      <td>6.9725</td>\n",
       "      <td>4.0500</td>\n",
       "      <td>46.0</td>\n",
       "    </tr>\n",
       "    <tr>\n",
       "      <th>23561</th>\n",
       "      <td>08/09/2000 17:00</td>\n",
       "      <td>1.92</td>\n",
       "      <td>320.0</td>\n",
       "      <td>116.0</td>\n",
       "      <td>32.0</td>\n",
       "      <td>-1.0</td>\n",
       "      <td>11.0</td>\n",
       "      <td>2.6850</td>\n",
       "      <td>1.8675</td>\n",
       "      <td>9.0</td>\n",
       "    </tr>\n",
       "  </tbody>\n",
       "</table>\n",
       "</div>"
      ],
      "text/plain": [
       "                   date    ws     wd    nox   no2   o3  pm10     so2      co  \\\n",
       "23035  17/08/2000 19:00  5.04  210.0  355.0  68.0 -1.0  46.0  5.6725  3.9825   \n",
       "23560  08/09/2000 16:00  2.04  300.0  324.0  50.0 -1.0  43.0  6.9725  4.0500   \n",
       "23561  08/09/2000 17:00  1.92  320.0  116.0  32.0 -1.0  11.0  2.6850  1.8675   \n",
       "\n",
       "       pm25  \n",
       "23035  31.0  \n",
       "23560  46.0  \n",
       "23561   9.0  "
      ]
     },
     "execution_count": 43,
     "metadata": {},
     "output_type": "execute_result"
    }
   ],
   "source": [
    "# Melyek a problémás sorok?\n",
    "df[df['o3'] == -1]"
   ]
  },
  {
   "cell_type": "code",
   "execution_count": 46,
   "metadata": {},
   "outputs": [
    {
     "data": {
      "text/plain": [
       "416"
      ]
     },
     "execution_count": 46,
     "metadata": {},
     "output_type": "execute_result"
    }
   ],
   "source": [
    "# Hány negatív érték van az so2 oszlopban?\n",
    "(df['so2'] < 0).sum()"
   ]
  },
  {
   "cell_type": "code",
   "execution_count": 49,
   "metadata": {},
   "outputs": [
    {
     "data": {
      "text/html": [
       "<div>\n",
       "<style scoped>\n",
       "    .dataframe tbody tr th:only-of-type {\n",
       "        vertical-align: middle;\n",
       "    }\n",
       "\n",
       "    .dataframe tbody tr th {\n",
       "        vertical-align: top;\n",
       "    }\n",
       "\n",
       "    .dataframe thead th {\n",
       "        text-align: right;\n",
       "    }\n",
       "</style>\n",
       "<table border=\"1\" class=\"dataframe\">\n",
       "  <thead>\n",
       "    <tr style=\"text-align: right;\">\n",
       "      <th></th>\n",
       "      <th>date</th>\n",
       "      <th>ws</th>\n",
       "      <th>wd</th>\n",
       "      <th>nox</th>\n",
       "      <th>no2</th>\n",
       "      <th>o3</th>\n",
       "      <th>pm10</th>\n",
       "      <th>so2</th>\n",
       "      <th>co</th>\n",
       "      <th>pm25</th>\n",
       "    </tr>\n",
       "  </thead>\n",
       "  <tbody>\n",
       "    <tr>\n",
       "      <th>2937</th>\n",
       "      <td>03/05/1998 09:00</td>\n",
       "      <td>6.00</td>\n",
       "      <td>10.0</td>\n",
       "      <td>30.0</td>\n",
       "      <td>18.0</td>\n",
       "      <td>32.0</td>\n",
       "      <td>21.0</td>\n",
       "      <td>-7.000000e-02</td>\n",
       "      <td>0.200000</td>\n",
       "      <td>9.0</td>\n",
       "    </tr>\n",
       "    <tr>\n",
       "      <th>2938</th>\n",
       "      <td>03/05/1998 10:00</td>\n",
       "      <td>5.76</td>\n",
       "      <td>30.0</td>\n",
       "      <td>35.0</td>\n",
       "      <td>19.0</td>\n",
       "      <td>31.0</td>\n",
       "      <td>25.0</td>\n",
       "      <td>-1.400000e-01</td>\n",
       "      <td>0.325000</td>\n",
       "      <td>12.0</td>\n",
       "    </tr>\n",
       "    <tr>\n",
       "      <th>2939</th>\n",
       "      <td>03/05/1998 11:00</td>\n",
       "      <td>6.00</td>\n",
       "      <td>20.0</td>\n",
       "      <td>36.0</td>\n",
       "      <td>19.0</td>\n",
       "      <td>31.0</td>\n",
       "      <td>28.0</td>\n",
       "      <td>-1.390000e-17</td>\n",
       "      <td>0.402500</td>\n",
       "      <td>12.0</td>\n",
       "    </tr>\n",
       "    <tr>\n",
       "      <th>2940</th>\n",
       "      <td>03/05/1998 12:00</td>\n",
       "      <td>6.60</td>\n",
       "      <td>10.0</td>\n",
       "      <td>32.0</td>\n",
       "      <td>18.0</td>\n",
       "      <td>33.0</td>\n",
       "      <td>26.0</td>\n",
       "      <td>-1.025000e-01</td>\n",
       "      <td>0.375000</td>\n",
       "      <td>12.0</td>\n",
       "    </tr>\n",
       "    <tr>\n",
       "      <th>2941</th>\n",
       "      <td>03/05/1998 13:00</td>\n",
       "      <td>6.00</td>\n",
       "      <td>10.0</td>\n",
       "      <td>35.0</td>\n",
       "      <td>19.0</td>\n",
       "      <td>32.0</td>\n",
       "      <td>29.0</td>\n",
       "      <td>-7.000000e-02</td>\n",
       "      <td>0.350000</td>\n",
       "      <td>12.0</td>\n",
       "    </tr>\n",
       "    <tr>\n",
       "      <th>...</th>\n",
       "      <td>...</td>\n",
       "      <td>...</td>\n",
       "      <td>...</td>\n",
       "      <td>...</td>\n",
       "      <td>...</td>\n",
       "      <td>...</td>\n",
       "      <td>...</td>\n",
       "      <td>...</td>\n",
       "      <td>...</td>\n",
       "      <td>...</td>\n",
       "    </tr>\n",
       "    <tr>\n",
       "      <th>59066</th>\n",
       "      <td>27/09/2004 02:00</td>\n",
       "      <td>2.60</td>\n",
       "      <td>270.0</td>\n",
       "      <td>73.0</td>\n",
       "      <td>23.0</td>\n",
       "      <td>3.0</td>\n",
       "      <td>13.0</td>\n",
       "      <td>-4.313380e-01</td>\n",
       "      <td>0.517241</td>\n",
       "      <td>10.0</td>\n",
       "    </tr>\n",
       "    <tr>\n",
       "      <th>59067</th>\n",
       "      <td>27/09/2004 03:00</td>\n",
       "      <td>3.60</td>\n",
       "      <td>260.0</td>\n",
       "      <td>101.0</td>\n",
       "      <td>33.0</td>\n",
       "      <td>2.0</td>\n",
       "      <td>18.0</td>\n",
       "      <td>-5.499560e-01</td>\n",
       "      <td>0.431035</td>\n",
       "      <td>12.0</td>\n",
       "    </tr>\n",
       "    <tr>\n",
       "      <th>59078</th>\n",
       "      <td>27/09/2004 14:00</td>\n",
       "      <td>5.70</td>\n",
       "      <td>270.0</td>\n",
       "      <td>94.0</td>\n",
       "      <td>35.0</td>\n",
       "      <td>4.0</td>\n",
       "      <td>26.0</td>\n",
       "      <td>-1.390000e-17</td>\n",
       "      <td>0.517241</td>\n",
       "      <td>13.0</td>\n",
       "    </tr>\n",
       "    <tr>\n",
       "      <th>59091</th>\n",
       "      <td>28/09/2004 03:00</td>\n",
       "      <td>4.60</td>\n",
       "      <td>260.0</td>\n",
       "      <td>62.0</td>\n",
       "      <td>26.0</td>\n",
       "      <td>6.0</td>\n",
       "      <td>22.0</td>\n",
       "      <td>-3.558539e-01</td>\n",
       "      <td>0.431035</td>\n",
       "      <td>13.0</td>\n",
       "    </tr>\n",
       "    <tr>\n",
       "      <th>59113</th>\n",
       "      <td>29/09/2004 01:00</td>\n",
       "      <td>3.10</td>\n",
       "      <td>290.0</td>\n",
       "      <td>24.0</td>\n",
       "      <td>15.0</td>\n",
       "      <td>16.0</td>\n",
       "      <td>7.0</td>\n",
       "      <td>-1.725352e-01</td>\n",
       "      <td>0.172414</td>\n",
       "      <td>6.0</td>\n",
       "    </tr>\n",
       "  </tbody>\n",
       "</table>\n",
       "<p>416 rows × 10 columns</p>\n",
       "</div>"
      ],
      "text/plain": [
       "                   date    ws     wd    nox   no2    o3  pm10           so2  \\\n",
       "2937   03/05/1998 09:00  6.00   10.0   30.0  18.0  32.0  21.0 -7.000000e-02   \n",
       "2938   03/05/1998 10:00  5.76   30.0   35.0  19.0  31.0  25.0 -1.400000e-01   \n",
       "2939   03/05/1998 11:00  6.00   20.0   36.0  19.0  31.0  28.0 -1.390000e-17   \n",
       "2940   03/05/1998 12:00  6.60   10.0   32.0  18.0  33.0  26.0 -1.025000e-01   \n",
       "2941   03/05/1998 13:00  6.00   10.0   35.0  19.0  32.0  29.0 -7.000000e-02   \n",
       "...                 ...   ...    ...    ...   ...   ...   ...           ...   \n",
       "59066  27/09/2004 02:00  2.60  270.0   73.0  23.0   3.0  13.0 -4.313380e-01   \n",
       "59067  27/09/2004 03:00  3.60  260.0  101.0  33.0   2.0  18.0 -5.499560e-01   \n",
       "59078  27/09/2004 14:00  5.70  270.0   94.0  35.0   4.0  26.0 -1.390000e-17   \n",
       "59091  28/09/2004 03:00  4.60  260.0   62.0  26.0   6.0  22.0 -3.558539e-01   \n",
       "59113  29/09/2004 01:00  3.10  290.0   24.0  15.0  16.0   7.0 -1.725352e-01   \n",
       "\n",
       "             co  pm25  \n",
       "2937   0.200000   9.0  \n",
       "2938   0.325000  12.0  \n",
       "2939   0.402500  12.0  \n",
       "2940   0.375000  12.0  \n",
       "2941   0.350000  12.0  \n",
       "...         ...   ...  \n",
       "59066  0.517241  10.0  \n",
       "59067  0.431035  12.0  \n",
       "59078  0.517241  13.0  \n",
       "59091  0.431035  13.0  \n",
       "59113  0.172414   6.0  \n",
       "\n",
       "[416 rows x 10 columns]"
      ]
     },
     "execution_count": 49,
     "metadata": {},
     "output_type": "execute_result"
    }
   ],
   "source": [
    "df[df['so2'] < 0]"
   ]
  },
  {
   "cell_type": "code",
   "execution_count": 59,
   "metadata": {},
   "outputs": [
    {
     "data": {
      "text/plain": [
       "<AxesSubplot:>"
      ]
     },
     "execution_count": 59,
     "metadata": {},
     "output_type": "execute_result"
    },
    {
     "data": {
      "image/png": "[encoded data removed]",
      "text/plain": [
       "<Figure size 1152x288 with 1 Axes>"
      ]
     },
     "metadata": {
      "needs_background": "light"
     },
     "output_type": "display_data"
    }
   ],
   "source": [
    "# 1. heti szén-monoxid koncentráció.\n",
    "df[:168]['co'].plot(figsize=(16, 4), grid=True)"
   ]
  },
  {
   "cell_type": "code",
   "execution_count": 80,
   "metadata": {},
   "outputs": [],
   "source": [
    "# A date oszlop konvertálása datetime típusúvá.\n",
    "import datetime\n",
    "\n",
    "# 1. megoldás\n",
    "def parse_date_1(dstr):\n",
    "    return datetime.datetime.strptime(dstr, '%d/%m/%Y %H:%M')\n",
    "\n",
    "# 2. megoldás\n",
    "def parse_date_2(dstr):  \n",
    "    dmy, hm = dstr.split()\n",
    "    d, mo, y = dmy.split('/')\n",
    "    h, mi = hm.split(':')\n",
    "    return datetime.datetime(int(y), int(mo), int(d), int(h), int(mi))\n",
    "\n",
    "df['date2'] = df['date'].apply(parse_date_1)"
   ]
  },
  {
   "cell_type": "code",
   "execution_count": 94,
   "metadata": {},
   "outputs": [
    {
     "data": {
      "text/plain": [
       "<matplotlib.legend.Legend at 0x7f224da0eba8>"
      ]
     },
     "execution_count": 94,
     "metadata": {},
     "output_type": "execute_result"
    },
    {
     "data": {
      "image/png": "[encoded data removed]",
      "text/plain": [
       "<Figure size 432x288 with 1 Axes>"
      ]
     },
     "metadata": {
      "needs_background": "light"
     },
     "output_type": "display_data"
    }
   ],
   "source": [
    "# Átlagos szén-monoxid ill. szálló por (PM10) koncentráció az év hónapjaiban!\n",
    "import matplotlib.pyplot as plt\n",
    "(df['co'].groupby(df['date2'].dt.month).mean() * 10).plot() \n",
    "df['pm10'].groupby(df['date2'].dt.month).mean().plot(grid=True)\n",
    "plt.legend(['CO*10', 'PM10'])"
   ]
  },
  {
   "cell_type": "code",
   "execution_count": 101,
   "metadata": {},
   "outputs": [
    {
     "data": {
      "text/plain": [
       "<matplotlib.legend.Legend at 0x7f224dc685c0>"
      ]
     },
     "execution_count": 101,
     "metadata": {},
     "output_type": "execute_result"
    },
    {
     "data": {
      "image/png": "[encoded data removed]",
      "text/plain": [
       "<Figure size 432x288 with 1 Axes>"
      ]
     },
     "metadata": {
      "needs_background": "light"
     },
     "output_type": "display_data"
    }
   ],
   "source": [
    "# ...ha nem szeretnénk a különböző évek hónapjait összevonni.\n",
    "gb = [df['date2'].dt.year, df['date2'].dt.month] # csoporttosítsunk év ÉS hónap szerint\n",
    "(df['co'].groupby(gb).mean() * 10).plot()\n",
    "df['pm10'].groupby(gb).mean().plot(grid=True)\n",
    "plt.legend(['CO*10', 'PM10'])"
   ]
  },
  {
   "cell_type": "code",
   "execution_count": null,
   "metadata": {},
   "outputs": [],
   "source": []
  },
  {
   "cell_type": "code",
   "execution_count": 104,
   "metadata": {
    "scrolled": true
   },
   "outputs": [
    {
     "data": {
      "text/plain": [
       "<matplotlib.legend.Legend at 0x7f224d8b1908>"
      ]
     },
     "execution_count": 104,
     "metadata": {},
     "output_type": "execute_result"
    },
    {
     "data": {
      "image/png": "[encoded data removed]",
      "text/plain": [
       "<Figure size 432x288 with 1 Axes>"
      ]
     },
     "metadata": {
      "needs_background": "light"
     },
     "output_type": "display_data"
    }
   ],
   "source": [
    "# Átlagos szén-monoxid ill. szálló por (PM10) koncentráció a hét napjain!\n",
    "gb = df['date2'].dt.weekday\n",
    "(df['co'].groupby(gb).mean() * 10).plot()\n",
    "df['pm10'].groupby(gb).mean().plot(grid=True)\n",
    "plt.legend(['CO*10', 'PM10'])"
   ]
  }
 ],
 "metadata": {
  "kernelspec": {
   "display_name": "Python 3 (ipykernel)",
   "language": "python",
   "name": "python3"
  },
  "language_info": {
   "codemirror_mode": {
    "name": "ipython",
    "version": 3
   },
   "file_extension": ".py",
   "mimetype": "text/x-python",
   "name": "python",
   "nbconvert_exporter": "python",
   "pygments_lexer": "ipython3",
   "version": "3.9.13"
  }
 },
 "nbformat": 4,
 "nbformat_minor": 2
}
