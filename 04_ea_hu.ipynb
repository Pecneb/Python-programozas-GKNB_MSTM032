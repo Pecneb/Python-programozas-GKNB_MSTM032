{
 "cells": [
  {
   "cell_type": "markdown",
   "metadata": {},
   "source": [
    "## [Comprehension-ök](https://python-3-patterns-idioms-test.readthedocs.io/en/latest/Comprehensions.html)\n",
    "\n",
    "A comprehension egy olyan nyelvi elem a Pythonban, amely szekvenciák tömör megadását teszi lehetővé. A comprehension némileg hasonlít a matematikában alkalmazott, [tulajdonság alapján történő halmazmegadásra](https://en.wikipedia.org/wiki/Set-builder_notation) (példa: a páratlan számok halmaza megadható $\\{2k + 1\\ |\\ k \\in \\mathbb{Z}\\}$ módon)."
   ]
  },
  {
   "cell_type": "markdown",
   "metadata": {},
   "source": [
    "### Feltétel nélküli comprehension"
   ]
  },
  {
   "cell_type": "code",
   "execution_count": 1,
   "metadata": {},
   "outputs": [
    {
     "data": {
      "text/plain": [
       "[1, 4, 9, 16, 25, 36, 49, 64, 81, 100]"
      ]
     },
     "execution_count": 1,
     "metadata": {},
     "output_type": "execute_result"
    }
   ],
   "source": [
    "# Állítsuk elő az első 10 négyzetszám listáját gyűjtőváltozó használatával!\n",
    "l = []\n",
    "for i in range(1, 11):\n",
    "    l.append(i**2)\n",
    "l"
   ]
  },
  {
   "cell_type": "code",
   "execution_count": 3,
   "metadata": {},
   "outputs": [
    {
     "data": {
      "text/plain": [
       "[1, 4, 9, 16, 25, 36, 49, 64, 81, 100]"
      ]
     },
     "execution_count": 3,
     "metadata": {},
     "output_type": "execute_result"
    }
   ],
   "source": [
    "# Ugyanez tömörebben, lista comprehension-nel:\n",
    "l = [i**2 for i in range(1, 11)]\n",
    "l"
   ]
  },
  {
   "cell_type": "code",
   "execution_count": 4,
   "metadata": {},
   "outputs": [
    {
     "data": {
      "text/plain": [
       "{1, 4, 9, 16, 25, 36, 49, 64, 81, 100}"
      ]
     },
     "execution_count": 4,
     "metadata": {},
     "output_type": "execute_result"
    }
   ],
   "source": [
    "# Állítsuk elő az első 10 négyzetszám halmazát gyűjtőváltozó használatával!\n",
    "s = set()\n",
    "for i in range(1, 11):\n",
    "    s.add(i**2)\n",
    "s"
   ]
  },
  {
   "cell_type": "code",
   "execution_count": 5,
   "metadata": {},
   "outputs": [
    {
     "data": {
      "text/plain": [
       "{1, 4, 9, 16, 25, 36, 49, 64, 81, 100}"
      ]
     },
     "execution_count": 5,
     "metadata": {},
     "output_type": "execute_result"
    }
   ],
   "source": [
    "# Ugyanez tömörebben, halmaz comprehension-nel:\n",
    "s = {i**2 for i in range(1, 11)}\n",
    "s"
   ]
  },
  {
   "cell_type": "code",
   "execution_count": 6,
   "metadata": {},
   "outputs": [
    {
     "data": {
      "text/plain": [
       "{'a': 97, 'e': 101, 'i': 105, 'o': 111, 'u': 117}"
      ]
     },
     "execution_count": 6,
     "metadata": {},
     "output_type": "execute_result"
    }
   ],
   "source": [
    "# Állítsunk elő egy szótárat, amely az angol kisbetűs magánhangzókhoz hozzárendeli az ASCII-kódjukat!\n",
    "# Használjunk gyűjtőváltozót!\n",
    "d = {}\n",
    "for ch in 'aeiou':\n",
    "    d[ch] = ord(ch)\n",
    "d"
   ]
  },
  {
   "cell_type": "code",
   "execution_count": 8,
   "metadata": {},
   "outputs": [
    {
     "data": {
      "text/plain": [
       "{'a': 97, 'e': 101, 'i': 105, 'o': 111, 'u': 117}"
      ]
     },
     "execution_count": 8,
     "metadata": {},
     "output_type": "execute_result"
    }
   ],
   "source": [
    "# Ugyanez tömörebben, szótár comprehension-nel:\n",
    "d = {ch: ord(ch) for ch in 'aeiou'}\n",
    "d"
   ]
  },
  {
   "cell_type": "markdown",
   "metadata": {},
   "source": [
    "Megjegyzés: Tuple comprehension nincs."
   ]
  },
  {
   "cell_type": "code",
   "execution_count": 58,
   "metadata": {},
   "outputs": [
    {
     "data": {
      "text/plain": [
       "[(10, 'alma'), (20, 'körte'), (30, 'barack')]"
      ]
     },
     "execution_count": 58,
     "metadata": {},
     "output_type": "execute_result"
    }
   ],
   "source": [
    "# Feladat: Párok tagjainak megcserélése egy listában.\n",
    "pairs = [('alma', 10), ('körte', 20), ('barack', 30)]\n",
    "[(p[1], p[0]) for p in pairs]"
   ]
  },
  {
   "cell_type": "markdown",
   "metadata": {},
   "source": [
    "### Feltételes comprehension"
   ]
  },
  {
   "cell_type": "code",
   "execution_count": 13,
   "metadata": {},
   "outputs": [
    {
     "data": {
      "text/plain": [
       "[4, 16, 36, 64, 100]"
      ]
     },
     "execution_count": 13,
     "metadata": {},
     "output_type": "execute_result"
    }
   ],
   "source": [
    "# Feltételes lista comprehension.\n",
    "[i**2 for i in range(1, 11) if i % 2 == 0]"
   ]
  },
  {
   "cell_type": "code",
   "execution_count": 14,
   "metadata": {},
   "outputs": [
    {
     "data": {
      "text/plain": [
       "{4, 16, 36, 64, 100}"
      ]
     },
     "execution_count": 14,
     "metadata": {},
     "output_type": "execute_result"
    }
   ],
   "source": [
    "# Feltételes halmaz comprehension.\n",
    "{i**2 for i in range(1, 11) if i % 2 == 0}"
   ]
  },
  {
   "cell_type": "code",
   "execution_count": 15,
   "metadata": {},
   "outputs": [
    {
     "data": {
      "text/plain": [
       "{'a': 97, 'e': 101, 'o': 111, 'u': 117}"
      ]
     },
     "execution_count": 15,
     "metadata": {},
     "output_type": "execute_result"
    }
   ],
   "source": [
    "# Feltételes szótár comprehension.\n",
    "{ch: ord(ch) for ch in 'aeiou' if ch != 'i'}"
   ]
  },
  {
   "cell_type": "markdown",
   "metadata": {},
   "source": [
    "## A sum, min, max függvények"
   ]
  },
  {
   "cell_type": "code",
   "execution_count": 9,
   "metadata": {},
   "outputs": [
    {
     "name": "stdout",
     "output_type": "stream",
     "text": [
      "12\n",
      "3.3000000000000003\n",
      "3.3\n",
      "(3+5j)\n"
     ]
    }
   ],
   "source": [
    "# Számítsuk ki számok összegét a sum függvénnyel\n",
    "\n",
    "# Az adatok egész számok egy listában\n",
    "print(sum([1, 8, 3]))\n",
    "\n",
    "# Az adatok valós számok egy listában\n",
    "print(sum([1.1, 2.2]))\n",
    "\n",
    "# Az adatok egész és valós számok egy tuple-ban\n",
    "print(sum((1, 2.3)))\n",
    "\n",
    "# Az adatok complex számok egy halmazban\n",
    "print(sum({1 + 2j, 2 + 3j}))"
   ]
  },
  {
   "cell_type": "code",
   "execution_count": 10,
   "metadata": {},
   "outputs": [
    {
     "ename": "TypeError",
     "evalue": "unsupported operand type(s) for +: 'int' and 'str'",
     "output_type": "error",
     "traceback": [
      "\u001b[1;31m---------------------------------------------------------------------------\u001b[0m",
      "\u001b[1;31mTypeError\u001b[0m                                 Traceback (most recent call last)",
      "\u001b[1;32m<ipython-input-10-049c407d152c>\u001b[0m in \u001b[0;36m<module>\u001b[1;34m\u001b[0m\n\u001b[0;32m      1\u001b[0m \u001b[1;31m# Ha az elemek nem számok, hibát kapunk\u001b[0m\u001b[1;33m\u001b[0m\u001b[1;33m\u001b[0m\u001b[1;33m\u001b[0m\u001b[0m\n\u001b[1;32m----> 2\u001b[1;33m \u001b[0msum\u001b[0m\u001b[1;33m(\u001b[0m\u001b[1;33m[\u001b[0m\u001b[1;36m3\u001b[0m\u001b[1;33m,\u001b[0m \u001b[1;34m'alma'\u001b[0m\u001b[1;33m]\u001b[0m\u001b[1;33m)\u001b[0m\u001b[1;33m\u001b[0m\u001b[1;33m\u001b[0m\u001b[0m\n\u001b[0m",
      "\u001b[1;31mTypeError\u001b[0m: unsupported operand type(s) for +: 'int' and 'str'"
     ]
    }
   ],
   "source": [
    "# Ha az elemek nem számok, hibát kapunk\n",
    "sum([3, 'alma'])"
   ]
  },
  {
   "cell_type": "code",
   "execution_count": 11,
   "metadata": {},
   "outputs": [
    {
     "name": "stdout",
     "output_type": "stream",
     "text": [
      "2.8\n",
      "5\n",
      "a\n",
      "m\n",
      "Lady Mariann\n",
      "Robin Hood\n"
     ]
    }
   ],
   "source": [
    "# Minimum/maximum érték (ahol az adatok összehasonlíthatók)\n",
    "\n",
    "# Az adatok számok\n",
    "print(min(3, 5, 2.8))\n",
    "\n",
    "# Az adatok számok egy listában\n",
    "print(max([3, 5, 2.8]))\n",
    "\n",
    "# Az adat egy db sztring, azaz karakterek egy szekvenciája\n",
    "print(min('alma'))\n",
    "print(max('alma'))\n",
    "\n",
    "# Az adatok sztringek\n",
    "print(min('Little John', 'Lady Mariann', 'Robin Hood'))\n",
    "\n",
    "# Az adatok sztringek egy listában\n",
    "print(max(['Little John', 'Lady Mariann', 'Robin Hood']))"
   ]
  },
  {
   "cell_type": "code",
   "execution_count": 12,
   "metadata": {},
   "outputs": [
    {
     "ename": "TypeError",
     "evalue": "'<' not supported between instances of 'str' and 'int'",
     "output_type": "error",
     "traceback": [
      "\u001b[1;31m---------------------------------------------------------------------------\u001b[0m",
      "\u001b[1;31mTypeError\u001b[0m                                 Traceback (most recent call last)",
      "\u001b[1;32m<ipython-input-12-90105ef124b3>\u001b[0m in \u001b[0;36m<module>\u001b[1;34m\u001b[0m\n\u001b[0;32m      1\u001b[0m \u001b[1;31m# Ha az elemek nem összehasonlíthatók, hibát kapunk\u001b[0m\u001b[1;33m\u001b[0m\u001b[1;33m\u001b[0m\u001b[1;33m\u001b[0m\u001b[0m\n\u001b[1;32m----> 2\u001b[1;33m \u001b[0mmin\u001b[0m\u001b[1;33m(\u001b[0m\u001b[1;36m3\u001b[0m\u001b[1;33m,\u001b[0m \u001b[1;34m'alma'\u001b[0m\u001b[1;33m)\u001b[0m\u001b[1;33m\u001b[0m\u001b[1;33m\u001b[0m\u001b[0m\n\u001b[0m",
      "\u001b[1;31mTypeError\u001b[0m: '<' not supported between instances of 'str' and 'int'"
     ]
    }
   ],
   "source": [
    "# Ha az elemek nem összehasonlíthatók, hibát kapunk\n",
    "min(3, 'alma')"
   ]
  },
  {
   "cell_type": "markdown",
   "metadata": {},
   "source": [
    "## Rendezés"
   ]
  },
  {
   "cell_type": "code",
   "execution_count": 16,
   "metadata": {},
   "outputs": [],
   "source": [
    "# Lista rendezése helyben.\n",
    "l = [2, 11, 10, 3]\n",
    "l.sort()"
   ]
  },
  {
   "cell_type": "code",
   "execution_count": 17,
   "metadata": {},
   "outputs": [
    {
     "data": {
      "text/plain": [
       "[2, 3, 10, 11]"
      ]
     },
     "execution_count": 17,
     "metadata": {},
     "output_type": "execute_result"
    }
   ],
   "source": [
    "l"
   ]
  },
  {
   "cell_type": "code",
   "execution_count": 19,
   "metadata": {},
   "outputs": [
    {
     "data": {
      "text/plain": [
       "[11, 10, 3, 2]"
      ]
     },
     "execution_count": 19,
     "metadata": {},
     "output_type": "execute_result"
    }
   ],
   "source": [
    "# Rendezés csökkenő sorrendbe.\n",
    "l.sort(reverse=True)\n",
    "l"
   ]
  },
  {
   "cell_type": "code",
   "execution_count": 55,
   "metadata": {},
   "outputs": [
    {
     "ename": "TypeError",
     "evalue": "'<' not supported between instances of 'str' and 'int'",
     "output_type": "error",
     "traceback": [
      "\u001b[1;31m---------------------------------------------------------------------------\u001b[0m",
      "\u001b[1;31mTypeError\u001b[0m                                 Traceback (most recent call last)",
      "\u001b[1;32m~\\AppData\\Local\\Temp\\ipykernel_12060\\1422891767.py\u001b[0m in \u001b[0;36m<module>\u001b[1;34m\u001b[0m\n\u001b[0;32m      1\u001b[0m \u001b[1;31m# Fontos, hogy az elemek összehasonlíthatók legyenek!\u001b[0m\u001b[1;33m\u001b[0m\u001b[1;33m\u001b[0m\u001b[0m\n\u001b[0;32m      2\u001b[0m \u001b[0ml\u001b[0m \u001b[1;33m=\u001b[0m \u001b[1;33m[\u001b[0m\u001b[1;36m1\u001b[0m\u001b[1;33m,\u001b[0m \u001b[1;36m2\u001b[0m\u001b[1;33m,\u001b[0m \u001b[1;34m'alma'\u001b[0m\u001b[1;33m]\u001b[0m\u001b[1;33m\u001b[0m\u001b[1;33m\u001b[0m\u001b[0m\n\u001b[1;32m----> 3\u001b[1;33m \u001b[0ml\u001b[0m\u001b[1;33m.\u001b[0m\u001b[0msort\u001b[0m\u001b[1;33m(\u001b[0m\u001b[1;33m)\u001b[0m\u001b[1;33m\u001b[0m\u001b[1;33m\u001b[0m\u001b[0m\n\u001b[0m",
      "\u001b[1;31mTypeError\u001b[0m: '<' not supported between instances of 'str' and 'int'"
     ]
    }
   ],
   "source": [
    "# Fontos, hogy az elemek összehasonlíthatók legyenek!\n",
    "l = [1, 2, 'alma']\n",
    "l.sort()"
   ]
  },
  {
   "cell_type": "code",
   "execution_count": 56,
   "metadata": {},
   "outputs": [],
   "source": [
    "# Ha csak sztringeket tartalmaz a lista, akkor lehet rendezni.\n",
    "l = ['alma', 'szilva', 'körte']\n",
    "l.sort()"
   ]
  },
  {
   "cell_type": "code",
   "execution_count": 57,
   "metadata": {},
   "outputs": [
    {
     "data": {
      "text/plain": [
       "['alma', 'körte', 'szilva']"
      ]
     },
     "execution_count": 57,
     "metadata": {},
     "output_type": "execute_result"
    }
   ],
   "source": [
    "l"
   ]
  },
  {
   "cell_type": "code",
   "execution_count": 27,
   "metadata": {},
   "outputs": [
    {
     "name": "stdout",
     "output_type": "stream",
     "text": [
      "[2, 11, 10, 3]\n",
      "[2, 3, 10, 11]\n"
     ]
    }
   ],
   "source": [
    "# Kollekció rendezése listába.\n",
    "l1 = [2, 11, 10, 3]\n",
    "l2 = sorted(l1)\n",
    "print(l1)\n",
    "print(l2)"
   ]
  },
  {
   "cell_type": "code",
   "execution_count": 28,
   "metadata": {},
   "outputs": [
    {
     "data": {
      "text/plain": [
       "[10, 30, 35, 40]"
      ]
     },
     "execution_count": 28,
     "metadata": {},
     "output_type": "execute_result"
    }
   ],
   "source": [
    "# Tuple elemeit is rendezhetjük új listába.\n",
    "sorted((40, 10, 30, 35))"
   ]
  },
  {
   "cell_type": "code",
   "execution_count": 29,
   "metadata": {},
   "outputs": [
    {
     "data": {
      "text/plain": [
       "[10, 30, 35, 40]"
      ]
     },
     "execution_count": 29,
     "metadata": {},
     "output_type": "execute_result"
    }
   ],
   "source": [
    "# ...és halmaz elemeit is.\n",
    "sorted({40, 10, 30, 35})"
   ]
  },
  {
   "cell_type": "code",
   "execution_count": 31,
   "metadata": {},
   "outputs": [
    {
     "data": {
      "text/plain": [
       "['alma', 'cseresznye', 'körte']"
      ]
     },
     "execution_count": 31,
     "metadata": {},
     "output_type": "execute_result"
    }
   ],
   "source": [
    "# Szótár esetén a sorted a kulcsokat rendezi.\n",
    "d = {'cseresznye': 10, 'alma': 20, 'körte': 30}\n",
    "sorted(d)"
   ]
  },
  {
   "cell_type": "code",
   "execution_count": 32,
   "metadata": {},
   "outputs": [
    {
     "data": {
      "text/plain": [
       "['a', 'a', 'i', 'l', 'm', 'v']"
      ]
     },
     "execution_count": 32,
     "metadata": {},
     "output_type": "execute_result"
    }
   ],
   "source": [
    "# Sztring esetén a sorted a karaktereket rendezi.\n",
    "sorted('valami')"
   ]
  },
  {
   "cell_type": "code",
   "execution_count": 33,
   "metadata": {},
   "outputs": [
    {
     "data": {
      "text/plain": [
       "[('bor', 5), ('bor', 20), ('pálinka', 30), ('sör', 10)]"
      ]
     },
     "execution_count": 33,
     "metadata": {},
     "output_type": "execute_result"
    }
   ],
   "source": [
    "# Párok listájának rendezése (lexikografikusan).\n",
    "pairs = [('sör', 10), ('bor', 20), ('pálinka', 30), ('bor', 5)]\n",
    "sorted(pairs)"
   ]
  },
  {
   "cell_type": "markdown",
   "metadata": {},
   "source": [
    "- A Python rendező algoritmusa a Timsort.\n",
    "- Időigény: O(n*log(n)), ahol n a rendezendő szekvencia hossza.\n",
    "- A Python rendező algoritmusa stabil (egyenlőség esetén megőrzi az eredeti sorrendet)."
   ]
  },
  {
   "cell_type": "markdown",
   "metadata": {},
   "source": [
    "## [Fájlkezelés](https://docs.python.org/3/tutorial/inputoutput.html#reading-and-writing-files)\n",
    "\n",
    "- A fájl valamilyen adathordozón tárolt, logikailag összefüggő adatok összessége.\n",
    "- Egy fájl életciklusa a következő lépésekből áll:\n",
    "  1. megnyitás\n",
    "  2. olvasás, írás, pozícionálás, ...\n",
    "  3. bezárás"
   ]
  },
  {
   "cell_type": "code",
   "execution_count": 41,
   "metadata": {},
   "outputs": [],
   "source": [
    "# Fájl megnyitása (precízebben: létező fájl megnyitása olvasásra).\n",
    "f = open('example_file.txt')"
   ]
  },
  {
   "cell_type": "code",
   "execution_count": 38,
   "metadata": {},
   "outputs": [
    {
     "data": {
      "text/plain": [
       "_io.TextIOWrapper"
      ]
     },
     "execution_count": 38,
     "metadata": {},
     "output_type": "execute_result"
    }
   ],
   "source": [
    "type(f)"
   ]
  },
  {
   "cell_type": "code",
   "execution_count": 42,
   "metadata": {},
   "outputs": [],
   "source": [
    "# Fájl bezárása.\n",
    "f.close()"
   ]
  },
  {
   "cell_type": "code",
   "execution_count": 45,
   "metadata": {},
   "outputs": [
    {
     "name": "stdout",
     "output_type": "stream",
     "text": [
      "# example data\n",
      "apple,10\n",
      "pear,20\n",
      "cherry,30\n",
      "\n"
     ]
    }
   ],
   "source": [
    "# Fájl tartalmának beolvasása sztringbe.\n",
    "f = open('example_file.txt')\n",
    "s = f.read()\n",
    "f.close()\n",
    "print(s)"
   ]
  },
  {
   "cell_type": "code",
   "execution_count": 46,
   "metadata": {},
   "outputs": [
    {
     "name": "stdout",
     "output_type": "stream",
     "text": [
      "# example data\n",
      "apple,10\n",
      "pear,20\n",
      "cherry,30\n",
      "\n"
     ]
    }
   ],
   "source": [
    "# ...ugyenez rövidebben:\n",
    "s = open('example_file.txt').read()\n",
    "print(s)"
   ]
  },
  {
   "cell_type": "markdown",
   "metadata": {},
   "source": [
    "Megjegyzés: CPython értelmező esetén a fájl automatikusan bezáródik, ha minden hivatkozás megszűnik rá."
   ]
  },
  {
   "cell_type": "code",
   "execution_count": 48,
   "metadata": {},
   "outputs": [
    {
     "name": "stdout",
     "output_type": "stream",
     "text": [
      "# example data\n",
      "\n",
      "apple,10\n",
      "\n"
     ]
    }
   ],
   "source": [
    "# Első 2 sor beolvasása.\n",
    "f = open('example_file.txt')\n",
    "print(f.readline())\n",
    "print(f.readline())\n",
    "f.close()"
   ]
  },
  {
   "cell_type": "code",
   "execution_count": 50,
   "metadata": {},
   "outputs": [
    {
     "data": {
      "text/plain": [
       "'# example data\\n'"
      ]
     },
     "execution_count": 50,
     "metadata": {},
     "output_type": "execute_result"
    }
   ],
   "source": [
    "# Megjegyzés: A readline a sortörést is beteszi az eredménybe.\n",
    "line = open('example_file.txt').readline()\n",
    "line"
   ]
  },
  {
   "cell_type": "code",
   "execution_count": 51,
   "metadata": {},
   "outputs": [
    {
     "data": {
      "text/plain": [
       "'# example data'"
      ]
     },
     "execution_count": 51,
     "metadata": {},
     "output_type": "execute_result"
    }
   ],
   "source": [
    "# A sortörést pl. a strip függvénnyel vághatjuk le:\n",
    "line.strip()"
   ]
  },
  {
   "cell_type": "code",
   "execution_count": 52,
   "metadata": {},
   "outputs": [
    {
     "data": {
      "text/plain": [
       "['# example data\\n', 'apple,10\\n', 'pear,20\\n', 'cherry,30\\n']"
      ]
     },
     "execution_count": 52,
     "metadata": {},
     "output_type": "execute_result"
    }
   ],
   "source": [
    "# Fájl sorainak beolvasása sztringlistába.\n",
    "open('example_file.txt').readlines()"
   ]
  },
  {
   "cell_type": "code",
   "execution_count": 53,
   "metadata": {},
   "outputs": [
    {
     "data": {
      "text/plain": [
       "['aa', 'bb', 'ccc']"
      ]
     },
     "execution_count": 53,
     "metadata": {},
     "output_type": "execute_result"
    }
   ],
   "source": [
    "# Sztring darabolása egy határoló jelsorozat mentén (tokenizálás).\n",
    "line = 'aa,bb,ccc'\n",
    "line.split(',')"
   ]
  },
  {
   "cell_type": "code",
   "execution_count": 54,
   "metadata": {},
   "outputs": [
    {
     "data": {
      "text/plain": [
       "['aa', 'bb', 'ccc']"
      ]
     },
     "execution_count": 54,
     "metadata": {},
     "output_type": "execute_result"
    }
   ],
   "source": [
    "# Alapértelmezés szerint a split fehér karakterek mentén darabol.\n",
    "line = 'aa  bb\\tccc\\n'\n",
    "line.split()"
   ]
  },
  {
   "cell_type": "code",
   "execution_count": 58,
   "metadata": {},
   "outputs": [
    {
     "name": "stdout",
     "output_type": "stream",
     "text": [
      "# example data\n",
      "\n",
      "apple,10\n",
      "\n",
      "pear,20\n",
      "\n",
      "cherry,30\n",
      "\n"
     ]
    }
   ],
   "source": [
    "# Iterálás egy szövegfájl sorain.\n",
    "for line in open('example_file.txt'):\n",
    "    print(line)"
   ]
  },
  {
   "cell_type": "code",
   "execution_count": 75,
   "metadata": {},
   "outputs": [],
   "source": [
    "# Fájl első sorának átugrása, a további sorok tokenizálása.\n",
    "f = open('example_file.txt')\n",
    "f.readline() # első sor átugrása\n",
    "data = []\n",
    "for line in f: # végigmegyünk a további sorokon\n",
    "    tok = line.strip().split(',')\n",
    "    rec = tok[0], int(tok[1])\n",
    "    data.append(rec)\n",
    "f.close()"
   ]
  },
  {
   "cell_type": "code",
   "execution_count": 76,
   "metadata": {},
   "outputs": [
    {
     "data": {
      "text/plain": [
       "[('apple', 10), ('pear', 20), ('cherry', 30)]"
      ]
     },
     "execution_count": 76,
     "metadata": {},
     "output_type": "execute_result"
    }
   ],
   "source": [
    "data"
   ]
  },
  {
   "cell_type": "code",
   "execution_count": 80,
   "metadata": {},
   "outputs": [],
   "source": [
    "# Sztring fájlba írása.\n",
    "f = open('example_file_2.txt', 'w')\n",
    "f.write('Apple\\nBanana\\n')\n",
    "f.close()"
   ]
  },
  {
   "cell_type": "code",
   "execution_count": 82,
   "metadata": {},
   "outputs": [
    {
     "data": {
      "text/plain": [
       "13"
      ]
     },
     "execution_count": 82,
     "metadata": {},
     "output_type": "execute_result"
    }
   ],
   "source": [
    "# ...ugyanez tömörebben:\n",
    "open('example_file_2.txt', 'w').write('Apple\\nBanana\\n')"
   ]
  },
  {
   "cell_type": "markdown",
   "metadata": {},
   "source": [
    "(CPython értelmező esetén a fájl azonnal bezáródik, mivel nincsen rá több hivatkozás.)"
   ]
  },
  {
   "cell_type": "code",
   "execution_count": 89,
   "metadata": {},
   "outputs": [],
   "source": [
    "# Celsius-Fahrenheit táblázatot tartalmazó fájl elkészítése.\n",
    "file = open('celsius_fahrenheit.txt', 'w')\n",
    "file.write(f'      °C      °F\\n')\n",
    "for c in range(-40, 41, 5):\n",
    "    f = c * 9 / 5 + 32\n",
    "    file.write(f'{c:8}{f:8}\\n')\n",
    "file.close()"
   ]
  },
  {
   "cell_type": "code",
   "execution_count": 91,
   "metadata": {},
   "outputs": [
    {
     "data": {
      "text/plain": [
       "{'a',\n",
       " 'az',\n",
       " 'csinálja',\n",
       " 'egyáltalán',\n",
       " 'fortranban',\n",
       " 'gépidőelszámolást',\n",
       " 'ha',\n",
       " 'igazi',\n",
       " 'intelligencia',\n",
       " 'manipulációt',\n",
       " 'megcsinálja',\n",
       " 'mesterséges',\n",
       " 'már',\n",
       " 'programokat',\n",
       " 'programozó',\n",
       " 'szimbólum',\n",
       " 'szövegkezelést'}"
      ]
     },
     "execution_count": 91,
     "metadata": {},
     "output_type": "execute_result"
    }
   ],
   "source": [
    "# Határozzuk meg az igazi.txt szövegfájlban található szavak halmazát!\n",
    "{line.strip() for line in open('igazi.txt', encoding='utf-8')}"
   ]
  },
  {
   "cell_type": "code",
   "execution_count": 100,
   "metadata": {},
   "outputs": [
    {
     "data": {
      "text/plain": [
       "[[0, 1, 1, 0, 1, 0, 1, 1, 0, 1],\n",
       " [0, 0, 1, 0, 1, 1, 0, 1, 0, 1],\n",
       " [0, 0, 1, 0, 0, 0, 1, 1, 0, 0],\n",
       " [0, 1, 0, 0, 1, 0, 1, 1, 0, 0],\n",
       " [1, 0, 1, 1, 0, 0, 1, 0, 1, 1],\n",
       " [1, 0, 1, 0, 0, 1, 1, 0, 1, 0],\n",
       " [1, 1, 1, 0, 1, 1, 1, 0, 1, 1],\n",
       " [0, 0, 0, 0, 0, 1, 0, 1, 0, 1],\n",
       " [1, 1, 0, 1, 0, 1, 1, 1, 0, 0],\n",
       " [1, 0, 1, 0, 1, 0, 0, 1, 0, 1]]"
      ]
     },
     "execution_count": 100,
     "metadata": {},
     "output_type": "execute_result"
    }
   ],
   "source": [
    "# Olvassuk be a matrix.txt szövegfájl tartalmát egész számok listájának listájába!\n",
    "matrix = []\n",
    "for line in open('matrix.txt'):\n",
    "    row = [int(x) for x in line.split()]\n",
    "    matrix.append(row)\n",
    "matrix"
   ]
  },
  {
   "cell_type": "code",
   "execution_count": 102,
   "metadata": {},
   "outputs": [
    {
     "data": {
      "text/plain": [
       "[[0, 1, 1, 0, 1, 0, 1, 1, 0, 1],\n",
       " [0, 0, 1, 0, 1, 1, 0, 1, 0, 1],\n",
       " [0, 0, 1, 0, 0, 0, 1, 1, 0, 0],\n",
       " [0, 1, 0, 0, 1, 0, 1, 1, 0, 0],\n",
       " [1, 0, 1, 1, 0, 0, 1, 0, 1, 1],\n",
       " [1, 0, 1, 0, 0, 1, 1, 0, 1, 0],\n",
       " [1, 1, 1, 0, 1, 1, 1, 0, 1, 1],\n",
       " [0, 0, 0, 0, 0, 1, 0, 1, 0, 1],\n",
       " [1, 1, 0, 1, 0, 1, 1, 1, 0, 0],\n",
       " [1, 0, 1, 0, 1, 0, 0, 1, 0, 1]]"
      ]
     },
     "execution_count": 102,
     "metadata": {},
     "output_type": "execute_result"
    }
   ],
   "source": [
    "# Ugyanez dupla comprehension-nel:\n",
    "matrix = [[int(x) for x in l.split()]\n",
    "          for l in open('matrix.txt')]\n",
    "matrix"
   ]
  },
  {
   "cell_type": "markdown",
   "metadata": {},
   "source": [
    "## Gyakorlás: Szóstatisztika\n",
    "\n",
    "A [hamlet.txt](hamlet.txt) fájl a [Hamlet](https://hu.wikipedia.org/wiki/Hamlet,_d%C3%A1n_kir%C3%A1lyfi) angol nyelvű szövegkönyvét tartalmazza. Készíts programot, amely kiszámítja majd kiírja a szövegkönyvben szereplő 30 leggyakoribb szót! A szó definíciója a következő legyen:\n",
    "\n",
    "- A szavakat a fehér karakterek (szóköz, tabulátor, soremelés) választják el egymástól.\n",
    "- A kis- és nagybetűk ne számítsanak különbözőnek!\n",
    "- A szó elején és végén található központozás karakterek ne számítsanak bele a szóba!"
   ]
  },
  {
   "cell_type": "code",
   "execution_count": 2,
   "metadata": {},
   "outputs": [],
   "source": [
    "# Beolvasás kisbetűs szavak listájába.\n",
    "words = open('hamlet.txt').read().lower().split()"
   ]
  },
  {
   "cell_type": "code",
   "execution_count": 3,
   "metadata": {},
   "outputs": [],
   "source": [
    "# Központozás karakterek eltávolítása.\n",
    "import string\n",
    "words = [w.strip(string.punctuation) for w in words]"
   ]
  },
  {
   "cell_type": "code",
   "execution_count": 4,
   "metadata": {},
   "outputs": [],
   "source": [
    "# Szógyakoriságok kiszámítása.\n",
    "freq = {} # kulcs: szó, érték: előfordulások száma\n",
    "for w in words:\n",
    "    if w in freq: freq[w] += 1\n",
    "    else: freq[w] = 1"
   ]
  },
  {
   "cell_type": "code",
   "execution_count": 5,
   "metadata": {},
   "outputs": [],
   "source": [
    "freq2 = sorted([(x[1], x[0]) for x in freq.items()], reverse=True)"
   ]
  },
  {
   "cell_type": "code",
   "execution_count": 6,
   "metadata": {},
   "outputs": [
    {
     "name": "stdout",
     "output_type": "stream",
     "text": [
      "(1145, 'the')\n",
      "(973, 'and')\n",
      "(736, 'to')\n",
      "(674, 'of')\n",
      "(565, 'i')\n",
      "(539, 'you')\n",
      "(534, 'a')\n",
      "(513, 'my')\n",
      "(431, 'in')\n",
      "(409, 'it')\n",
      "(381, 'that')\n",
      "(358, 'ham')\n",
      "(339, 'is')\n",
      "(310, 'not')\n",
      "(297, 'this')\n",
      "(297, 'his')\n",
      "(268, 'with')\n",
      "(258, 'but')\n",
      "(248, 'for')\n",
      "(241, 'your')\n",
      "(231, 'me')\n",
      "(223, 'lord')\n",
      "(219, 'as')\n",
      "(216, 'be')\n",
      "(213, 'he')\n",
      "(200, 'what')\n",
      "(195, 'king')\n",
      "(195, 'him')\n",
      "(194, 'so')\n",
      "(180, 'have')\n"
     ]
    }
   ],
   "source": [
    "# Kiírás.\n",
    "for i in range(30):\n",
    "    print(freq2[i])"
   ]
  }
 ],
 "metadata": {
  "kernelspec": {
   "display_name": "Python 3 (ipykernel)",
   "language": "python",
   "name": "python3"
  },
  "language_info": {
   "codemirror_mode": {
    "name": "ipython",
    "version": 3
   },
   "file_extension": ".py",
   "mimetype": "text/x-python",
   "name": "python",
   "nbconvert_exporter": "python",
   "pygments_lexer": "ipython3",
   "version": "3.9.13"
  }
 },
 "nbformat": 4,
 "nbformat_minor": 2
}
