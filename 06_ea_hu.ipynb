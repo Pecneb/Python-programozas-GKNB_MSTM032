{
 "cells": [
  {
   "cell_type": "markdown",
   "metadata": {},
   "source": [
    "## Kicsomagolás ([unpacking](https://treyhunner.com/2018/03/tuple-unpacking-improves-python-code-readability/))"
   ]
  },
  {
   "cell_type": "code",
   "execution_count": 2,
   "metadata": {},
   "outputs": [],
   "source": [
    "# Általános eset.\n",
    "x, [y, z] = (10, 20, 30), ['alma', [1, 2]]"
   ]
  },
  {
   "cell_type": "code",
   "execution_count": 3,
   "metadata": {},
   "outputs": [
    {
     "data": {
      "text/plain": [
       "(10, 20, 30)"
      ]
     },
     "execution_count": 3,
     "metadata": {},
     "output_type": "execute_result"
    }
   ],
   "source": [
    "x"
   ]
  },
  {
   "cell_type": "code",
   "execution_count": 4,
   "metadata": {},
   "outputs": [
    {
     "data": {
      "text/plain": [
       "'alma'"
      ]
     },
     "execution_count": 4,
     "metadata": {},
     "output_type": "execute_result"
    }
   ],
   "source": [
    "y"
   ]
  },
  {
   "cell_type": "code",
   "execution_count": 5,
   "metadata": {},
   "outputs": [
    {
     "data": {
      "text/plain": [
       "[1, 2]"
      ]
     },
     "execution_count": 5,
     "metadata": {},
     "output_type": "execute_result"
    }
   ],
   "source": [
    "z"
   ]
  },
  {
   "cell_type": "code",
   "execution_count": 6,
   "metadata": {},
   "outputs": [
    {
     "ename": "ValueError",
     "evalue": "too many values to unpack (expected 2)",
     "output_type": "error",
     "traceback": [
      "\u001b[0;31m---------------------------------------------------------------------------\u001b[0m",
      "\u001b[0;31mValueError\u001b[0m                                Traceback (most recent call last)",
      "\u001b[0;32m<ipython-input-6-6ad518a59b66>\u001b[0m in \u001b[0;36m<module>\u001b[0;34m\u001b[0m\n\u001b[1;32m      1\u001b[0m \u001b[0;31m# Ha a bal és jobb oldal nem illeszthető egymásra, hibát kapunk.\u001b[0m\u001b[0;34m\u001b[0m\u001b[0;34m\u001b[0m\u001b[0;34m\u001b[0m\u001b[0m\n\u001b[0;32m----> 2\u001b[0;31m \u001b[0mx\u001b[0m\u001b[0;34m,\u001b[0m \u001b[0my\u001b[0m \u001b[0;34m=\u001b[0m \u001b[0;36m10\u001b[0m\u001b[0;34m,\u001b[0m \u001b[0;36m20\u001b[0m\u001b[0;34m,\u001b[0m \u001b[0;36m30\u001b[0m\u001b[0;34m\u001b[0m\u001b[0;34m\u001b[0m\u001b[0m\n\u001b[0m",
      "\u001b[0;31mValueError\u001b[0m: too many values to unpack (expected 2)"
     ]
    }
   ],
   "source": [
    "# Ha a bal és jobb oldal nem illeszthető egymásra, hibát kapunk.\n",
    "x, y = 10, 20, 30"
   ]
  },
  {
   "cell_type": "code",
   "execution_count": 8,
   "metadata": {},
   "outputs": [
    {
     "name": "stdout",
     "output_type": "stream",
     "text": [
      "20\n",
      "30\n"
     ]
    }
   ],
   "source": [
    "# Többszörös értékadás.\n",
    "x, y = 20, 30\n",
    "print(x)\n",
    "print(y)"
   ]
  },
  {
   "cell_type": "code",
   "execution_count": 10,
   "metadata": {},
   "outputs": [
    {
     "name": "stdout",
     "output_type": "stream",
     "text": [
      "30\n",
      "20\n"
     ]
    }
   ],
   "source": [
    "# Csere.\n",
    "x = 20\n",
    "y = 30\n",
    "x, y = y, x\n",
    "print(x)\n",
    "print(y)"
   ]
  },
  {
   "cell_type": "code",
   "execution_count": 11,
   "metadata": {},
   "outputs": [
    {
     "name": "stdout",
     "output_type": "stream",
     "text": [
      "tulipán 10\n",
      "rózsa 20\n",
      "liliom 30\n"
     ]
    }
   ],
   "source": [
    "# Kicsomagolás alkalmazása for ciklusnál.\n",
    "pairs = [('tulipán', 10), ('rózsa', 20), ('liliom', 30)]\n",
    "for x, y in pairs:\n",
    "    print(x, y)"
   ]
  },
  {
   "cell_type": "code",
   "execution_count": 17,
   "metadata": {},
   "outputs": [
    {
     "name": "stdout",
     "output_type": "stream",
     "text": [
      "10 100\n",
      "20 200\n"
     ]
    }
   ],
   "source": [
    "# Kicsomagolás alkalmazása szótárnál.\n",
    "d = {10: 100, 20: 200}\n",
    "for x, y in d.items():\n",
    "    print(x, y)"
   ]
  },
  {
   "cell_type": "markdown",
   "metadata": {},
   "source": [
    "## Haladó indexelés ([slicing](https://docs.python.org/3/library/functions.html#slice))\n",
    "\n",
    "- A slice jelölésmód szintaxisa [alsó határ: felső határ: lépésköz].\n",
    "- A kiválasztás intervalluma felülről nyitott, azaz a felső határ adja meg az első olyan indexet, amelyet már éppen nem választunk ki."
   ]
  },
  {
   "cell_type": "code",
   "execution_count": 18,
   "metadata": {},
   "outputs": [],
   "source": [
    "# Példák haladó indexelésre.\n",
    "\n",
    "#       0       1          2   3   4   5   6    7\n",
    "####################################################\n",
    "data = ['alma', 'tulipán', 10, 20, 15, 25, 100, 200]"
   ]
  },
  {
   "cell_type": "code",
   "execution_count": 19,
   "metadata": {},
   "outputs": [
    {
     "data": {
      "text/plain": [
       "['tulipán', 10, 20, 15, 25]"
      ]
     },
     "execution_count": 19,
     "metadata": {},
     "output_type": "execute_result"
    }
   ],
   "source": [
    "data[1: 6: 1] # elemek kiválasztása az 1.-től az 5. indexig"
   ]
  },
  {
   "cell_type": "code",
   "execution_count": 20,
   "metadata": {},
   "outputs": [
    {
     "data": {
      "text/plain": [
       "['tulipán', 20, 25]"
      ]
     },
     "execution_count": 20,
     "metadata": {},
     "output_type": "execute_result"
    }
   ],
   "source": [
    "data[1: 7: 2] # 1-es, 3-as és 5-ös indexű elem kiválasztása"
   ]
  },
  {
   "cell_type": "code",
   "execution_count": 22,
   "metadata": {},
   "outputs": [
    {
     "data": {
      "text/plain": [
       "['alma', 'tulipán', 10, 20]"
      ]
     },
     "execution_count": 22,
     "metadata": {},
     "output_type": "execute_result"
    }
   ],
   "source": [
    "# Az alsó határ, a felső határ és a lépésköz is elhagyható.\n",
    "data[:4] # a 0-ás elemtől megyünk, a 3-asig, egyesével\n",
    "         # (az első 4 elem kiválasztása)"
   ]
  },
  {
   "cell_type": "code",
   "execution_count": 23,
   "metadata": {},
   "outputs": [
    {
     "data": {
      "text/plain": [
       "['tulipán', 20, 25, 200]"
      ]
     },
     "execution_count": 23,
     "metadata": {},
     "output_type": "execute_result"
    }
   ],
   "source": [
    "data[1::2] # minden 2. elem kiválasztása, az 1-es elemtől kezdve"
   ]
  },
  {
   "cell_type": "code",
   "execution_count": 24,
   "metadata": {},
   "outputs": [
    {
     "data": {
      "text/plain": [
       "['alma', 'tulipán', 10, 20, 15, 25, 100]"
      ]
     },
     "execution_count": 24,
     "metadata": {},
     "output_type": "execute_result"
    }
   ],
   "source": [
    "# Használhatunk negatív indexeket is, a mínusz 1-edik jelenti az utolsó elemet.\n",
    "data[:-1] # az utolsó kivételével az összes elem kiválasztása"
   ]
  },
  {
   "cell_type": "code",
   "execution_count": 25,
   "metadata": {},
   "outputs": [
    {
     "data": {
      "text/plain": [
       "100"
      ]
     },
     "execution_count": 25,
     "metadata": {},
     "output_type": "execute_result"
    }
   ],
   "source": [
    "data[-2] # utolsó előtti elem kiválasztása\n",
    "         # (a negatív indexek hagyományos indexelésnél is használhatók)"
   ]
  },
  {
   "cell_type": "code",
   "execution_count": 26,
   "metadata": {},
   "outputs": [
    {
     "data": {
      "text/plain": [
       "[200, 100, 25, 15, 20, 10, 'tulipán', 'alma']"
      ]
     },
     "execution_count": 26,
     "metadata": {},
     "output_type": "execute_result"
    }
   ],
   "source": [
    "data[::-1] # lista megfordítása\n",
    "           # a lépésköz is lehet negatív"
   ]
  },
  {
   "cell_type": "markdown",
   "metadata": {},
   "source": [
    "## Haladó iterálási technikák"
   ]
  },
  {
   "cell_type": "markdown",
   "metadata": {},
   "source": [
    "### [enumerate](https://docs.python.org/3/library/functions.html#enumerate)"
   ]
  },
  {
   "cell_type": "code",
   "execution_count": 30,
   "metadata": {},
   "outputs": [
    {
     "name": "stdout",
     "output_type": "stream",
     "text": [
      "0 kék\n",
      "1 lila\n",
      "2 sárga\n",
      "3 zöld\n"
     ]
    }
   ],
   "source": [
    "# Iterálás az elemeken és indexeken egyszerre, hagyományos megoldás.\n",
    "x = ['kék', 'lila', 'sárga', 'zöld']\n",
    "for i in range(len(x)):\n",
    "    print(i, x[i])"
   ]
  },
  {
   "cell_type": "code",
   "execution_count": 31,
   "metadata": {},
   "outputs": [
    {
     "name": "stdout",
     "output_type": "stream",
     "text": [
      "0 kék\n",
      "1 lila\n",
      "2 sárga\n",
      "3 zöld\n"
     ]
    }
   ],
   "source": [
    "# Ugyanez elegánsabban, enumerate-tel:\n",
    "for i, xi in enumerate(x):\n",
    "    print(i, xi)"
   ]
  },
  {
   "cell_type": "code",
   "execution_count": 32,
   "metadata": {},
   "outputs": [
    {
     "data": {
      "text/plain": [
       "enumerate"
      ]
     },
     "execution_count": 32,
     "metadata": {},
     "output_type": "execute_result"
    }
   ],
   "source": [
    "# Az enumerate eredménye egy iterálható objektum.\n",
    "type(enumerate(x))"
   ]
  },
  {
   "cell_type": "code",
   "execution_count": 33,
   "metadata": {},
   "outputs": [
    {
     "data": {
      "text/plain": [
       "[(0, 'kék'), (1, 'lila'), (2, 'sárga'), (3, 'zöld')]"
      ]
     },
     "execution_count": 33,
     "metadata": {},
     "output_type": "execute_result"
    }
   ],
   "source": [
    "# Átalakítás párok listájává.\n",
    "list(enumerate(x))"
   ]
  },
  {
   "cell_type": "code",
   "execution_count": 34,
   "metadata": {},
   "outputs": [
    {
     "name": "stdout",
     "output_type": "stream",
     "text": [
      "0 kék\n",
      "1 lila\n",
      "2 sárga\n",
      "3 zöld\n"
     ]
    }
   ],
   "source": [
    "# Az enumerate kicsomagolás nélkül is használható.\n",
    "for y in enumerate(x):\n",
    "    print(y[0], y[1])"
   ]
  },
  {
   "cell_type": "code",
   "execution_count": 36,
   "metadata": {},
   "outputs": [
    {
     "name": "stdout",
     "output_type": "stream",
     "text": [
      "0 # example data\n",
      "\n",
      "1 apple,10\n",
      "\n",
      "2 pear,20\n",
      "\n",
      "3 cherry,30\n",
      "\n"
     ]
    }
   ],
   "source": [
    "# Sorindex nyilvántartása szövegfájl feldolgozásnál.\n",
    "for i, line in enumerate(open('example_file.txt')):\n",
    "    print(i, line)"
   ]
  },
  {
   "cell_type": "markdown",
   "metadata": {},
   "source": [
    "### [zip](https://docs.python.org/3/library/functions.html#zip)"
   ]
  },
  {
   "cell_type": "code",
   "execution_count": 39,
   "metadata": {},
   "outputs": [
    {
     "name": "stdout",
     "output_type": "stream",
     "text": [
      "sör 10\n",
      "bor 20\n",
      "rum 30\n"
     ]
    }
   ],
   "source": [
    "# Iterálás több szekvencián egyszerre, hagyományos megoldás.\n",
    "x = ['sör', 'bor', 'rum']\n",
    "y = [10, 20, 30]\n",
    "for i in range(len(x)):\n",
    "    print(x[i], y[i])"
   ]
  },
  {
   "cell_type": "code",
   "execution_count": 41,
   "metadata": {},
   "outputs": [
    {
     "name": "stdout",
     "output_type": "stream",
     "text": [
      "sör 10\n",
      "bor 20\n",
      "rum 30\n"
     ]
    }
   ],
   "source": [
    "# Ugyanez elegánsabban, zip-pel:\n",
    "for xi, yi in zip(x, y):\n",
    "    print(xi, yi)"
   ]
  },
  {
   "cell_type": "code",
   "execution_count": 42,
   "metadata": {},
   "outputs": [
    {
     "data": {
      "text/plain": [
       "zip"
      ]
     },
     "execution_count": 42,
     "metadata": {},
     "output_type": "execute_result"
    }
   ],
   "source": [
    "# A zip eredménye egy iterálható objektum.\n",
    "type(zip(x, y))"
   ]
  },
  {
   "cell_type": "code",
   "execution_count": 43,
   "metadata": {},
   "outputs": [
    {
     "data": {
      "text/plain": [
       "[('sör', 10), ('bor', 20), ('rum', 30)]"
      ]
     },
     "execution_count": 43,
     "metadata": {},
     "output_type": "execute_result"
    }
   ],
   "source": [
    "# Átalakítás listává.\n",
    "list(zip(x, y))"
   ]
  },
  {
   "cell_type": "code",
   "execution_count": 44,
   "metadata": {},
   "outputs": [
    {
     "name": "stdout",
     "output_type": "stream",
     "text": [
      "sör 10\n",
      "bor 20\n",
      "rum 30\n"
     ]
    }
   ],
   "source": [
    "# A zip kicsomagolás nélkül is használható.\n",
    "for z in zip(x, y):\n",
    "    print(z[0], z[1])"
   ]
  },
  {
   "cell_type": "code",
   "execution_count": 47,
   "metadata": {},
   "outputs": [
    {
     "name": "stdout",
     "output_type": "stream",
     "text": [
      "sör 10\n",
      "bor 20\n",
      "rum 30\n"
     ]
    }
   ],
   "source": [
    "# Ha szekvenciák hossza nem azonos, akkor az eredmény a rövidebb hosszát veszi fel.\n",
    "x = ['sör', 'bor', 'rum', 'pálinka']\n",
    "y = [10, 20, 30]\n",
    "for xi, yi in zip(x, y):\n",
    "    print(xi, yi)"
   ]
  },
  {
   "cell_type": "code",
   "execution_count": 49,
   "metadata": {},
   "outputs": [
    {
     "name": "stdout",
     "output_type": "stream",
     "text": [
      "sör 10 True\n",
      "bor 20 False\n",
      "rum 30 True\n"
     ]
    }
   ],
   "source": [
    "# A zip kettőnél több szekvenciára is alkalmazható.\n",
    "x = ['sör', 'bor', 'rum']\n",
    "y = [10, 20, 30]\n",
    "z = [True, False, True]\n",
    "for xi, yi, zi in zip(x, y, z):\n",
    "    print(xi, yi, zi)"
   ]
  },
  {
   "cell_type": "markdown",
   "metadata": {},
   "source": [
    "## Gyakorlás / 1"
   ]
  },
  {
   "cell_type": "markdown",
   "metadata": {},
   "source": [
    "Készítsünk programot, amely szótárat képez egy `KULCS_1,ÉRTÉK_1,..., KULCS_n,ÉRTÉK_n` formátumú sztringből!"
   ]
  },
  {
   "cell_type": "code",
   "execution_count": 60,
   "metadata": {},
   "outputs": [
    {
     "data": {
      "text/plain": [
       "{'alma': '10', 'körte': '20', 'barack': '30', 'szilva': '40'}"
      ]
     },
     "execution_count": 60,
     "metadata": {},
     "output_type": "execute_result"
    }
   ],
   "source": [
    "s = 'alma,10,körte,20,barack,30,szilva,40' # példa bemenet\n",
    "# => {'alma': '10', 'körte': 20, ...}\n",
    "\n",
    "t = s.split(',')\n",
    "d = dict(zip(t[::2], t[1::2]))\n",
    "d"
   ]
  },
  {
   "cell_type": "code",
   "execution_count": 61,
   "metadata": {},
   "outputs": [
    {
     "data": {
      "text/plain": [
       "{'alma': '10', 'körte': '20', 'barack': '30', 'szilva': '40'}"
      ]
     },
     "execution_count": 61,
     "metadata": {},
     "output_type": "execute_result"
    }
   ],
   "source": [
    "# \"régimódi\" megoldás\n",
    "d = {}\n",
    "for i in range(0, len(t), 2):\n",
    "    d[t[i]] = t[i + 1]\n",
    "d"
   ]
  },
  {
   "cell_type": "markdown",
   "metadata": {},
   "source": [
    "Készítsünk programot, amely különbség sorozatot képez az $a_1$, ..., $a_n$ számsorozatból, ahol a különbségsorozat $i$. eleme $a_{i+1}$ - $a_i$!"
   ]
  },
  {
   "cell_type": "code",
   "execution_count": 65,
   "metadata": {},
   "outputs": [
    {
     "data": {
      "text/plain": [
       "[2, 3, 1, 6, 11, 7]"
      ]
     },
     "execution_count": 65,
     "metadata": {},
     "output_type": "execute_result"
    }
   ],
   "source": [
    "a = [10, 12, 15, 16, 22, 33, 40] # példa bemenet\n",
    "# => [2, 3, ...]\n",
    "\n",
    "# 1. megoldás\n",
    "diff = [a[i + 1] - ai for i, ai in enumerate(a[:-1])]\n",
    "diff"
   ]
  },
  {
   "cell_type": "code",
   "execution_count": 69,
   "metadata": {},
   "outputs": [
    {
     "data": {
      "text/plain": [
       "[2, 3, 1, 6, 11, 7]"
      ]
     },
     "execution_count": 69,
     "metadata": {},
     "output_type": "execute_result"
    }
   ],
   "source": [
    "# 2. megoldás\n",
    "diff = [y - x for x, y in zip(a, a[1:])]\n",
    "diff"
   ]
  },
  {
   "cell_type": "markdown",
   "metadata": {},
   "source": [
    "Készítsünk programot, amely egy ötöslottó húzást szimulál, a `random.sample` függvény használata nélkül!"
   ]
  },
  {
   "cell_type": "code",
   "execution_count": 73,
   "metadata": {},
   "outputs": [
    {
     "data": {
      "text/plain": [
       "[86, 52, 40, 82, 7]"
      ]
     },
     "execution_count": 73,
     "metadata": {},
     "output_type": "execute_result"
    }
   ],
   "source": [
    "# így kéne a random.sample függvény használatával ;-)\n",
    "import random\n",
    "random.sample(range(1, 91), 5)"
   ]
  },
  {
   "cell_type": "code",
   "execution_count": 76,
   "metadata": {},
   "outputs": [
    {
     "data": {
      "text/plain": [
       "{10, 22, 34, 53, 68}"
      ]
     },
     "execution_count": 76,
     "metadata": {},
     "output_type": "execute_result"
    }
   ],
   "source": [
    "# 1. megoldás: nem elegáns, mert nem garantálható, hogy véget ér\n",
    "import random\n",
    "result = set()\n",
    "while len(result) < 5:\n",
    "    result.add(random.randint(1, 90))\n",
    "result"
   ]
  },
  {
   "cell_type": "code",
   "execution_count": 84,
   "metadata": {},
   "outputs": [
    {
     "data": {
      "text/plain": [
       "[6, 71, 65, 4, 55]"
      ]
     },
     "execution_count": 84,
     "metadata": {},
     "output_type": "execute_result"
    }
   ],
   "source": [
    "# 2. megoldás: csak ötször hívjuk meg a randint függvényt\n",
    "pool = list(range(1, 91))\n",
    "result = []\n",
    "for i in range(5):\n",
    "    j = random.randint(0, len(pool) - 1)\n",
    "    result.append(pool.pop(j)) # j. elem kiszedése\n",
    "result"
   ]
  },
  {
   "cell_type": "markdown",
   "metadata": {},
   "source": [
    "## Gyakorlás / 2"
   ]
  },
  {
   "cell_type": "markdown",
   "metadata": {},
   "source": [
    "Készítsünk programot, amely egy 1 és 99 közötti arab számot római számmá alakít!"
   ]
  },
  {
   "cell_type": "code",
   "execution_count": 100,
   "metadata": {},
   "outputs": [
    {
     "data": {
      "text/plain": [
       "'XXIII'"
      ]
     },
     "execution_count": 100,
     "metadata": {},
     "output_type": "execute_result"
    }
   ],
   "source": [
    "# 1. megoldás\n",
    "a = 23\n",
    "r_ones = ['', 'I', 'II', 'III', 'IV', 'V', 'VI', 'VII', 'VIII', 'IX']\n",
    "r_tens = ['', 'X', 'XX', 'XXX', 'XL', 'L', 'LX', 'LXX', 'LXXX', 'XC']\n",
    "r = r_tens[a // 10] + r_ones[a % 10]\n",
    "r"
   ]
  },
  {
   "cell_type": "code",
   "execution_count": 101,
   "metadata": {},
   "outputs": [],
   "source": [
    "# 2. megoldás: függvénybe csomagolva\n",
    "def arabic_to_roman(a):\n",
    "    r_ones = ['', 'I', 'II', 'III', 'IV', 'V', 'VI', 'VII', 'VIII', 'IX']\n",
    "    r_tens = ['', 'X', 'XX', 'XXX', 'XL', 'L', 'LX', 'LXX', 'LXXX', 'XC']\n",
    "    return r_tens[a // 10] + r_ones[a % 10]"
   ]
  },
  {
   "cell_type": "code",
   "execution_count": 102,
   "metadata": {},
   "outputs": [
    {
     "data": {
      "text/plain": [
       "'XLVII'"
      ]
     },
     "execution_count": 102,
     "metadata": {},
     "output_type": "execute_result"
    }
   ],
   "source": [
    "arabic_to_roman(47)"
   ]
  },
  {
   "cell_type": "code",
   "execution_count": 103,
   "metadata": {},
   "outputs": [
    {
     "data": {
      "text/plain": [
       "'XXIII'"
      ]
     },
     "execution_count": 103,
     "metadata": {},
     "output_type": "execute_result"
    }
   ],
   "source": [
    "arabic_to_roman(23)"
   ]
  },
  {
   "cell_type": "markdown",
   "metadata": {},
   "source": [
    "Készítsünk programot, amely egy I és XCIX közötti római számot arab számmá alakít!"
   ]
  },
  {
   "cell_type": "code",
   "execution_count": 105,
   "metadata": {},
   "outputs": [],
   "source": [
    "# konverziós szótár\n",
    "roman_to_arabic = {arabic_to_roman(a): a for a in range(1, 100)}"
   ]
  },
  {
   "cell_type": "code",
   "execution_count": 106,
   "metadata": {},
   "outputs": [
    {
     "data": {
      "text/plain": [
       "64"
      ]
     },
     "execution_count": 106,
     "metadata": {},
     "output_type": "execute_result"
    }
   ],
   "source": [
    "roman_to_arabic['LXIV']"
   ]
  }
 ],
 "metadata": {
  "kernelspec": {
   "display_name": "Python 3 (ipykernel)",
   "language": "python",
   "name": "python3"
  },
  "language_info": {
   "codemirror_mode": {
    "name": "ipython",
    "version": 3
   },
   "file_extension": ".py",
   "mimetype": "text/x-python",
   "name": "python",
   "nbconvert_exporter": "python",
   "pygments_lexer": "ipython3",
   "version": "3.9.13"
  }
 },
 "nbformat": 4,
 "nbformat_minor": 2
}
