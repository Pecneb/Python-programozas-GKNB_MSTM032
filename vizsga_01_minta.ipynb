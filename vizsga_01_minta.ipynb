{
 "cells": [
  {
   "cell_type": "markdown",
   "metadata": {},
   "source": [
    "## Python programozás (GKNB_MSTM032) Vizsgaminta 1."
   ]
  },
  {
   "cell_type": "markdown",
   "metadata": {},
   "source": [
    "### 1. feladat [6p]\n",
    "\n",
    "Készíts programot, amely bekér a felhasználótól két sztringet, majd kiírja a bennük található leghosszabb közös részsztringet! Példa futási eredmény:\n",
    "```\n",
    "1. sztring: András\n",
    "2. sztring: Bandi\n",
    "A leghosszabb közös rész: nd\n",
    "```"
   ]
  },
  {
   "cell_type": "markdown",
   "metadata": {},
   "source": [
    "### 2. feladat [8p]\n",
    "\n",
    "A `birthdays` lista kitalált személyek nevét és születési dátumát tartalmazza. Készíts programot, amely megkeresi, hogy kik állnak életkorban egymáshoz a legközelebb, és hány nap köztük a különbség! A program ne csak a megadott `birthdays` listára működjön, hanem tetszőleges, ugyanilyen formátumú bemenetre is! Feltehetjük, hogy minden név különböző, és legalább két név van megadva."
   ]
  },
  {
   "cell_type": "code",
   "execution_count": 1,
   "metadata": {},
   "outputs": [],
   "source": [
    "birthdays = [\n",
    "    ('Kovács Andor',   '1999-10-29'),\n",
    "    ('Kiss Martina',   '2000-02-13'),\n",
    "    ('Horváth Barna',  '1999-12-05'),\n",
    "    ('Győri Eszter',   '2000-10-29'),\n",
    "    ('Nagy Tivadar',   '1999-08-16'),\n",
    "    ('Tóth Tamara',    '2000-01-30'),\n",
    "    ('Szakács Sándor', '1999-09-02')\n",
    "]"
   ]
  },
  {
   "cell_type": "markdown",
   "metadata": {},
   "source": [
    "Elvárt futási eredmény:\n",
    "```\n",
    "\n",
    "Életkorban legközelebb állók: Kiss Martina, Tóth Tamara\n",
    "14 nap köztük a különbség\n",
    "```"
   ]
  },
  {
   "cell_type": "markdown",
   "metadata": {},
   "source": [
    "### 3. feladat [10p]\n",
    "\n",
    "Az [investments.txt](investments.txt) szövegfájl amerikai cégekbe történő befektetésekről tartalmaz adatokat (a TechCrunch hírportál alapján). Készíts programot, amely kiszámítja és kiírja az alábbi statisztikákat:\n",
    "\n",
    "- Hány befektetés történt összesen az egyes cégekbe?\n",
    "- Melyik cégbe fektették be a legtöbb pénzt?\n",
    "- Cégkategóriánként hány dollárt fektettek be összesen?"
   ]
  }
 ],
 "metadata": {
  "kernelspec": {
   "display_name": "Python 3",
   "language": "python",
   "name": "python3"
  },
  "language_info": {
   "codemirror_mode": {
    "name": "ipython",
    "version": 3
   },
   "file_extension": ".py",
   "mimetype": "text/x-python",
   "name": "python",
   "nbconvert_exporter": "python",
   "pygments_lexer": "ipython3",
   "version": "3.8.5"
  }
 },
 "nbformat": 4,
 "nbformat_minor": 1
}
