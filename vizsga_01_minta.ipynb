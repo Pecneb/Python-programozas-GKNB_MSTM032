{
 "cells": [
  {
   "attachments": {},
   "cell_type": "markdown",
   "metadata": {},
   "source": [
    "## Python programozás (GKNB_MSTM032) Vizsgaminta 1."
   ]
  },
  {
   "attachments": {},
   "cell_type": "markdown",
   "metadata": {},
   "source": [
    "### 1. feladat [6p]\n",
    "\n",
    "Készíts programot, amely bekér a felhasználótól két sztringet, majd kiírja a bennük található leghosszabb közös részsztringet! Példa futási eredmény:\n",
    "```\n",
    "1. sztring: András\n",
    "2. sztring: Bandi\n",
    "A leghosszabb közös rész: nd\n",
    "```"
   ]
  },
  {
   "cell_type": "code",
   "execution_count": 33,
   "metadata": {},
   "outputs": [
    {
     "name": "stdout",
     "output_type": "stream",
     "text": [
      "nd\n",
      "5.53131103515625e-05\n"
     ]
    }
   ],
   "source": [
    "import time\n",
    "import difflib as dl\n",
    "\n",
    "def lkr(str1: str, str2: str):\n",
    "    lkr = dl.SequenceMatcher(None, str1, str2).find_longest_match(0, len(str1), 0, len(str2))\n",
    "    return str1[lkr.a:lkr.a+lkr.size]\n",
    "\n",
    "start=time.time()\n",
    "print(lkr(\"Andras\", \"Bandi\"))\n",
    "print(time.time()-start)"
   ]
  },
  {
   "attachments": {},
   "cell_type": "markdown",
   "metadata": {},
   "source": [
    "### 2. feladat [8p]\n",
    "\n",
    "A `birthdays` lista kitalált személyek nevét és születési dátumát tartalmazza. Készíts programot, amely megkeresi, hogy kik állnak életkorban egymáshoz a legközelebb, és hány nap köztük a különbség! A program ne csak a megadott `birthdays` listára működjön, hanem tetszőleges, ugyanilyen formátumú bemenetre is! Feltehetjük, hogy minden név különböző, és legalább két név van megadva."
   ]
  },
  {
   "cell_type": "code",
   "execution_count": 35,
   "metadata": {},
   "outputs": [
    {
     "name": "stdout",
     "output_type": "stream",
     "text": [
      "(('Győri Eszter', '2000-10-29'), ('Nagy Tivadar', '1999-08-16'))\n",
      "440\n",
      "\n",
      "(('Kiss Martina', '2000-02-13'), ('Tóth Tamara', '2000-01-30'))\n",
      "14\n"
     ]
    }
   ],
   "source": [
    "birthdays = [\n",
    "    ('Kovács Andor',   '1999-10-29'),\n",
    "    ('Kiss Martina',   '2000-02-13'),\n",
    "    ('Horváth Barna',  '1999-12-05'),\n",
    "    ('Győri Eszter',   '2000-10-29'),\n",
    "    ('Nagy Tivadar',   '1999-08-16'),\n",
    "    ('Tóth Tamara',    '2000-01-30'),\n",
    "    ('Szakács Sándor', '1999-09-02')\n",
    "]\n",
    "\n",
    "from datetime import datetime\n",
    "\n",
    "max_diff_pair = (birthdays[0], birthdays[1])\n",
    "max_diff = abs((datetime.fromisoformat(max_diff_pair[0][1])-datetime.fromisoformat(max_diff_pair[1][1]))).days\n",
    "\n",
    "min_diff_pair = (birthdays[0], birthdays[1])\n",
    "min_diff = abs((datetime.fromisoformat(max_diff_pair[0][1])-datetime.fromisoformat(max_diff_pair[1][1]))).days\n",
    "\n",
    "for i in range(len(birthdays)):\n",
    "    for j in range(i+1, len(birthdays)):\n",
    "        diff = abs((datetime.fromisoformat(birthdays[i][1])-datetime.fromisoformat(birthdays[j][1]))).days\n",
    "        if diff > max_diff:\n",
    "            max_diff = diff\n",
    "            max_diff_pair = (birthdays[i], birthdays[j])\n",
    "        if diff < min_diff:\n",
    "            min_diff = diff\n",
    "            min_diff_pair = (birthdays[i], birthdays[j])\n",
    "\n",
    "print(max_diff_pair)\n",
    "print(max_diff)\n",
    "print()\n",
    "print(min_diff_pair)\n",
    "print(min_diff)"
   ]
  },
  {
   "attachments": {},
   "cell_type": "markdown",
   "metadata": {},
   "source": [
    "Elvárt futási eredmény:\n",
    "```\n",
    "\n",
    "Életkorban legközelebb állók: Kiss Martina, Tóth Tamara\n",
    "14 nap köztük a különbség\n",
    "```"
   ]
  },
  {
   "attachments": {},
   "cell_type": "markdown",
   "metadata": {},
   "source": [
    "### 3. feladat [10p]\n",
    "\n",
    "Az [investments.txt](investments.txt) szövegfájl amerikai cégekbe történő befektetésekről tartalmaz adatokat (a TechCrunch hírportál alapján). Készíts programot, amely kiszámítja és kiírja az alábbi statisztikákat:\n",
    "\n",
    "- Hány befektetés történt összesen az egyes cégekbe?\n",
    "- Melyik cégbe fektették be a legtöbb pénzt?\n",
    "- Cégkategóriánként hány dollárt fektettek be összesen?"
   ]
  },
  {
   "cell_type": "code",
   "execution_count": 38,
   "metadata": {},
   "outputs": [
    {
     "data": {
      "text/html": [
       "<div>\n",
       "<style scoped>\n",
       "    .dataframe tbody tr th:only-of-type {\n",
       "        vertical-align: middle;\n",
       "    }\n",
       "\n",
       "    .dataframe tbody tr th {\n",
       "        vertical-align: top;\n",
       "    }\n",
       "\n",
       "    .dataframe thead th {\n",
       "        text-align: right;\n",
       "    }\n",
       "</style>\n",
       "<table border=\"1\" class=\"dataframe\">\n",
       "  <thead>\n",
       "    <tr style=\"text-align: right;\">\n",
       "      <th></th>\n",
       "      <th>company</th>\n",
       "      <th>numEmps</th>\n",
       "      <th>category</th>\n",
       "      <th>city</th>\n",
       "      <th>state</th>\n",
       "      <th>fundedDate</th>\n",
       "      <th>raisedAmt</th>\n",
       "      <th>raisedCurrency</th>\n",
       "      <th>round</th>\n",
       "    </tr>\n",
       "  </thead>\n",
       "  <tbody>\n",
       "    <tr>\n",
       "      <th>0</th>\n",
       "      <td>LifeLock</td>\n",
       "      <td>NaN</td>\n",
       "      <td>web</td>\n",
       "      <td>Tempe</td>\n",
       "      <td>AZ</td>\n",
       "      <td>1-May-07</td>\n",
       "      <td>6850000</td>\n",
       "      <td>USD</td>\n",
       "      <td>b</td>\n",
       "    </tr>\n",
       "    <tr>\n",
       "      <th>1</th>\n",
       "      <td>LifeLock</td>\n",
       "      <td>NaN</td>\n",
       "      <td>web</td>\n",
       "      <td>Tempe</td>\n",
       "      <td>AZ</td>\n",
       "      <td>1-Oct-06</td>\n",
       "      <td>6000000</td>\n",
       "      <td>USD</td>\n",
       "      <td>a</td>\n",
       "    </tr>\n",
       "    <tr>\n",
       "      <th>2</th>\n",
       "      <td>LifeLock</td>\n",
       "      <td>NaN</td>\n",
       "      <td>web</td>\n",
       "      <td>Tempe</td>\n",
       "      <td>AZ</td>\n",
       "      <td>1-Jan-08</td>\n",
       "      <td>25000000</td>\n",
       "      <td>USD</td>\n",
       "      <td>c</td>\n",
       "    </tr>\n",
       "    <tr>\n",
       "      <th>3</th>\n",
       "      <td>MyCityFaces</td>\n",
       "      <td>7.0</td>\n",
       "      <td>web</td>\n",
       "      <td>Scottsdale</td>\n",
       "      <td>AZ</td>\n",
       "      <td>1-Jan-08</td>\n",
       "      <td>50000</td>\n",
       "      <td>USD</td>\n",
       "      <td>seed</td>\n",
       "    </tr>\n",
       "    <tr>\n",
       "      <th>4</th>\n",
       "      <td>Flypaper</td>\n",
       "      <td>NaN</td>\n",
       "      <td>web</td>\n",
       "      <td>Phoenix</td>\n",
       "      <td>AZ</td>\n",
       "      <td>1-Feb-08</td>\n",
       "      <td>3000000</td>\n",
       "      <td>USD</td>\n",
       "      <td>a</td>\n",
       "    </tr>\n",
       "  </tbody>\n",
       "</table>\n",
       "</div>"
      ],
      "text/plain": [
       "       company  numEmps category        city state fundedDate  raisedAmt  \\\n",
       "0     LifeLock      NaN      web       Tempe    AZ   1-May-07    6850000   \n",
       "1     LifeLock      NaN      web       Tempe    AZ   1-Oct-06    6000000   \n",
       "2     LifeLock      NaN      web       Tempe    AZ   1-Jan-08   25000000   \n",
       "3  MyCityFaces      7.0      web  Scottsdale    AZ   1-Jan-08      50000   \n",
       "4     Flypaper      NaN      web     Phoenix    AZ   1-Feb-08    3000000   \n",
       "\n",
       "  raisedCurrency round  \n",
       "0            USD     b  \n",
       "1            USD     a  \n",
       "2            USD     c  \n",
       "3            USD  seed  \n",
       "4            USD     a  "
      ]
     },
     "execution_count": 38,
     "metadata": {},
     "output_type": "execute_result"
    }
   ],
   "source": [
    "import pandas as pd\n",
    "\n",
    "invs = pd.read_csv(\"investments.txt\", delimiter=\"|\")\n",
    "invs.head()"
   ]
  },
  {
   "cell_type": "code",
   "execution_count": 40,
   "metadata": {},
   "outputs": [
    {
     "data": {
      "text/plain": [
       "company            \n",
       "Facebook               7\n",
       "Tesla Motors           5\n",
       "Brightcove             5\n",
       "Jingle Networks        5\n",
       "Answers Corporation    5\n",
       "                      ..\n",
       "Labmeeting             1\n",
       "Lala                   1\n",
       "LaunchBox              1\n",
       "Lehigh Technologies    1\n",
       "xkoto                  1\n",
       "Length: 891, dtype: int64"
      ]
     },
     "execution_count": 40,
     "metadata": {},
     "output_type": "execute_result"
    }
   ],
   "source": [
    "invs.value_counts([\"company\"])"
   ]
  },
  {
   "cell_type": "code",
   "execution_count": 44,
   "metadata": {},
   "outputs": [
    {
     "data": {
      "text/html": [
       "<div>\n",
       "<style scoped>\n",
       "    .dataframe tbody tr th:only-of-type {\n",
       "        vertical-align: middle;\n",
       "    }\n",
       "\n",
       "    .dataframe tbody tr th {\n",
       "        vertical-align: top;\n",
       "    }\n",
       "\n",
       "    .dataframe thead th {\n",
       "        text-align: right;\n",
       "    }\n",
       "</style>\n",
       "<table border=\"1\" class=\"dataframe\">\n",
       "  <thead>\n",
       "    <tr style=\"text-align: right;\">\n",
       "      <th></th>\n",
       "      <th>numEmps</th>\n",
       "      <th>raisedAmt</th>\n",
       "    </tr>\n",
       "    <tr>\n",
       "      <th>company</th>\n",
       "      <th></th>\n",
       "      <th></th>\n",
       "    </tr>\n",
       "  </thead>\n",
       "  <tbody>\n",
       "    <tr>\n",
       "      <th>Facebook</th>\n",
       "      <td>3150.0</td>\n",
       "      <td>495700000</td>\n",
       "    </tr>\n",
       "    <tr>\n",
       "      <th>Demand Media</th>\n",
       "      <td>0.0</td>\n",
       "      <td>355000000</td>\n",
       "    </tr>\n",
       "    <tr>\n",
       "      <th>ZeniMax</th>\n",
       "      <td>0.0</td>\n",
       "      <td>309900000</td>\n",
       "    </tr>\n",
       "    <tr>\n",
       "      <th>Kayak</th>\n",
       "      <td>174.0</td>\n",
       "      <td>214500000</td>\n",
       "    </tr>\n",
       "    <tr>\n",
       "      <th>OverSee</th>\n",
       "      <td>300.0</td>\n",
       "      <td>210000000</td>\n",
       "    </tr>\n",
       "    <tr>\n",
       "      <th>...</th>\n",
       "      <td>...</td>\n",
       "      <td>...</td>\n",
       "    </tr>\n",
       "    <tr>\n",
       "      <th>Sleep.FM</th>\n",
       "      <td>4.0</td>\n",
       "      <td>15000</td>\n",
       "    </tr>\n",
       "    <tr>\n",
       "      <th>Posterous</th>\n",
       "      <td>0.0</td>\n",
       "      <td>15000</td>\n",
       "    </tr>\n",
       "    <tr>\n",
       "      <th>Search to Phone</th>\n",
       "      <td>0.0</td>\n",
       "      <td>15000</td>\n",
       "    </tr>\n",
       "    <tr>\n",
       "      <th>InThrMa</th>\n",
       "      <td>3.0</td>\n",
       "      <td>10000</td>\n",
       "    </tr>\n",
       "    <tr>\n",
       "      <th>Scintella Solutions</th>\n",
       "      <td>2.0</td>\n",
       "      <td>10000</td>\n",
       "    </tr>\n",
       "  </tbody>\n",
       "</table>\n",
       "<p>891 rows × 2 columns</p>\n",
       "</div>"
      ],
      "text/plain": [
       "                     numEmps  raisedAmt\n",
       "company                                \n",
       "Facebook              3150.0  495700000\n",
       "Demand Media             0.0  355000000\n",
       "ZeniMax                  0.0  309900000\n",
       "Kayak                  174.0  214500000\n",
       "OverSee                300.0  210000000\n",
       "...                      ...        ...\n",
       "Sleep.FM                 4.0      15000\n",
       "Posterous                0.0      15000\n",
       "Search to Phone          0.0      15000\n",
       "InThrMa                  3.0      10000\n",
       "Scintella Solutions      2.0      10000\n",
       "\n",
       "[891 rows x 2 columns]"
      ]
     },
     "execution_count": 44,
     "metadata": {},
     "output_type": "execute_result"
    }
   ],
   "source": [
    "invs.groupby(\"company\").sum().sort_values(\"raisedAmt\", ascending=False)"
   ]
  },
  {
   "cell_type": "code",
   "execution_count": null,
   "metadata": {},
   "outputs": [],
   "source": []
  }
 ],
 "metadata": {
  "kernelspec": {
   "display_name": "Python 3",
   "language": "python",
   "name": "python3"
  },
  "language_info": {
   "codemirror_mode": {
    "name": "ipython",
    "version": 3
   },
   "file_extension": ".py",
   "mimetype": "text/x-python",
   "name": "python",
   "nbconvert_exporter": "python",
   "pygments_lexer": "ipython3",
   "version": "3.9.12"
  }
 },
 "nbformat": 4,
 "nbformat_minor": 1
}
