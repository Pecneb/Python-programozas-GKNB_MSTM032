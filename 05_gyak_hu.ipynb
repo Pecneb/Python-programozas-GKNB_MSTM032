{
 "cells": [
  {
   "cell_type": "markdown",
   "metadata": {},
   "source": [
    "### Előadás anyag\n",
    "Nézzük meg az 5. heti előadás anyagát tartalmazó Jupyter notebook (05_ea_hu.ipynb) tartalmát! Futtassuk az egyes cellákat, módosítsunk, kisérletezzünk szabadon!"
   ]
  },
  {
   "cell_type": "markdown",
   "metadata": {},
   "source": [
    "### Feladatok\n",
    "Készítsünk függvényeket az alábbi feladatok megoldására, majd teszteljük a függvények működését (azaz hívjuk meg őket valamilyen tesztadattal és írjuk ki a kapott eredményeket)!\n",
    "- Határozzuk meg két szám összegét!\n",
    "- Egy sztring karakterei különbözőek-e vagy sem? (Pl. 'Alma' -> igen, 'alma' -> nem)\n",
    "- Határozzuk meg egy sztringként megadott pozitív, bináris egész szám decimális értékét! (Pl. '110' -> 6)\n",
    "- Egy számsorozat számtani sorozatot alkot-e vagy sem? (Pl. [1, 2, 3] -> igen, [1, 2, 2] -> nem)\n",
    "- Határozzuk meg egy pozitív egész szám, mint euróban kifizetendő pénzösszeg kifizetéséhez szükséges  legkevesebb címletet! (Pl. 213: 2 db 100-as, 1 db 10-es, 3 db 1-es)\n"
   ]
  },
  {
   "cell_type": "code",
   "execution_count": null,
   "metadata": {},
   "outputs": [],
   "source": []
  },
  {
   "cell_type": "markdown",
   "metadata": {},
   "source": [
    "### Házi feladatok\n",
    "Készítsünk függvényeket az alábbi feladatok megoldására!\n",
    "- Egy sztring tartalmaz-e angol nagybetűt vagy sem?\n",
    "- Egy sztringben helyes angol név van-e vagy sem? Egy név helyes, ha:\n",
    "  - pontosan egy darab szóköz van benne, de az nincs az elején és a végén,\n",
    "  - az egy db szóközön kívül csak angol kis- és nagybetűk vannak benne,\n",
    "  - a vezetéknév és a keresztnév első betűje nagybetű, a többi kisbetű. (Pl: \"Little John\" -> helyes, \"nemecsek ernő\" -> nem helyes)\n",
    "- Adottak síkbeli pontok a derékszögű koordinátáikkal! Határozzuk meg azt a pontot, amelyik a legközelebb van a pontok súlypontjához! Az eredmény a megfelelő pont(ok)ból álló lista legyen! (Pl. [(1, 0), (-1, 0), (0. 3)] -> [(1, 0), (-1, 0)])\n",
    "- Bővítse az előző (4.) heti korcsolyaversenyes feladat megoldását úgy, hogy az eredménylista legyen átlagpont szerint csökkenően rendezett!"
   ]
  }
 ],
 "metadata": {
  "kernelspec": {
   "display_name": "Python 3 (ipykernel)",
   "language": "python",
   "name": "python3"
  },
  "language_info": {
   "codemirror_mode": {
    "name": "ipython",
    "version": 3
   },
   "file_extension": ".py",
   "mimetype": "text/x-python",
   "name": "python",
   "nbconvert_exporter": "python",
   "pygments_lexer": "ipython3",
   "version": "3.9.13"
  }
 },
 "nbformat": 4,
 "nbformat_minor": 2
}
