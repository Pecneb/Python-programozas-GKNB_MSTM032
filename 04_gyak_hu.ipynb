{
 "cells": [
  {
   "cell_type": "markdown",
   "metadata": {},
   "source": [
    "### Előadás anyag\n",
    "Nézzük meg a 4. heti előadás anyagát tartalmazó Jupyter notebook (04_ea_hu.ipynb) tartalmát! Futtassuk az egyes cellákat, módosítsunk, kisérletezzünk szabadon!"
   ]
  },
  {
   "cell_type": "markdown",
   "metadata": {},
   "source": [
    "### Feladatok\n",
    "Készítsünk programokat az alábbi feladatokra!\n",
    "- Állítsuk elő comprehension-nel a [100, 90, 80, 70, 60, 50, 40, 30, 20, 10] listát!\n",
    "- Olvassuk be a 'matrix.txt' adatait, majd határozzuk meg minden egyes sorra az 1-esek darabszámát, valamint minden egyes oszlopra a 0-ák darabszámát!\n",
    "- Határozzuk meg az 'igazi.txt' fájlban található leghosszabb és legrövidebb szót!\n",
    "- Határozzuk meg a 'hamlet.txt' fájl szavaira azt, hogy a szavak hányadrésze tartalmaz angol nagybetűt!"
   ]
  },
  {
   "cell_type": "code",
   "execution_count": null,
   "metadata": {},
   "outputs": [],
   "source": []
  },
  {
   "cell_type": "markdown",
   "metadata": {},
   "source": [
    "### Házi feladatok\n",
    "- Készítsen egy szövegfájlt (szövegszerkesztővel), amelyben egy műkorcsolyaverseny adatai szerepeljenek! A versenyzőket legalább 3 pontozó értékelje úgy, hogy minden versenyző minden pontozótól pontosan egy db pontot kapjon (ami 0-tól 6-ig egy valós szám)! Minden sor egy versenyző adatait (név, pontok) tartalmazza!\n",
    "- Töltse be az adatokat a fájlból, majd készítsen egy másik szövegfájlt (programmal), amelyben a verseny eredménylistája legyen! Egy sorban egy versenyző összes adata (név, pontok, átlagpont) szerepeljen!\n",
    "- Oldjuk meg a feladatot úgy is, hogy az átlagpontba az adott versenyző legnagyobb és legkisebb pontjának egy-egy előfordulását ne számítsuk bele (a bírók részrehajlását elkerülendő)!"
   ]
  }
 ],
 "metadata": {
  "kernelspec": {
   "display_name": "Python 3",
   "language": "python",
   "name": "python3"
  },
  "language_info": {
   "codemirror_mode": {
    "name": "ipython",
    "version": 3
   },
   "file_extension": ".py",
   "mimetype": "text/x-python",
   "name": "python",
   "nbconvert_exporter": "python",
   "pygments_lexer": "ipython3",
   "version": "3.8.5"
  }
 },
 "nbformat": 4,
 "nbformat_minor": 2
}
