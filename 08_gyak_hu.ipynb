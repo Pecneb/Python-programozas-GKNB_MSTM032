{
 "cells": [
  {
   "cell_type": "markdown",
   "metadata": {},
   "source": [
    "### 1. feladat\n",
    "\n",
    "Hány olyan kétjegyű természetes szám van, amely osztható a számjegyei összegével?"
   ]
  },
  {
   "cell_type": "code",
   "execution_count": 10,
   "metadata": {},
   "outputs": [
    {
     "name": "stdout",
     "output_type": "stream",
     "text": [
      "23\n"
     ]
    }
   ],
   "source": [
    "# 1. megoldás\n",
    "n = 0\n",
    "for i in range(10, 100): # végigmegyünk a kétjegyű számokon\n",
    "    s = sum([int(d) for d in str(i)]) # számjegyek összege\n",
    "    if i % s == 0:\n",
    "        n += 1\n",
    "print(n)"
   ]
  },
  {
   "cell_type": "code",
   "execution_count": 11,
   "metadata": {},
   "outputs": [
    {
     "name": "stdout",
     "output_type": "stream",
     "text": [
      "23\n"
     ]
    }
   ],
   "source": [
    "# 2. megoldás\n",
    "n = 0\n",
    "for t in range(1, 10):  # tízesek\n",
    "    for e in range(10): # egyesek\n",
    "        if (t * 10 + e) % (t + e) == 0:\n",
    "            n += 1\n",
    "print(n)"
   ]
  },
  {
   "cell_type": "markdown",
   "metadata": {},
   "source": [
    "### 2. feladat\n",
    "\n",
    "Az $a$, $b$ és $c$ pozitív egész számok pitagoraszi számhármast alkotnak, ha $a^2 + b^2 = c^2$. Például a $(3, 4, 5)$ számhármas pitagoraszi, mivel $3^2 + 4^2 = 5^2$.\n",
    "\n",
    "- Hány olyan pitagoraszi számhármas létezik, melyre $c \\leq 500$? Az $(a, b, c)$ és a $(b, a, c)$ hármast ne tekintsük különbözőnek!\n",
    "- Az előbbi számhármasok között hány primitív van, azaz hány oyan van, melyre $a$ és $b$ relatív prímek?"
   ]
  },
  {
   "cell_type": "code",
   "execution_count": 12,
   "metadata": {},
   "outputs": [],
   "source": [
    "# 1. megoldás\n",
    "triplets = set()\n",
    "for c in range(1, 501):\n",
    "    for a in range(1, c):\n",
    "        for b in range(a, c):\n",
    "            if b**2 + a**2 == c**2:\n",
    "                triplets.add((a, b, c))"
   ]
  },
  {
   "cell_type": "code",
   "execution_count": 14,
   "metadata": {},
   "outputs": [
    {
     "data": {
      "text/plain": [
       "386"
      ]
     },
     "execution_count": 14,
     "metadata": {},
     "output_type": "execute_result"
    }
   ],
   "source": [
    "len(triplets)"
   ]
  },
  {
   "cell_type": "code",
   "execution_count": 19,
   "metadata": {},
   "outputs": [],
   "source": [
    "# 2. megoldás\n",
    "triplets = set()\n",
    "for c in range(1, 501):\n",
    "    for a in range(1, c):\n",
    "        b = int((c**2 - a**2)**0.5 + 0.5)\n",
    "        if b >= a and a**2 + b**2 == c**2:\n",
    "            triplets.add((a, b, c))"
   ]
  },
  {
   "cell_type": "code",
   "execution_count": 20,
   "metadata": {},
   "outputs": [
    {
     "data": {
      "text/plain": [
       "386"
      ]
     },
     "execution_count": 20,
     "metadata": {},
     "output_type": "execute_result"
    }
   ],
   "source": [
    "len(triplets)"
   ]
  },
  {
   "cell_type": "markdown",
   "metadata": {},
   "source": [
    "### 3. feladat\n",
    "\n",
    "Készítsünk programot, amely a [Conway-féle életjátékot](https://hu.wikipedia.org/wiki/%C3%89letj%C3%A1t%C3%A9k) valósítja meg!"
   ]
  },
  {
   "cell_type": "code",
   "execution_count": 1,
   "metadata": {},
   "outputs": [],
   "source": [
    "# Adjuk meg a kezdőállapotot egy sztringben!\n",
    "# (Lehetne fájlból is beolvasni, de az egyszerűség kedvéért használjunk most sztringet!)\n",
    "\n",
    "worldstr = '''\n",
    "....................\n",
    "....................\n",
    "....................\n",
    "....................\n",
    "....................\n",
    "....................\n",
    "....................\n",
    "....................\n",
    ".........oo.........\n",
    "........oo..........\n",
    ".........o..........\n",
    "....................\n",
    "....................\n",
    "....................\n",
    "....................\n",
    "....................\n",
    "....................\n",
    "....................\n",
    "....................\n",
    "....................\n",
    "'''.strip()"
   ]
  },
  {
   "cell_type": "code",
   "execution_count": 2,
   "metadata": {},
   "outputs": [],
   "source": [
    "# kezdőállapot beolvasása listák listájába\n",
    "world = [list(row) for row in worldstr.split('\\n')]"
   ]
  },
  {
   "cell_type": "code",
   "execution_count": 3,
   "metadata": {},
   "outputs": [],
   "source": [
    "def display_world(world):\n",
    "    for row in world:\n",
    "        print(''.join(row))"
   ]
  },
  {
   "cell_type": "code",
   "execution_count": null,
   "metadata": {},
   "outputs": [],
   "source": [
    "# - A sejt túléli a kört, ha két vagy három szomszédja van.\n",
    "# - A sejt elpusztul, ha kettőnél kevesebb (elszigetelődés), vagy háromnál több (túlnépesedés) szomszédja van.\n",
    "# - Új sejt születik minden olyan cellában, melynek környezetében pontosan három sejt található.\n",
    "# - Az átlós szomszédság is számít."
   ]
  },
  {
   "cell_type": "code",
   "execution_count": 4,
   "metadata": {},
   "outputs": [],
   "source": [
    "import copy\n",
    "\n",
    "def count_neighbors(world, i, j):\n",
    "    nb = 0 # szomszédok száma\n",
    "    for di in [-1, 0, 1]: # végigmegyünk a szomszédos sorokon\n",
    "        for dj in [-1, 0, 1]: # végigmegyünk a szomszédos oszlopokon\n",
    "            if di == 0 and dj == 0: # önmagát ne számítsuk szomszédként\n",
    "                continue\n",
    "            if j + dj < 0 or i + di < 0: # negatív indext ne használjunk\n",
    "                continue\n",
    "            try:\n",
    "                if world[i + di][j + dj] == 'o': # ha találtunk szomszédot\n",
    "                    nb += 1\n",
    "            except IndexError:\n",
    "                pass\n",
    "    return nb\n",
    "\n",
    "def update_world(world):\n",
    "    nrows = len(world)\n",
    "    ncols = len(world[0])\n",
    "    new_world = copy.deepcopy(world) # másolat készítése\n",
    "    for i in range(nrows):\n",
    "        for j in range(ncols):\n",
    "            nb = count_neighbors(world, i, j)\n",
    "            if nb < 2 or nb > 3: # elpusztul a sejt\n",
    "                new_world[i][j] = '.'\n",
    "            elif nb == 3: # új sejt születik\n",
    "                new_world[i][j] = 'o'\n",
    "    return new_world"
   ]
  },
  {
   "cell_type": "code",
   "execution_count": 5,
   "metadata": {},
   "outputs": [
    {
     "name": "stdout",
     "output_type": "stream",
     "text": [
      "....................\n",
      "....................\n",
      "....................\n",
      "....................\n",
      "....................\n",
      "....................\n",
      "....................\n",
      "....................\n",
      ".........oo.........\n",
      "........oo..........\n",
      ".........o..........\n",
      "....................\n",
      "....................\n",
      "....................\n",
      "....................\n",
      "....................\n",
      "....................\n",
      "....................\n",
      "....................\n",
      "....................\n",
      "\n",
      "....................\n",
      "....................\n",
      "....................\n",
      "....................\n",
      "....................\n",
      "....................\n",
      "....................\n",
      "....................\n",
      "........ooo.........\n",
      "........o...........\n",
      "........oo..........\n",
      "....................\n",
      "....................\n",
      "....................\n",
      "....................\n",
      "....................\n",
      "....................\n",
      "....................\n",
      "....................\n",
      "....................\n",
      "\n",
      "....................\n",
      "....................\n",
      "....................\n",
      "....................\n",
      "....................\n",
      "....................\n",
      "....................\n",
      ".........o..........\n",
      "........oo..........\n",
      ".......o..o.........\n",
      "........oo..........\n",
      "....................\n",
      "....................\n",
      "....................\n",
      "....................\n",
      "....................\n",
      "....................\n",
      "....................\n",
      "....................\n",
      "....................\n"
     ]
    },
    {
     "ename": "KeyboardInterrupt",
     "evalue": "Interrupted by user",
     "output_type": "error",
     "traceback": [
      "\u001b[1;31m---------------------------------------------------------------------------\u001b[0m",
      "\u001b[1;31mKeyboardInterrupt\u001b[0m                         Traceback (most recent call last)",
      "\u001b[1;32m<ipython-input-5-ab312b5cc2bd>\u001b[0m in \u001b[0;36m<module>\u001b[1;34m\u001b[0m\n\u001b[0;32m      2\u001b[0m     \u001b[0mdisplay_world\u001b[0m\u001b[1;33m(\u001b[0m\u001b[0mworld\u001b[0m\u001b[1;33m)\u001b[0m\u001b[1;33m\u001b[0m\u001b[1;33m\u001b[0m\u001b[0m\n\u001b[0;32m      3\u001b[0m     \u001b[0mworld\u001b[0m \u001b[1;33m=\u001b[0m \u001b[0mupdate_world\u001b[0m\u001b[1;33m(\u001b[0m\u001b[0mworld\u001b[0m\u001b[1;33m)\u001b[0m\u001b[1;33m\u001b[0m\u001b[1;33m\u001b[0m\u001b[0m\n\u001b[1;32m----> 4\u001b[1;33m     \u001b[0minput\u001b[0m\u001b[1;33m(\u001b[0m\u001b[1;33m)\u001b[0m\u001b[1;33m\u001b[0m\u001b[1;33m\u001b[0m\u001b[0m\n\u001b[0m",
      "\u001b[1;32mC:\\ProgramData\\Anaconda3\\lib\\site-packages\\ipykernel\\kernelbase.py\u001b[0m in \u001b[0;36mraw_input\u001b[1;34m(self, prompt)\u001b[0m\n\u001b[0;32m    858\u001b[0m                 \u001b[1;34m\"raw_input was called, but this frontend does not support input requests.\"\u001b[0m\u001b[1;33m\u001b[0m\u001b[1;33m\u001b[0m\u001b[0m\n\u001b[0;32m    859\u001b[0m             )\n\u001b[1;32m--> 860\u001b[1;33m         return self._input_request(str(prompt),\n\u001b[0m\u001b[0;32m    861\u001b[0m             \u001b[0mself\u001b[0m\u001b[1;33m.\u001b[0m\u001b[0m_parent_ident\u001b[0m\u001b[1;33m,\u001b[0m\u001b[1;33m\u001b[0m\u001b[1;33m\u001b[0m\u001b[0m\n\u001b[0;32m    862\u001b[0m             \u001b[0mself\u001b[0m\u001b[1;33m.\u001b[0m\u001b[0m_parent_header\u001b[0m\u001b[1;33m,\u001b[0m\u001b[1;33m\u001b[0m\u001b[1;33m\u001b[0m\u001b[0m\n",
      "\u001b[1;32mC:\\ProgramData\\Anaconda3\\lib\\site-packages\\ipykernel\\kernelbase.py\u001b[0m in \u001b[0;36m_input_request\u001b[1;34m(self, prompt, ident, parent, password)\u001b[0m\n\u001b[0;32m    902\u001b[0m             \u001b[1;32mexcept\u001b[0m \u001b[0mKeyboardInterrupt\u001b[0m\u001b[1;33m:\u001b[0m\u001b[1;33m\u001b[0m\u001b[1;33m\u001b[0m\u001b[0m\n\u001b[0;32m    903\u001b[0m                 \u001b[1;31m# re-raise KeyboardInterrupt, to truncate traceback\u001b[0m\u001b[1;33m\u001b[0m\u001b[1;33m\u001b[0m\u001b[1;33m\u001b[0m\u001b[0m\n\u001b[1;32m--> 904\u001b[1;33m                 \u001b[1;32mraise\u001b[0m \u001b[0mKeyboardInterrupt\u001b[0m\u001b[1;33m(\u001b[0m\u001b[1;34m\"Interrupted by user\"\u001b[0m\u001b[1;33m)\u001b[0m \u001b[1;32mfrom\u001b[0m \u001b[1;32mNone\u001b[0m\u001b[1;33m\u001b[0m\u001b[1;33m\u001b[0m\u001b[0m\n\u001b[0m\u001b[0;32m    905\u001b[0m             \u001b[1;32mexcept\u001b[0m \u001b[0mException\u001b[0m \u001b[1;32mas\u001b[0m \u001b[0me\u001b[0m\u001b[1;33m:\u001b[0m\u001b[1;33m\u001b[0m\u001b[1;33m\u001b[0m\u001b[0m\n\u001b[0;32m    906\u001b[0m                 \u001b[0mself\u001b[0m\u001b[1;33m.\u001b[0m\u001b[0mlog\u001b[0m\u001b[1;33m.\u001b[0m\u001b[0mwarning\u001b[0m\u001b[1;33m(\u001b[0m\u001b[1;34m\"Invalid Message:\"\u001b[0m\u001b[1;33m,\u001b[0m \u001b[0mexc_info\u001b[0m\u001b[1;33m=\u001b[0m\u001b[1;32mTrue\u001b[0m\u001b[1;33m)\u001b[0m\u001b[1;33m\u001b[0m\u001b[1;33m\u001b[0m\u001b[0m\n",
      "\u001b[1;31mKeyboardInterrupt\u001b[0m: Interrupted by user"
     ]
    }
   ],
   "source": [
    "while True:\n",
    "    display_world(world)\n",
    "    world = update_world(world)\n",
    "    input()"
   ]
  },
  {
   "cell_type": "markdown",
   "metadata": {},
   "source": [
    "### Feladatok\n",
    "- Teszteljük a játékot más kiinduló állapottal!\n",
    "- Módosítsuk úgy a játékot, hogy:\n",
    "    - a játék addig folytatódjon, amíg a felhasználó a 'q' betűt meg nem adja (azaz minden más input esetén folytassuk, de a 'q' inputra fejezzük be a futást)\n",
    "    - a 'világ' más méretű legyen (pl. 10x10-es)\n",
    "    - érvényesítsünk más szabály(oka)t (pl. más feltételek mellett szülessen új sejt, vagy pusztuljon el egy élő sejt)"
   ]
  }
 ],
 "metadata": {
  "kernelspec": {
   "display_name": "Python 3",
   "language": "python",
   "name": "python3"
  },
  "language_info": {
   "codemirror_mode": {
    "name": "ipython",
    "version": 3
   },
   "file_extension": ".py",
   "mimetype": "text/x-python",
   "name": "python",
   "nbconvert_exporter": "python",
   "pygments_lexer": "ipython3",
   "version": "3.8.5"
  }
 },
 "nbformat": 4,
 "nbformat_minor": 2
}
