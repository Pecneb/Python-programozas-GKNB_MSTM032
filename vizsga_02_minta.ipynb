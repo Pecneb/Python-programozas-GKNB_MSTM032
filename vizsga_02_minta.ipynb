{
 "cells": [
  {
   "cell_type": "markdown",
   "metadata": {},
   "source": [
    "## Python programozás (GKNB_MSTM032) Vizsgaminta 2."
   ]
  },
  {
   "cell_type": "markdown",
   "metadata": {},
   "source": [
    "### 1. feladat [6p]\n",
    "\n",
    "A `planets` lista a Naprendszer bolygóinak tömegét és (átlagos) sugarát tartalmazza. Készíts programot, amely kiszámítja, hogy a bolygók felszínén érvényes nehézségi gyorsulás hányszorosa a földinek! A nehézségi gyorsulás képlete\n",
    "$$g = G \\frac{M}{R^2},$$\n",
    "ahol $G = 6,67408 \\cdot 10^{-11} \\frac{Nm^2}{kg^2}$ az univerzális gravitációs állandó, $M$ a bolygó tömege, $R$ pedig a bolygó tömegközéppontjától mért távolság. A program ne csak a `planets` listára működjön, hanem bármely ugyanilyen formátumú, bemenetre is! Elvárt futási eredmény:\n",
    "```\n",
    "\n",
    "Merkúr: 0.38\n",
    "Vénusz: 0.90\n",
    "Föld: 1.00\n",
    "...\n",
    "```"
   ]
  },
  {
   "cell_type": "code",
   "execution_count": 2,
   "metadata": {},
   "outputs": [],
   "source": [
    "planets = [\n",
    "    # bolygó neve,  tömeg(10^21kg),  sugár(km)\n",
    "    ('Merkúr',      330.2,           2439.7),\n",
    "    ('Vénusz',      4868.5,          6051.8),\n",
    "    ('Föld',        5973.6,          6371.0),\n",
    "    ('Mars',        641.85,          3389.5),\n",
    "    ('Jupiter',     1898600,         69911),\n",
    "    ('Szaturnusz',  568460,          58232),\n",
    "    ('Uránusz',     86832,           25362),\n",
    "    ('Neptunusz',   102430,          24622)\n",
    "]"
   ]
  },
  {
   "cell_type": "markdown",
   "metadata": {},
   "source": [
    "### 2. feladat [8p]\n",
    "\n",
    "Készíts programot, amely bekéri a felhasználótól $n$ értékét, szimulál $n$ darab kockadobást, majd kiírja, hogy mi volt a leghosszabb 6-os sorozat hossza! Példa futási eredmény:\n",
    "```\n",
    "\n",
    "n: 50\n",
    "31554643644341364414422455514666664664563666113524\n",
    "A leghosszabb 6-os sorozat hossza: 5\n",
    "```"
   ]
  },
  {
   "cell_type": "markdown",
   "metadata": {},
   "source": [
    "### 3. feladat [10p]\n",
    "\n",
    "A [hotels.txt](hotels.txt) szövegfájl Las Vegas-i szállodák értékeléséről tartalmaz adatokat. Minden sor egy szállóvendég által kiosztott értékeléshez tartozik. Készíts programot, amely kiszámítja és kiírja az alábbi statisztikákat:\n",
    "\n",
    "- Hány db értékelés van összesen az egyes szállodákra vonatkozóan?\n",
    "- A szobák száma (`Nr. rooms`) alapján melyik az öt legnagyobb szálloda?\n",
    "- Hány ponttal magasabb a medencével (`Pool`) rendelkező szállodák átlagos értékelése (`Score`) a többi szálloda átlagos értékelésénél?"
   ]
  }
 ],
 "metadata": {
  "kernelspec": {
   "display_name": "Python 3",
   "language": "python",
   "name": "python3"
  },
  "language_info": {
   "codemirror_mode": {
    "name": "ipython",
    "version": 3
   },
   "file_extension": ".py",
   "mimetype": "text/x-python",
   "name": "python",
   "nbconvert_exporter": "python",
   "pygments_lexer": "ipython3",
   "version": "3.8.5"
  }
 },
 "nbformat": 4,
 "nbformat_minor": 1
}
