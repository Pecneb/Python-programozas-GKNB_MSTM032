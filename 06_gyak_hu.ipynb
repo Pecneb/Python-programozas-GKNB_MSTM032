{
 "cells": [
  {
   "cell_type": "markdown",
   "metadata": {},
   "source": [
    "### Előadás anyag\n",
    "Nézzük meg a 6. heti előadás anyagát tartalmazó Jupyter notebook (06_ea_hu.ipynb) tartalmát! Futtassuk az egyes cellákat, módosítsunk, kisérletezzünk szabadon!"
   ]
  },
  {
   "cell_type": "markdown",
   "metadata": {},
   "source": [
    "### Feladatok\n",
    "Készítsünk függvényt az alábbi feladat megoldására, majd teszteljük a függvény működését (azaz hívjuk meg valamilyen tesztadattal és írjuk ki a kapott eredményt)!\n",
    "- Keverjük meg egy szó karaktereit véletlenszerűen úgy, hogy az első és utolsó betű maradjon a helyén! (Pl. 'valami' -> 'vmlaai', 'van' -> 'van')"
   ]
  },
  {
   "cell_type": "code",
   "execution_count": null,
   "metadata": {},
   "outputs": [],
   "source": []
  },
  {
   "cell_type": "markdown",
   "metadata": {},
   "source": [
    "### Házi feladat\n",
    "Készítsünk függvényt az alábbi feladat megoldására!\n",
    "- Egy sztringben egy olyan mondat van, amiben a szavakat egy-egy szóköz választja el. Készítsünk egy olyan új mondatot, amelyben minden szót átalakítunk a fentebbi függvény segítségével! Nézzük meg, hogy el tudjuk-e olvasni az átalakított szöveget közel hasonló sebességgel, mint az eredetit! (Pl. 'Na el tudod olvasni ezt a szöveget is gyorsan' -> 'Na el toudd onsvali ezt a sgveezöt is gaorysn')"
   ]
  }
 ],
 "metadata": {
  "kernelspec": {
   "display_name": "Python 3",
   "language": "python",
   "name": "python3"
  },
  "language_info": {
   "codemirror_mode": {
    "name": "ipython",
    "version": 3
   },
   "file_extension": ".py",
   "mimetype": "text/x-python",
   "name": "python",
   "nbconvert_exporter": "python",
   "pygments_lexer": "ipython3",
   "version": "3.8.5"
  }
 },
 "nbformat": 4,
 "nbformat_minor": 2
}
